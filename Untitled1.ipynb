{
 "cells": [
  {
   "cell_type": "code",
   "execution_count": 139,
   "id": "333f4819-c9ba-4a90-8e7b-ea4b95c3ab60",
   "metadata": {},
   "outputs": [],
   "source": [
    "using ReadableRegex"
   ]
  },
  {
   "cell_type": "code",
   "execution_count": 250,
   "id": "2b873652-b7fa-4ad0-b9f0-e3a33334083b",
   "metadata": {},
   "outputs": [],
   "source": [
    "s = read(\"./example/examplepluto.jl\", String);"
   ]
  },
  {
   "cell_type": "code",
   "execution_count": 263,
   "id": "40056dcd-374a-45ce-a76a-d1b944e6438a",
   "metadata": {},
   "outputs": [
    {
     "data": {
      "text/plain": [
       "6-element Vector{SubString{String}}:\n",
       " \"using Plots\\n\\n\"\n",
       " \"md\\\"\\\"\\\"\\n# Chapter\\n## Section\\n### Subsection\\n#### Subsubsection\\nMy text here with *italics*, with **bold**, and a [link](https://davibarreira.github.io/).\\n\\nAdding some math expression here with \\$x=10\\$ and\\n```math\\nd(\\\\omega(t_0),\\\\omega(t_1)) \\\\leq \\\\int^{t_1}_{t_0}g(s) ds.\\n```\\n\\nAdding some code like `plots`. Note that the `using plots`\\n\\\"\\\"\\\"\\n\\n\"\n",
       " \"begin\\n\\ty(x) = sin(x)\\n\\tplot(y)\\nend;\\t \\n\\n\\n\"\n",
       " \"A = [10,10,10]; \\n\\n\"\n",
       " \"\\n\\n\"\n",
       " \"\\n\\n\""
      ]
     },
     "execution_count": 263,
     "metadata": {},
     "output_type": "execute_result"
    }
   ],
   "source": [
    "cells = split(s, \"# ╔═╡ \");\n",
    "codes = [cell[1:36] for cell in cells[2:end-1]]\n",
    "contents = [cell[38:end] for cell in cells[2:end-3]]"
   ]
  },
  {
   "cell_type": "code",
   "execution_count": 262,
   "id": "a124054b-258a-4c2b-b23a-18e1a1fca7e1",
   "metadata": {},
   "outputs": [
    {
     "data": {
      "text/plain": [
       "6-element Vector{SubString{String}}:\n",
       " \"using Plots\\n\\n\"\n",
       " \"md\\\"\\\"\\\"\\n# Chapter\\n## Section\\n### Subsection\\n#### Subsubsection\\nMy text here with *italics*, with **bold**, and a [link](https://davibarreira.github.io/).\\n\\nAdding some math expression here with \\$x=10\\$ and\\n```math\\nd(\\\\omega(t_0),\\\\omega(t_1)) \\\\leq \\\\int^{t_1}_{t_0}g(s) ds.\\n```\\n\\nAdding some code like `plots`. Note that the `using plots`\\n\\\"\\\"\\\"\\n\\n\"\n",
       " \"begin\\n\\ty(x) = sin(x)\\n\\tplot(y)\\nend;\\t \\n\\n\\n\"\n",
       " \"A = [10,10,10]; \\n\\n\"\n",
       " \"\\n\\n\"\n",
       " \"\\n\\n\""
      ]
     },
     "execution_count": 262,
     "metadata": {},
     "output_type": "execute_result"
    }
   ],
   "source": []
  },
  {
   "cell_type": "code",
   "execution_count": 252,
   "id": "412d4081-6e94-4f4d-903e-9af949a3fd9f",
   "metadata": {},
   "outputs": [
    {
     "data": {
      "text/plain": [
       "\"e1009c9c-1567-49ed-9c29-1fa081089b07\\nA = [10,10,10]; \\n\\n\""
      ]
     },
     "execution_count": 252,
     "metadata": {},
     "output_type": "execute_result"
    }
   ],
   "source": [
    "t= cells[5]"
   ]
  },
  {
   "cell_type": "code",
   "execution_count": 253,
   "id": "944b09ff-4401-4dc7-9fb6-f932c08a3993",
   "metadata": {},
   "outputs": [
    {
     "name": "stdout",
     "output_type": "stream",
     "text": [
      "tag no output\n"
     ]
    }
   ],
   "source": [
    "p = findlast(\";\",t)\n",
    "if p ≢ nothing\n",
    "    if match(Regex(look_for(\";\",before=one_or_more(maybe((\"\\\\n\",\"\\\\t\"))))),t[p[1]:end]) === nothing\n",
    "        println(\"tag output\")\n",
    "    else\n",
    "        println(\"tag no output\")\n",
    "    end\n",
    "end"
   ]
  },
  {
   "cell_type": "code",
   "execution_count": null,
   "id": "031e036e-a2c9-486c-9028-4a8f06737785",
   "metadata": {},
   "outputs": [],
   "source": [
    "cells[4]"
   ]
  },
  {
   "cell_type": "code",
   "execution_count": 202,
   "id": "adac020f-0a6a-41e8-b162-6c951146f63b",
   "metadata": {},
   "outputs": [],
   "source": [
    "c = match(Regex(look_for(\";\",before=\"end\")),cells[4])"
   ]
  },
  {
   "cell_type": "code",
   "execution_count": 128,
   "id": "13cc4296-bd73-4290-9e21-c28e78a53eb6",
   "metadata": {},
   "outputs": [],
   "source": [
    "parsed = []\n",
    "for (i, cell) ∈ enumerate(cells)\n",
    "    p = cell |> IOBuffer |> eachline |> collect |> x -> join(x[2:end], \"\\n\")\n",
    "    push!(parsed,p)\n",
    "end"
   ]
  },
  {
   "cell_type": "code",
   "execution_count": 135,
   "id": "d7284385-4ce7-479b-b35c-a9a420bea0e6",
   "metadata": {},
   "outputs": [
    {
     "data": {
      "text/plain": [
       "\"begin\\n\\ty(x) = sin(x)\\n\\tplot(y)\\nend\\n\""
      ]
     },
     "execution_count": 135,
     "metadata": {},
     "output_type": "execute_result"
    }
   ],
   "source": [
    "p = parsed[4]"
   ]
  },
  {
   "cell_type": "code",
   "execution_count": 151,
   "id": "e5e8faf4-ab9a-41a2-9e03-7e871c6da201",
   "metadata": {},
   "outputs": [
    {
     "data": {
      "text/plain": [
       "\"begin\\n\\ty(x) = sin(x)\\n\\tplot(y)\\nend\\n\""
      ]
     },
     "execution_count": 151,
     "metadata": {},
     "output_type": "execute_result"
    }
   ],
   "source": [
    "p"
   ]
  },
  {
   "cell_type": "code",
   "execution_count": 161,
   "id": "8fc7b930-fdeb-4997-b2fe-4373354a6834",
   "metadata": {},
   "outputs": [
    {
     "data": {
      "text/plain": [
       "RegexMatch(\"\\n\\ty(x) = sin(x)\\n\\tplot(y)\\n\")"
      ]
     },
     "execution_count": 161,
     "metadata": {},
     "output_type": "execute_result"
    }
   ],
   "source": [
    "c = match(Regex(look_for(one_or_more(ANY),after=\"begin\",before=\"end\")),p)\n",
    "findall(\"\\n\",)"
   ]
  },
  {
   "cell_type": "code",
   "execution_count": 138,
   "id": "4701d02b-36fe-481d-a8dc-23b5f5b4e429",
   "metadata": {},
   "outputs": [
    {
     "data": {
      "text/plain": [
       "4-element Vector{UnitRange{Int64}}:\n",
       " 6:6\n",
       " 21:21\n",
       " 30:30\n",
       " 34:34"
      ]
     },
     "execution_count": 138,
     "metadata": {},
     "output_type": "execute_result"
    }
   ],
   "source": [
    "if findfirst(\"begin\",p) == 1:5\n",
    "    findall(\"\\n\",parsed[4])\n",
    "end"
   ]
  },
  {
   "cell_type": "code",
   "execution_count": 130,
   "id": "e97a611a-2636-4798-8d03-563d7641f039",
   "metadata": {},
   "outputs": [
    {
     "data": {
      "text/plain": [
       "30:33"
      ]
     },
     "execution_count": 130,
     "metadata": {},
     "output_type": "execute_result"
    }
   ],
   "source": [
    "findlast(\"\\nend\",parsed[4])"
   ]
  },
  {
   "cell_type": "code",
   "execution_count": 41,
   "id": "c6d5ad68-2953-4eb5-abdf-5b2650ea719b",
   "metadata": {},
   "outputs": [
    {
     "data": {
      "text/plain": [
       "\" Cell order:\\n# ╠═9ebf3044-26d2-11ec-34c4-db68b273419f\\n# ╟─598d863b-3f42-4855-90f4-d98604776a4d\\n# ╠═bdad72d3-5744-459f-8627-299908573f40\\n# ╠═e1009c9c-1567-49ed-9c29-1fa081089b07\\n# ╠═39d902cc-221c-4c50-9857-a12a072c0053\\n# ╠═39959601-29b6-49a4-a2d3-70204cec484e\\n# ╟─00000000-0000-0000-0000-000000000001\\n# ╟─00000000-0000-0000-0000-000000000002\\n\""
      ]
     },
     "execution_count": 41,
     "metadata": {},
     "output_type": "execute_result"
    }
   ],
   "source": [
    "c = cells[end]\n",
    "c1 = split(c, \"# ╠\")\n",
    "c"
   ]
  },
  {
   "cell_type": "code",
   "execution_count": 117,
   "id": "b1091fb3-ff8d-4a8f-ba51-7281c2e2caa7",
   "metadata": {},
   "outputs": [
    {
     "data": {
      "text/plain": [
       "\"598d863b-3f42-4855-90f4-d98604776a4d\""
      ]
     },
     "execution_count": 117,
     "metadata": {},
     "output_type": "execute_result"
    }
   ],
   "source": [
    "s = sortedcells[3][4:39]"
   ]
  },
  {
   "cell_type": "code",
   "execution_count": 136,
   "id": "2ec208d3-d9de-4449-af41-24b3a11748cc",
   "metadata": {},
   "outputs": [
    {
     "data": {
      "text/plain": [
       "8-element Vector{Bool}:\n",
       " 1\n",
       " 0\n",
       " 1\n",
       " 1\n",
       " 1\n",
       " 1\n",
       " 0\n",
       " 0"
      ]
     },
     "execution_count": 136,
     "metadata": {},
     "output_type": "execute_result"
    }
   ],
   "source": [
    "r = either(\"# ╠\",\"# ╟\")\n",
    "sortedcells = split(c,Regex(r))\n",
    "sortedcodes = [cell[4:39] for cell in sortedcells[2:end]]\n",
    "order = [findfirst(isequal(scode),codes) for scode in  sortedcodes]\n",
    "view  = [occursin(\"═\",c) for c in sortedcells[2:end]]"
   ]
  },
  {
   "cell_type": "code",
   "execution_count": 172,
   "id": "a089922b-4d07-4dd3-898e-dcd74fd300e5",
   "metadata": {},
   "outputs": [
    {
     "data": {
      "image/svg+xml": [
       "<?xml version=\"1.0\" encoding=\"utf-8\"?>\n",
       "<svg xmlns=\"http://www.w3.org/2000/svg\" xmlns:xlink=\"http://www.w3.org/1999/xlink\" width=\"600\" height=\"400\" viewBox=\"0 0 2400 1600\">\n",
       "<defs>\n",
       "  <clipPath id=\"clip670\">\n",
       "    <rect x=\"0\" y=\"0\" width=\"2400\" height=\"1600\"/>\n",
       "  </clipPath>\n",
       "</defs>\n",
       "<path clip-path=\"url(#clip670)\" d=\"\n",
       "M0 1600 L2400 1600 L2400 0 L0 0  Z\n",
       "  \" fill=\"#ffffff\" fill-rule=\"evenodd\" fill-opacity=\"1\"/>\n",
       "<defs>\n",
       "  <clipPath id=\"clip671\">\n",
       "    <rect x=\"480\" y=\"0\" width=\"1681\" height=\"1600\"/>\n",
       "  </clipPath>\n",
       "</defs>\n",
       "<path clip-path=\"url(#clip670)\" d=\"\n",
       "M193.936 1486.45 L2352.76 1486.45 L2352.76 47.2441 L193.936 47.2441  Z\n",
       "  \" fill=\"#ffffff\" fill-rule=\"evenodd\" fill-opacity=\"1\"/>\n",
       "<defs>\n",
       "  <clipPath id=\"clip672\">\n",
       "    <rect x=\"193\" y=\"47\" width=\"2160\" height=\"1440\"/>\n",
       "  </clipPath>\n",
       "</defs>\n",
       "<polyline clip-path=\"url(#clip672)\" style=\"stroke:#000000; stroke-linecap:butt; stroke-linejoin:round; stroke-width:2; stroke-opacity:0.1; fill:none\" points=\"\n",
       "  458.697,1486.45 458.697,47.2441 \n",
       "  \"/>\n",
       "<polyline clip-path=\"url(#clip672)\" style=\"stroke:#000000; stroke-linecap:butt; stroke-linejoin:round; stroke-width:2; stroke-opacity:0.1; fill:none\" points=\"\n",
       "  866.021,1486.45 866.021,47.2441 \n",
       "  \"/>\n",
       "<polyline clip-path=\"url(#clip672)\" style=\"stroke:#000000; stroke-linecap:butt; stroke-linejoin:round; stroke-width:2; stroke-opacity:0.1; fill:none\" points=\"\n",
       "  1273.35,1486.45 1273.35,47.2441 \n",
       "  \"/>\n",
       "<polyline clip-path=\"url(#clip672)\" style=\"stroke:#000000; stroke-linecap:butt; stroke-linejoin:round; stroke-width:2; stroke-opacity:0.1; fill:none\" points=\"\n",
       "  1680.67,1486.45 1680.67,47.2441 \n",
       "  \"/>\n",
       "<polyline clip-path=\"url(#clip672)\" style=\"stroke:#000000; stroke-linecap:butt; stroke-linejoin:round; stroke-width:2; stroke-opacity:0.1; fill:none\" points=\"\n",
       "  2087.99,1486.45 2087.99,47.2441 \n",
       "  \"/>\n",
       "<polyline clip-path=\"url(#clip670)\" style=\"stroke:#000000; stroke-linecap:butt; stroke-linejoin:round; stroke-width:4; stroke-opacity:1; fill:none\" points=\"\n",
       "  193.936,1486.45 2352.76,1486.45 \n",
       "  \"/>\n",
       "<polyline clip-path=\"url(#clip670)\" style=\"stroke:#000000; stroke-linecap:butt; stroke-linejoin:round; stroke-width:4; stroke-opacity:1; fill:none\" points=\"\n",
       "  458.697,1486.45 458.697,1467.55 \n",
       "  \"/>\n",
       "<polyline clip-path=\"url(#clip670)\" style=\"stroke:#000000; stroke-linecap:butt; stroke-linejoin:round; stroke-width:4; stroke-opacity:1; fill:none\" points=\"\n",
       "  866.021,1486.45 866.021,1467.55 \n",
       "  \"/>\n",
       "<polyline clip-path=\"url(#clip670)\" style=\"stroke:#000000; stroke-linecap:butt; stroke-linejoin:round; stroke-width:4; stroke-opacity:1; fill:none\" points=\"\n",
       "  1273.35,1486.45 1273.35,1467.55 \n",
       "  \"/>\n",
       "<polyline clip-path=\"url(#clip670)\" style=\"stroke:#000000; stroke-linecap:butt; stroke-linejoin:round; stroke-width:4; stroke-opacity:1; fill:none\" points=\"\n",
       "  1680.67,1486.45 1680.67,1467.55 \n",
       "  \"/>\n",
       "<polyline clip-path=\"url(#clip670)\" style=\"stroke:#000000; stroke-linecap:butt; stroke-linejoin:round; stroke-width:4; stroke-opacity:1; fill:none\" points=\"\n",
       "  2087.99,1486.45 2087.99,1467.55 \n",
       "  \"/>\n",
       "<path clip-path=\"url(#clip670)\" d=\"M427.598 1532.02 L457.273 1532.02 L457.273 1535.95 L427.598 1535.95 L427.598 1532.02 Z\" fill=\"#000000\" fill-rule=\"evenodd\" fill-opacity=\"1\" /><path clip-path=\"url(#clip670)\" d=\"M480.213 1518.36 L468.408 1536.81 L480.213 1536.81 L480.213 1518.36 M478.986 1514.29 L484.866 1514.29 L484.866 1536.81 L489.796 1536.81 L489.796 1540.7 L484.866 1540.7 L484.866 1548.85 L480.213 1548.85 L480.213 1540.7 L464.611 1540.7 L464.611 1536.19 L478.986 1514.29 Z\" fill=\"#000000\" fill-rule=\"evenodd\" fill-opacity=\"1\" /><path clip-path=\"url(#clip670)\" d=\"M835.964 1532.02 L865.639 1532.02 L865.639 1535.95 L835.964 1535.95 L835.964 1532.02 Z\" fill=\"#000000\" fill-rule=\"evenodd\" fill-opacity=\"1\" /><path clip-path=\"url(#clip670)\" d=\"M879.76 1544.91 L896.079 1544.91 L896.079 1548.85 L874.135 1548.85 L874.135 1544.91 Q876.797 1542.16 881.38 1537.53 Q885.987 1532.88 887.167 1531.53 Q889.413 1529.01 890.292 1527.27 Q891.195 1525.51 891.195 1523.82 Q891.195 1521.07 889.25 1519.33 Q887.329 1517.6 884.227 1517.6 Q882.028 1517.6 879.575 1518.36 Q877.144 1519.13 874.366 1520.68 L874.366 1515.95 Q877.19 1514.82 879.644 1514.24 Q882.098 1513.66 884.135 1513.66 Q889.505 1513.66 892.7 1516.35 Q895.894 1519.03 895.894 1523.52 Q895.894 1525.65 895.084 1527.57 Q894.297 1529.47 892.19 1532.07 Q891.612 1532.74 888.51 1535.95 Q885.408 1539.15 879.76 1544.91 Z\" fill=\"#000000\" fill-rule=\"evenodd\" fill-opacity=\"1\" /><path clip-path=\"url(#clip670)\" d=\"M1273.35 1517.37 Q1269.73 1517.37 1267.91 1520.93 Q1266.1 1524.47 1266.1 1531.6 Q1266.1 1538.71 1267.91 1542.27 Q1269.73 1545.82 1273.35 1545.82 Q1276.98 1545.82 1278.79 1542.27 Q1280.61 1538.71 1280.61 1531.6 Q1280.61 1524.47 1278.79 1520.93 Q1276.98 1517.37 1273.35 1517.37 M1273.35 1513.66 Q1279.16 1513.66 1282.21 1518.27 Q1285.29 1522.85 1285.29 1531.6 Q1285.29 1540.33 1282.21 1544.94 Q1279.16 1549.52 1273.35 1549.52 Q1267.54 1549.52 1264.46 1544.94 Q1261.4 1540.33 1261.4 1531.6 Q1261.4 1522.85 1264.46 1518.27 Q1267.54 1513.66 1273.35 1513.66 Z\" fill=\"#000000\" fill-rule=\"evenodd\" fill-opacity=\"1\" /><path clip-path=\"url(#clip670)\" d=\"M1675.32 1544.91 L1691.64 1544.91 L1691.64 1548.85 L1669.7 1548.85 L1669.7 1544.91 Q1672.36 1542.16 1676.94 1537.53 Q1681.55 1532.88 1682.73 1531.53 Q1684.98 1529.01 1685.86 1527.27 Q1686.76 1525.51 1686.76 1523.82 Q1686.76 1521.07 1684.81 1519.33 Q1682.89 1517.6 1679.79 1517.6 Q1677.59 1517.6 1675.14 1518.36 Q1672.71 1519.13 1669.93 1520.68 L1669.93 1515.95 Q1672.75 1514.82 1675.21 1514.24 Q1677.66 1513.66 1679.7 1513.66 Q1685.07 1513.66 1688.26 1516.35 Q1691.46 1519.03 1691.46 1523.52 Q1691.46 1525.65 1690.65 1527.57 Q1689.86 1529.47 1687.75 1532.07 Q1687.18 1532.74 1684.07 1535.95 Q1680.97 1539.15 1675.32 1544.91 Z\" fill=\"#000000\" fill-rule=\"evenodd\" fill-opacity=\"1\" /><path clip-path=\"url(#clip670)\" d=\"M2091 1518.36 L2079.2 1536.81 L2091 1536.81 L2091 1518.36 M2089.78 1514.29 L2095.66 1514.29 L2095.66 1536.81 L2100.59 1536.81 L2100.59 1540.7 L2095.66 1540.7 L2095.66 1548.85 L2091 1548.85 L2091 1540.7 L2075.4 1540.7 L2075.4 1536.19 L2089.78 1514.29 Z\" fill=\"#000000\" fill-rule=\"evenodd\" fill-opacity=\"1\" /><polyline clip-path=\"url(#clip672)\" style=\"stroke:#000000; stroke-linecap:butt; stroke-linejoin:round; stroke-width:2; stroke-opacity:0.1; fill:none\" points=\"\n",
       "  193.936,1445.9 2352.76,1445.9 \n",
       "  \"/>\n",
       "<polyline clip-path=\"url(#clip672)\" style=\"stroke:#000000; stroke-linecap:butt; stroke-linejoin:round; stroke-width:2; stroke-opacity:0.1; fill:none\" points=\"\n",
       "  193.936,1106.31 2352.76,1106.31 \n",
       "  \"/>\n",
       "<polyline clip-path=\"url(#clip672)\" style=\"stroke:#000000; stroke-linecap:butt; stroke-linejoin:round; stroke-width:2; stroke-opacity:0.1; fill:none\" points=\"\n",
       "  193.936,766.721 2352.76,766.721 \n",
       "  \"/>\n",
       "<polyline clip-path=\"url(#clip672)\" style=\"stroke:#000000; stroke-linecap:butt; stroke-linejoin:round; stroke-width:2; stroke-opacity:0.1; fill:none\" points=\"\n",
       "  193.936,427.131 2352.76,427.131 \n",
       "  \"/>\n",
       "<polyline clip-path=\"url(#clip672)\" style=\"stroke:#000000; stroke-linecap:butt; stroke-linejoin:round; stroke-width:2; stroke-opacity:0.1; fill:none\" points=\"\n",
       "  193.936,87.5412 2352.76,87.5412 \n",
       "  \"/>\n",
       "<polyline clip-path=\"url(#clip670)\" style=\"stroke:#000000; stroke-linecap:butt; stroke-linejoin:round; stroke-width:4; stroke-opacity:1; fill:none\" points=\"\n",
       "  193.936,1486.45 193.936,47.2441 \n",
       "  \"/>\n",
       "<polyline clip-path=\"url(#clip670)\" style=\"stroke:#000000; stroke-linecap:butt; stroke-linejoin:round; stroke-width:4; stroke-opacity:1; fill:none\" points=\"\n",
       "  193.936,1445.9 212.834,1445.9 \n",
       "  \"/>\n",
       "<polyline clip-path=\"url(#clip670)\" style=\"stroke:#000000; stroke-linecap:butt; stroke-linejoin:round; stroke-width:4; stroke-opacity:1; fill:none\" points=\"\n",
       "  193.936,1106.31 212.834,1106.31 \n",
       "  \"/>\n",
       "<polyline clip-path=\"url(#clip670)\" style=\"stroke:#000000; stroke-linecap:butt; stroke-linejoin:round; stroke-width:4; stroke-opacity:1; fill:none\" points=\"\n",
       "  193.936,766.721 212.834,766.721 \n",
       "  \"/>\n",
       "<polyline clip-path=\"url(#clip670)\" style=\"stroke:#000000; stroke-linecap:butt; stroke-linejoin:round; stroke-width:4; stroke-opacity:1; fill:none\" points=\"\n",
       "  193.936,427.131 212.834,427.131 \n",
       "  \"/>\n",
       "<polyline clip-path=\"url(#clip670)\" style=\"stroke:#000000; stroke-linecap:butt; stroke-linejoin:round; stroke-width:4; stroke-opacity:1; fill:none\" points=\"\n",
       "  193.936,87.5412 212.834,87.5412 \n",
       "  \"/>\n",
       "<path clip-path=\"url(#clip670)\" d=\"M50.9921 1446.35 L80.6679 1446.35 L80.6679 1450.29 L50.9921 1450.29 L50.9921 1446.35 Z\" fill=\"#000000\" fill-rule=\"evenodd\" fill-opacity=\"1\" /><path clip-path=\"url(#clip670)\" d=\"M91.5706 1459.25 L99.2095 1459.25 L99.2095 1432.88 L90.8993 1434.55 L90.8993 1430.29 L99.1632 1428.62 L103.839 1428.62 L103.839 1459.25 L111.478 1459.25 L111.478 1463.18 L91.5706 1463.18 L91.5706 1459.25 Z\" fill=\"#000000\" fill-rule=\"evenodd\" fill-opacity=\"1\" /><path clip-path=\"url(#clip670)\" d=\"M120.922 1457.3 L125.807 1457.3 L125.807 1463.18 L120.922 1463.18 L120.922 1457.3 Z\" fill=\"#000000\" fill-rule=\"evenodd\" fill-opacity=\"1\" /><path clip-path=\"url(#clip670)\" d=\"M145.992 1431.7 Q142.381 1431.7 140.552 1435.27 Q138.746 1438.81 138.746 1445.94 Q138.746 1453.04 140.552 1456.61 Q142.381 1460.15 145.992 1460.15 Q149.626 1460.15 151.431 1456.61 Q153.26 1453.04 153.26 1445.94 Q153.26 1438.81 151.431 1435.27 Q149.626 1431.7 145.992 1431.7 M145.992 1428 Q151.802 1428 154.857 1432.6 Q157.936 1437.19 157.936 1445.94 Q157.936 1454.66 154.857 1459.27 Q151.802 1463.85 145.992 1463.85 Q140.181 1463.85 137.103 1459.27 Q134.047 1454.66 134.047 1445.94 Q134.047 1437.19 137.103 1432.6 Q140.181 1428 145.992 1428 Z\" fill=\"#000000\" fill-rule=\"evenodd\" fill-opacity=\"1\" /><path clip-path=\"url(#clip670)\" d=\"M51.9875 1106.76 L81.6633 1106.76 L81.6633 1110.7 L51.9875 1110.7 L51.9875 1106.76 Z\" fill=\"#000000\" fill-rule=\"evenodd\" fill-opacity=\"1\" /><path clip-path=\"url(#clip670)\" d=\"M101.756 1092.11 Q98.1447 1092.11 96.316 1095.68 Q94.5104 1099.22 94.5104 1106.35 Q94.5104 1113.45 96.316 1117.02 Q98.1447 1120.56 101.756 1120.56 Q105.39 1120.56 107.196 1117.02 Q109.024 1113.45 109.024 1106.35 Q109.024 1099.22 107.196 1095.68 Q105.39 1092.11 101.756 1092.11 M101.756 1088.41 Q107.566 1088.41 110.621 1093.01 Q113.7 1097.6 113.7 1106.35 Q113.7 1115.07 110.621 1119.68 Q107.566 1124.26 101.756 1124.26 Q95.9456 1124.26 92.8669 1119.68 Q89.8114 1115.07 89.8114 1106.35 Q89.8114 1097.6 92.8669 1093.01 Q95.9456 1088.41 101.756 1088.41 Z\" fill=\"#000000\" fill-rule=\"evenodd\" fill-opacity=\"1\" /><path clip-path=\"url(#clip670)\" d=\"M121.918 1117.71 L126.802 1117.71 L126.802 1123.59 L121.918 1123.59 L121.918 1117.71 Z\" fill=\"#000000\" fill-rule=\"evenodd\" fill-opacity=\"1\" /><path clip-path=\"url(#clip670)\" d=\"M137.033 1089.03 L155.39 1089.03 L155.39 1092.97 L141.316 1092.97 L141.316 1101.44 Q142.334 1101.09 143.353 1100.93 Q144.371 1100.74 145.39 1100.74 Q151.177 1100.74 154.556 1103.92 Q157.936 1107.09 157.936 1112.5 Q157.936 1118.08 154.464 1121.18 Q150.992 1124.26 144.672 1124.26 Q142.496 1124.26 140.228 1123.89 Q137.982 1123.52 135.575 1122.78 L135.575 1118.08 Q137.658 1119.22 139.881 1119.77 Q142.103 1120.33 144.58 1120.33 Q148.584 1120.33 150.922 1118.22 Q153.26 1116.11 153.26 1112.5 Q153.26 1108.89 150.922 1106.79 Q148.584 1104.68 144.58 1104.68 Q142.705 1104.68 140.83 1105.1 Q138.978 1105.51 137.033 1106.39 L137.033 1089.03 Z\" fill=\"#000000\" fill-rule=\"evenodd\" fill-opacity=\"1\" /><path clip-path=\"url(#clip670)\" d=\"M100.76 752.52 Q97.1493 752.52 95.3206 756.085 Q93.515 759.627 93.515 766.756 Q93.515 773.863 95.3206 777.427 Q97.1493 780.969 100.76 780.969 Q104.395 780.969 106.2 777.427 Q108.029 773.863 108.029 766.756 Q108.029 759.627 106.2 756.085 Q104.395 752.52 100.76 752.52 M100.76 748.816 Q106.571 748.816 109.626 753.423 Q112.705 758.006 112.705 766.756 Q112.705 775.483 109.626 780.089 Q106.571 784.673 100.76 784.673 Q94.9502 784.673 91.8715 780.089 Q88.816 775.483 88.816 766.756 Q88.816 758.006 91.8715 753.423 Q94.9502 748.816 100.76 748.816 Z\" fill=\"#000000\" fill-rule=\"evenodd\" fill-opacity=\"1\" /><path clip-path=\"url(#clip670)\" d=\"M120.922 778.122 L125.807 778.122 L125.807 784.001 L120.922 784.001 L120.922 778.122 Z\" fill=\"#000000\" fill-rule=\"evenodd\" fill-opacity=\"1\" /><path clip-path=\"url(#clip670)\" d=\"M145.992 752.52 Q142.381 752.52 140.552 756.085 Q138.746 759.627 138.746 766.756 Q138.746 773.863 140.552 777.427 Q142.381 780.969 145.992 780.969 Q149.626 780.969 151.431 777.427 Q153.26 773.863 153.26 766.756 Q153.26 759.627 151.431 756.085 Q149.626 752.52 145.992 752.52 M145.992 748.816 Q151.802 748.816 154.857 753.423 Q157.936 758.006 157.936 766.756 Q157.936 775.483 154.857 780.089 Q151.802 784.673 145.992 784.673 Q140.181 784.673 137.103 780.089 Q134.047 775.483 134.047 766.756 Q134.047 758.006 137.103 753.423 Q140.181 748.816 145.992 748.816 Z\" fill=\"#000000\" fill-rule=\"evenodd\" fill-opacity=\"1\" /><path clip-path=\"url(#clip670)\" d=\"M101.756 412.93 Q98.1447 412.93 96.316 416.495 Q94.5104 420.036 94.5104 427.166 Q94.5104 434.273 96.316 437.837 Q98.1447 441.379 101.756 441.379 Q105.39 441.379 107.196 437.837 Q109.024 434.273 109.024 427.166 Q109.024 420.036 107.196 416.495 Q105.39 412.93 101.756 412.93 M101.756 409.226 Q107.566 409.226 110.621 413.833 Q113.7 418.416 113.7 427.166 Q113.7 435.893 110.621 440.499 Q107.566 445.083 101.756 445.083 Q95.9456 445.083 92.8669 440.499 Q89.8114 435.893 89.8114 427.166 Q89.8114 418.416 92.8669 413.833 Q95.9456 409.226 101.756 409.226 Z\" fill=\"#000000\" fill-rule=\"evenodd\" fill-opacity=\"1\" /><path clip-path=\"url(#clip670)\" d=\"M121.918 438.532 L126.802 438.532 L126.802 444.411 L121.918 444.411 L121.918 438.532 Z\" fill=\"#000000\" fill-rule=\"evenodd\" fill-opacity=\"1\" /><path clip-path=\"url(#clip670)\" d=\"M137.033 409.851 L155.39 409.851 L155.39 413.787 L141.316 413.787 L141.316 422.259 Q142.334 421.911 143.353 421.749 Q144.371 421.564 145.39 421.564 Q151.177 421.564 154.556 424.736 Q157.936 427.907 157.936 433.323 Q157.936 438.902 154.464 442.004 Q150.992 445.083 144.672 445.083 Q142.496 445.083 140.228 444.712 Q137.982 444.342 135.575 443.601 L135.575 438.902 Q137.658 440.036 139.881 440.592 Q142.103 441.147 144.58 441.147 Q148.584 441.147 150.922 439.041 Q153.26 436.935 153.26 433.323 Q153.26 429.712 150.922 427.606 Q148.584 425.499 144.58 425.499 Q142.705 425.499 140.83 425.916 Q138.978 426.333 137.033 427.212 L137.033 409.851 Z\" fill=\"#000000\" fill-rule=\"evenodd\" fill-opacity=\"1\" /><path clip-path=\"url(#clip670)\" d=\"M91.5706 100.886 L99.2095 100.886 L99.2095 74.5205 L90.8993 76.1871 L90.8993 71.9279 L99.1632 70.2612 L103.839 70.2612 L103.839 100.886 L111.478 100.886 L111.478 104.821 L91.5706 104.821 L91.5706 100.886 Z\" fill=\"#000000\" fill-rule=\"evenodd\" fill-opacity=\"1\" /><path clip-path=\"url(#clip670)\" d=\"M120.922 98.9416 L125.807 98.9416 L125.807 104.821 L120.922 104.821 L120.922 98.9416 Z\" fill=\"#000000\" fill-rule=\"evenodd\" fill-opacity=\"1\" /><path clip-path=\"url(#clip670)\" d=\"M145.992 73.3399 Q142.381 73.3399 140.552 76.9047 Q138.746 80.4463 138.746 87.5759 Q138.746 94.6824 140.552 98.2472 Q142.381 101.789 145.992 101.789 Q149.626 101.789 151.431 98.2472 Q153.26 94.6824 153.26 87.5759 Q153.26 80.4463 151.431 76.9047 Q149.626 73.3399 145.992 73.3399 M145.992 69.6362 Q151.802 69.6362 154.857 74.2427 Q157.936 78.826 157.936 87.5759 Q157.936 96.3027 154.857 100.909 Q151.802 105.493 145.992 105.493 Q140.181 105.493 137.103 100.909 Q134.047 96.3027 134.047 87.5759 Q134.047 78.826 137.103 74.2427 Q140.181 69.6362 145.992 69.6362 Z\" fill=\"#000000\" fill-rule=\"evenodd\" fill-opacity=\"1\" /><polyline clip-path=\"url(#clip672)\" style=\"stroke:#009af9; stroke-linecap:butt; stroke-linejoin:round; stroke-width:4; stroke-opacity:1; fill:none\" points=\"\n",
       "  255.035,115.439 260.007,110.93 264.979,106.812 269.952,103.087 274.924,99.7575 297.912,89.5578 320.9,87.9763 343.888,95.0332 366.877,110.639 389.865,134.594 \n",
       "  412.853,166.595 435.841,206.233 458.829,253.004 486.459,317.813 514.089,390.87 541.719,470.835 569.348,556.237 616.07,708.592 662.791,863.993 713.544,1026.77 \n",
       "  764.296,1173.47 787.691,1233.14 811.085,1286.65 834.48,1333.31 857.875,1372.5 882.956,1405.64 908.038,1429.1 933.119,1442.53 958.201,1445.72 987.26,1436.56 \n",
       "  1016.32,1413.78 1045.38,1377.86 1074.44,1329.51 1100.26,1276.91 1126.09,1216.12 1151.91,1148.11 1177.74,1073.98 1223.03,932.82 1268.32,783.48 1317.7,619.973 \n",
       "  1367.08,465.052 1391.92,393.268 1416.75,327.032 1441.59,267.326 1466.43,215.038 1493.89,166.794 1521.35,129.439 1548.81,103.653 1576.27,89.903 1602.4,88.2248 \n",
       "  1628.52,97.6981 1654.65,118.167 1680.78,149.296 1707.95,192.414 1735.11,245.737 1762.28,308.315 1789.45,379.038 1835.18,512.959 1880.92,659.625 1936.76,845.218 \n",
       "  1992.6,1024.95 2018.85,1103.53 2045.09,1176.53 2071.34,1242.74 2097.58,1301.05 2118.61,1341.41 2139.63,1375.65 2160.65,1403.41 2181.68,1424.38 2202.7,1438.36 \n",
       "  2223.73,1445.19 2244.75,1444.79 2265.77,1437.17 2272.24,1433.38 2278.72,1428.92 2285.19,1423.8 2291.66,1418 \n",
       "  \"/>\n",
       "<path clip-path=\"url(#clip670)\" d=\"\n",
       "M1988.5 198.898 L2280.8 198.898 L2280.8 95.2176 L1988.5 95.2176  Z\n",
       "  \" fill=\"#ffffff\" fill-rule=\"evenodd\" fill-opacity=\"1\"/>\n",
       "<polyline clip-path=\"url(#clip670)\" style=\"stroke:#000000; stroke-linecap:butt; stroke-linejoin:round; stroke-width:4; stroke-opacity:1; fill:none\" points=\"\n",
       "  1988.5,198.898 2280.8,198.898 2280.8,95.2176 1988.5,95.2176 1988.5,198.898 \n",
       "  \"/>\n",
       "<polyline clip-path=\"url(#clip670)\" style=\"stroke:#009af9; stroke-linecap:butt; stroke-linejoin:round; stroke-width:4; stroke-opacity:1; fill:none\" points=\"\n",
       "  2012.48,147.058 2156.4,147.058 \n",
       "  \"/>\n",
       "<path clip-path=\"url(#clip670)\" d=\"M2194.23 166.745 Q2192.43 171.375 2190.72 172.787 Q2189 174.199 2186.13 174.199 L2182.73 174.199 L2182.73 170.634 L2185.23 170.634 Q2186.99 170.634 2187.96 169.8 Q2188.93 168.967 2190.11 165.865 L2190.88 163.921 L2180.39 138.412 L2184.91 138.412 L2193.01 158.689 L2201.11 138.412 L2205.62 138.412 L2194.23 166.745 Z\" fill=\"#000000\" fill-rule=\"evenodd\" fill-opacity=\"1\" /><path clip-path=\"url(#clip670)\" d=\"M2212.91 160.402 L2220.55 160.402 L2220.55 134.037 L2212.24 135.703 L2212.24 131.444 L2220.51 129.778 L2225.18 129.778 L2225.18 160.402 L2232.82 160.402 L2232.82 164.338 L2212.91 164.338 L2212.91 160.402 Z\" fill=\"#000000\" fill-rule=\"evenodd\" fill-opacity=\"1\" /></svg>\n"
      ]
     },
     "execution_count": 172,
     "metadata": {},
     "output_type": "execute_result"
    }
   ],
   "source": [
    "# eval(exs[2])\n",
    "eval(exs[4])"
   ]
  },
  {
   "cell_type": "code",
   "execution_count": 126,
   "id": "f6537dd3-4e5a-4281-a962-f7242da36546",
   "metadata": {},
   "outputs": [
    {
     "data": {
      "text/plain": [
       "8-element Vector{Any}:\n",
       " 2\n",
       " 1\n",
       " 3\n",
       " 4\n",
       " 5\n",
       " 6\n",
       " 7\n",
       " 8"
      ]
     },
     "execution_count": 126,
     "metadata": {},
     "output_type": "execute_result"
    }
   ],
   "source": [
    "order"
   ]
  },
  {
   "cell_type": "code",
   "execution_count": 162,
   "id": "457f64f6-abbf-47a4-b5c5-6cfc651578a2",
   "metadata": {},
   "outputs": [],
   "source": [
    "# final_expr = Expr(:block, :(Out = Dict{Int, Any}()))\n",
    "exs = []\n",
    "for (i, cell) ∈ enumerate(cells)\n",
    "    cell = cell |> IOBuffer |> eachline |> collect |> x -> join(x[2:end], \"\\n\")\n",
    "#    @show cell\n",
    "    ex = :($(Meta.parse(\"begin\\n\"*cell*\"\\nend\")))\n",
    "    push!(exs,ex)\n",
    "#    push!(final_expr.args, ex)\n",
    "end"
   ]
  },
  {
   "cell_type": "code",
   "execution_count": 147,
   "id": "3a68841e-3e4c-4bb4-a8e1-1d0e2c55de3b",
   "metadata": {},
   "outputs": [
    {
     "data": {
      "text/plain": [
       "quote\n",
       "    begin\n",
       "        #= none:2 =#\n",
       "        A = [10, 10, 10]\n",
       "    end\n",
       "end"
      ]
     },
     "execution_count": 147,
     "metadata": {},
     "output_type": "execute_result"
    }
   ],
   "source": [
    "Expr(:block,exs[5])"
   ]
  },
  {
   "cell_type": "code",
   "execution_count": 176,
   "id": "681f0730-00e7-4789-b2c9-2466f7997c3f",
   "metadata": {},
   "outputs": [
    {
     "data": {
      "text/plain": [
       "collect_cells (generic function with 1 method)"
      ]
     },
     "execution_count": 176,
     "metadata": {},
     "output_type": "execute_result"
    }
   ],
   "source": [
    "function collect_cells(s)\n",
    "    cells = split(s, \"# ╔═╡\")\n",
    "#     final_expr = Expr(:block)\n",
    "    expressions = []\n",
    "    for (i, cell) ∈ enumerate(cells)\n",
    "        cell = cell |> IOBuffer |> eachline |> collect |> x -> join(x[2:end], \"\\n\")\n",
    "        @show cell\n",
    "        ex = :($(Meta.parse(\"begin\\n\"*cell*\"\\nend\")))\n",
    "        push!(expressions, ex)\n",
    "    end\n",
    "    expressions\n",
    "end"
   ]
  },
  {
   "cell_type": "code",
   "execution_count": 193,
   "id": "5f138c33-1216-4522-9a6d-ca1549dddff4",
   "metadata": {},
   "outputs": [],
   "source": [
    "s = \"\"\"\n",
    "       ### A Pluto.jl notebook ###\n",
    "       # v0.16.1\n",
    "\n",
    "       using Markdown\n",
    "       using InteractiveUtils\n",
    "\n",
    "       # ╔═╡ f85cfc5e-26cc-11ec-3e25-7fc30ba989a3\n",
    "       begin\n",
    "           using Plots\n",
    "           gr()\n",
    "       end\n",
    "\n",
    "       # ╔═╡ c45438a7-2d79-4293-8925-d6df8043f98b\n",
    "       x = rand(10);\n",
    "\n",
    "       # ╔═╡ f656d603-394a-4d61-b401-7343b2831a2d\n",
    "       plot(x)\n",
    "\n",
    "       # ╔═╡ b95a10e2-9dbf-4f05-b234-940afe747f1b\n",
    "       1 + 1\n",
    "       \"\"\";"
   ]
  },
  {
   "cell_type": "code",
   "execution_count": 194,
   "id": "5cd0a827-0a92-4993-95d4-c0e36ba138a5",
   "metadata": {},
   "outputs": [
    {
     "data": {
      "text/plain": [
       "quote\n",
       "    #= none:2 =#\n",
       "    x = rand(10)\n",
       "end"
      ]
     },
     "execution_count": 194,
     "metadata": {},
     "output_type": "execute_result"
    }
   ],
   "source": [
    "exs[3]"
   ]
  },
  {
   "cell_type": "code",
   "execution_count": 191,
   "id": "4e9b077b-c5bf-46fc-be33-ea7a8a9b66c9",
   "metadata": {},
   "outputs": [
    {
     "name": "stdout",
     "output_type": "stream",
     "text": [
      "cell = \"# v0.16.1\\n\\nusing Markdown\\nusing InteractiveUtils\\n\"\n",
      "cell = \"begin\\n    using Plots\\n    gr()\\nend\\n\"\n",
      "cell = \"x = rand(10);\\n\"\n",
      "cell = \"plot(x)\\n\"\n",
      "cell = \"1 + 1\"\n"
     ]
    },
    {
     "data": {
      "text/plain": [
       "5-element Vector{Any}:\n",
       " quote\n",
       "    #= none:4 =#\n",
       "    using Markdown\n",
       "    #= none:5 =#\n",
       "    using InteractiveUtils\n",
       "end\n",
       " quote\n",
       "    #= none:2 =#\n",
       "    begin\n",
       "        #= none:3 =#\n",
       "        using Plots\n",
       "        #= none:4 =#\n",
       "        gr()\n",
       "    end\n",
       "end\n",
       " quote\n",
       "    #= none:2 =#\n",
       "    x = rand(10)\n",
       "end\n",
       " quote\n",
       "    #= none:2 =#\n",
       "    plot(x)\n",
       "end\n",
       " quote\n",
       "    #= none:2 =#\n",
       "    1 + 1\n",
       "end"
      ]
     },
     "execution_count": 191,
     "metadata": {},
     "output_type": "execute_result"
    }
   ],
   "source": [
    "exs = collect_cells(s)"
   ]
  },
  {
   "cell_type": "code",
   "execution_count": 188,
   "id": "013f3ad6-feb9-437c-80bb-995bc21a86fd",
   "metadata": {},
   "outputs": [
    {
     "data": {
      "text/plain": [
       "\"10-element Vector{Float64}:\\n 0.2596216079047018\\n 0.8917392006918541\\n 0.42581946619072\\n 0.5260261558763419\\n 0.12743767863532574\\n 0.9163852506891053\\n 0.4511256495774796\\n 0.6457055258326894\\n 0.7737506867696815\\n 0.05402225243409142\""
      ]
     },
     "execution_count": 188,
     "metadata": {},
     "output_type": "execute_result"
    }
   ],
   "source": [
    "io = IOBuffer();\n",
    "x = rand(10)\n",
    "show(IOContext(io, :limit => true, :displaysize => (20, 40)), \"text/plain\", eval(exs[3]));\n",
    "s = String(take!(io))"
   ]
  },
  {
   "cell_type": "code",
   "execution_count": 63,
   "id": "2aad0b4a-d372-49f9-9c5f-ca9f3bf7a86a",
   "metadata": {},
   "outputs": [
    {
     "data": {
      "text/plain": [
       "\"Plot{Plots.GRBackend() n=1}\""
      ]
     },
     "metadata": {},
     "output_type": "display_data"
    }
   ],
   "source": [
    "display(s)"
   ]
  },
  {
   "cell_type": "code",
   "execution_count": 48,
   "id": "3f4a1e49-c7be-4eca-b67d-3df32d1be05e",
   "metadata": {},
   "outputs": [
    {
     "data": {
      "image/svg+xml": [
       "<?xml version=\"1.0\" encoding=\"utf-8\"?>\n",
       "<svg xmlns=\"http://www.w3.org/2000/svg\" xmlns:xlink=\"http://www.w3.org/1999/xlink\" width=\"600\" height=\"400\" viewBox=\"0 0 2400 1600\">\n",
       "<defs>\n",
       "  <clipPath id=\"clip590\">\n",
       "    <rect x=\"0\" y=\"0\" width=\"2400\" height=\"1600\"/>\n",
       "  </clipPath>\n",
       "</defs>\n",
       "<path clip-path=\"url(#clip590)\" d=\"\n",
       "M0 1600 L2400 1600 L2400 0 L0 0  Z\n",
       "  \" fill=\"#ffffff\" fill-rule=\"evenodd\" fill-opacity=\"1\"/>\n",
       "<defs>\n",
       "  <clipPath id=\"clip591\">\n",
       "    <rect x=\"480\" y=\"0\" width=\"1681\" height=\"1600\"/>\n",
       "  </clipPath>\n",
       "</defs>\n",
       "<path clip-path=\"url(#clip590)\" d=\"\n",
       "M156.598 1486.45 L2352.76 1486.45 L2352.76 47.2441 L156.598 47.2441  Z\n",
       "  \" fill=\"#ffffff\" fill-rule=\"evenodd\" fill-opacity=\"1\"/>\n",
       "<defs>\n",
       "  <clipPath id=\"clip592\">\n",
       "    <rect x=\"156\" y=\"47\" width=\"2197\" height=\"1440\"/>\n",
       "  </clipPath>\n",
       "</defs>\n",
       "<polyline clip-path=\"url(#clip592)\" style=\"stroke:#000000; stroke-linecap:butt; stroke-linejoin:round; stroke-width:2; stroke-opacity:0.1; fill:none\" points=\"\n",
       "  448.959,1486.45 448.959,47.2441 \n",
       "  \"/>\n",
       "<polyline clip-path=\"url(#clip592)\" style=\"stroke:#000000; stroke-linecap:butt; stroke-linejoin:round; stroke-width:2; stroke-opacity:0.1; fill:none\" points=\"\n",
       "  909.369,1486.45 909.369,47.2441 \n",
       "  \"/>\n",
       "<polyline clip-path=\"url(#clip592)\" style=\"stroke:#000000; stroke-linecap:butt; stroke-linejoin:round; stroke-width:2; stroke-opacity:0.1; fill:none\" points=\"\n",
       "  1369.78,1486.45 1369.78,47.2441 \n",
       "  \"/>\n",
       "<polyline clip-path=\"url(#clip592)\" style=\"stroke:#000000; stroke-linecap:butt; stroke-linejoin:round; stroke-width:2; stroke-opacity:0.1; fill:none\" points=\"\n",
       "  1830.19,1486.45 1830.19,47.2441 \n",
       "  \"/>\n",
       "<polyline clip-path=\"url(#clip592)\" style=\"stroke:#000000; stroke-linecap:butt; stroke-linejoin:round; stroke-width:2; stroke-opacity:0.1; fill:none\" points=\"\n",
       "  2290.6,1486.45 2290.6,47.2441 \n",
       "  \"/>\n",
       "<polyline clip-path=\"url(#clip590)\" style=\"stroke:#000000; stroke-linecap:butt; stroke-linejoin:round; stroke-width:4; stroke-opacity:1; fill:none\" points=\"\n",
       "  156.598,1486.45 2352.76,1486.45 \n",
       "  \"/>\n",
       "<polyline clip-path=\"url(#clip590)\" style=\"stroke:#000000; stroke-linecap:butt; stroke-linejoin:round; stroke-width:4; stroke-opacity:1; fill:none\" points=\"\n",
       "  448.959,1486.45 448.959,1467.55 \n",
       "  \"/>\n",
       "<polyline clip-path=\"url(#clip590)\" style=\"stroke:#000000; stroke-linecap:butt; stroke-linejoin:round; stroke-width:4; stroke-opacity:1; fill:none\" points=\"\n",
       "  909.369,1486.45 909.369,1467.55 \n",
       "  \"/>\n",
       "<polyline clip-path=\"url(#clip590)\" style=\"stroke:#000000; stroke-linecap:butt; stroke-linejoin:round; stroke-width:4; stroke-opacity:1; fill:none\" points=\"\n",
       "  1369.78,1486.45 1369.78,1467.55 \n",
       "  \"/>\n",
       "<polyline clip-path=\"url(#clip590)\" style=\"stroke:#000000; stroke-linecap:butt; stroke-linejoin:round; stroke-width:4; stroke-opacity:1; fill:none\" points=\"\n",
       "  1830.19,1486.45 1830.19,1467.55 \n",
       "  \"/>\n",
       "<polyline clip-path=\"url(#clip590)\" style=\"stroke:#000000; stroke-linecap:butt; stroke-linejoin:round; stroke-width:4; stroke-opacity:1; fill:none\" points=\"\n",
       "  2290.6,1486.45 2290.6,1467.55 \n",
       "  \"/>\n",
       "<path clip-path=\"url(#clip590)\" d=\"M443.612 1544.91 L459.931 1544.91 L459.931 1548.85 L437.987 1548.85 L437.987 1544.91 Q440.649 1542.16 445.232 1537.53 Q449.838 1532.88 451.019 1531.53 Q453.264 1529.01 454.144 1527.27 Q455.047 1525.51 455.047 1523.82 Q455.047 1521.07 453.102 1519.33 Q451.181 1517.6 448.079 1517.6 Q445.88 1517.6 443.426 1518.36 Q440.996 1519.13 438.218 1520.68 L438.218 1515.95 Q441.042 1514.82 443.496 1514.24 Q445.95 1513.66 447.987 1513.66 Q453.357 1513.66 456.551 1516.35 Q459.746 1519.03 459.746 1523.52 Q459.746 1525.65 458.936 1527.57 Q458.149 1529.47 456.042 1532.07 Q455.463 1532.74 452.362 1535.95 Q449.26 1539.15 443.612 1544.91 Z\" fill=\"#000000\" fill-rule=\"evenodd\" fill-opacity=\"1\" /><path clip-path=\"url(#clip590)\" d=\"M912.379 1518.36 L900.573 1536.81 L912.379 1536.81 L912.379 1518.36 M911.152 1514.29 L917.031 1514.29 L917.031 1536.81 L921.962 1536.81 L921.962 1540.7 L917.031 1540.7 L917.031 1548.85 L912.379 1548.85 L912.379 1540.7 L896.777 1540.7 L896.777 1536.19 L911.152 1514.29 Z\" fill=\"#000000\" fill-rule=\"evenodd\" fill-opacity=\"1\" /><path clip-path=\"url(#clip590)\" d=\"M1370.18 1529.7 Q1367.04 1529.7 1365.18 1531.86 Q1363.36 1534.01 1363.36 1537.76 Q1363.36 1541.49 1365.18 1543.66 Q1367.04 1545.82 1370.18 1545.82 Q1373.33 1545.82 1375.16 1543.66 Q1377.01 1541.49 1377.01 1537.76 Q1377.01 1534.01 1375.16 1531.86 Q1373.33 1529.7 1370.18 1529.7 M1379.47 1515.05 L1379.47 1519.31 Q1377.71 1518.48 1375.9 1518.04 Q1374.12 1517.6 1372.36 1517.6 Q1367.73 1517.6 1365.28 1520.72 Q1362.85 1523.85 1362.5 1530.17 Q1363.87 1528.15 1365.93 1527.09 Q1367.99 1526 1370.46 1526 Q1375.67 1526 1378.68 1529.17 Q1381.71 1532.32 1381.71 1537.76 Q1381.71 1543.08 1378.56 1546.3 Q1375.42 1549.52 1370.18 1549.52 Q1364.19 1549.52 1361.02 1544.94 Q1357.85 1540.33 1357.85 1531.6 Q1357.85 1523.41 1361.74 1518.55 Q1365.62 1513.66 1372.18 1513.66 Q1373.93 1513.66 1375.72 1514.01 Q1377.52 1514.36 1379.47 1515.05 Z\" fill=\"#000000\" fill-rule=\"evenodd\" fill-opacity=\"1\" /><path clip-path=\"url(#clip590)\" d=\"M1830.19 1532.44 Q1826.86 1532.44 1824.94 1534.22 Q1823.04 1536 1823.04 1539.13 Q1823.04 1542.25 1824.94 1544.03 Q1826.86 1545.82 1830.19 1545.82 Q1833.52 1545.82 1835.44 1544.03 Q1837.37 1542.23 1837.37 1539.13 Q1837.37 1536 1835.44 1534.22 Q1833.55 1532.44 1830.19 1532.44 M1825.51 1530.45 Q1822.5 1529.7 1820.82 1527.64 Q1819.15 1525.58 1819.15 1522.62 Q1819.15 1518.48 1822.09 1516.07 Q1825.05 1513.66 1830.19 1513.66 Q1835.35 1513.66 1838.29 1516.07 Q1841.23 1518.48 1841.23 1522.62 Q1841.23 1525.58 1839.54 1527.64 Q1837.88 1529.7 1834.89 1530.45 Q1838.27 1531.23 1840.14 1533.52 Q1842.04 1535.82 1842.04 1539.13 Q1842.04 1544.15 1838.96 1546.83 Q1835.91 1549.52 1830.19 1549.52 Q1824.47 1549.52 1821.39 1546.83 Q1818.34 1544.15 1818.34 1539.13 Q1818.34 1535.82 1820.24 1533.52 Q1822.13 1531.23 1825.51 1530.45 M1823.8 1523.06 Q1823.8 1525.75 1825.47 1527.25 Q1827.16 1528.76 1830.19 1528.76 Q1833.2 1528.76 1834.89 1527.25 Q1836.6 1525.75 1836.6 1523.06 Q1836.6 1520.38 1834.89 1518.87 Q1833.2 1517.37 1830.19 1517.37 Q1827.16 1517.37 1825.47 1518.87 Q1823.8 1520.38 1823.8 1523.06 Z\" fill=\"#000000\" fill-rule=\"evenodd\" fill-opacity=\"1\" /><path clip-path=\"url(#clip590)\" d=\"M2265.29 1544.91 L2272.93 1544.91 L2272.93 1518.55 L2264.62 1520.21 L2264.62 1515.95 L2272.88 1514.29 L2277.56 1514.29 L2277.56 1544.91 L2285.2 1544.91 L2285.2 1548.85 L2265.29 1548.85 L2265.29 1544.91 Z\" fill=\"#000000\" fill-rule=\"evenodd\" fill-opacity=\"1\" /><path clip-path=\"url(#clip590)\" d=\"M2304.64 1517.37 Q2301.03 1517.37 2299.2 1520.93 Q2297.39 1524.47 2297.39 1531.6 Q2297.39 1538.71 2299.2 1542.27 Q2301.03 1545.82 2304.64 1545.82 Q2308.27 1545.82 2310.08 1542.27 Q2311.91 1538.71 2311.91 1531.6 Q2311.91 1524.47 2310.08 1520.93 Q2308.27 1517.37 2304.64 1517.37 M2304.64 1513.66 Q2310.45 1513.66 2313.51 1518.27 Q2316.58 1522.85 2316.58 1531.6 Q2316.58 1540.33 2313.51 1544.94 Q2310.45 1549.52 2304.64 1549.52 Q2298.83 1549.52 2295.75 1544.94 Q2292.7 1540.33 2292.7 1531.6 Q2292.7 1522.85 2295.75 1518.27 Q2298.83 1513.66 2304.64 1513.66 Z\" fill=\"#000000\" fill-rule=\"evenodd\" fill-opacity=\"1\" /><polyline clip-path=\"url(#clip592)\" style=\"stroke:#000000; stroke-linecap:butt; stroke-linejoin:round; stroke-width:2; stroke-opacity:0.1; fill:none\" points=\"\n",
       "  156.598,1460.23 2352.76,1460.23 \n",
       "  \"/>\n",
       "<polyline clip-path=\"url(#clip592)\" style=\"stroke:#000000; stroke-linecap:butt; stroke-linejoin:round; stroke-width:2; stroke-opacity:0.1; fill:none\" points=\"\n",
       "  156.598,1141.74 2352.76,1141.74 \n",
       "  \"/>\n",
       "<polyline clip-path=\"url(#clip592)\" style=\"stroke:#000000; stroke-linecap:butt; stroke-linejoin:round; stroke-width:2; stroke-opacity:0.1; fill:none\" points=\"\n",
       "  156.598,823.26 2352.76,823.26 \n",
       "  \"/>\n",
       "<polyline clip-path=\"url(#clip592)\" style=\"stroke:#000000; stroke-linecap:butt; stroke-linejoin:round; stroke-width:2; stroke-opacity:0.1; fill:none\" points=\"\n",
       "  156.598,504.776 2352.76,504.776 \n",
       "  \"/>\n",
       "<polyline clip-path=\"url(#clip592)\" style=\"stroke:#000000; stroke-linecap:butt; stroke-linejoin:round; stroke-width:2; stroke-opacity:0.1; fill:none\" points=\"\n",
       "  156.598,186.293 2352.76,186.293 \n",
       "  \"/>\n",
       "<polyline clip-path=\"url(#clip590)\" style=\"stroke:#000000; stroke-linecap:butt; stroke-linejoin:round; stroke-width:4; stroke-opacity:1; fill:none\" points=\"\n",
       "  156.598,1486.45 156.598,47.2441 \n",
       "  \"/>\n",
       "<polyline clip-path=\"url(#clip590)\" style=\"stroke:#000000; stroke-linecap:butt; stroke-linejoin:round; stroke-width:4; stroke-opacity:1; fill:none\" points=\"\n",
       "  156.598,1460.23 175.496,1460.23 \n",
       "  \"/>\n",
       "<polyline clip-path=\"url(#clip590)\" style=\"stroke:#000000; stroke-linecap:butt; stroke-linejoin:round; stroke-width:4; stroke-opacity:1; fill:none\" points=\"\n",
       "  156.598,1141.74 175.496,1141.74 \n",
       "  \"/>\n",
       "<polyline clip-path=\"url(#clip590)\" style=\"stroke:#000000; stroke-linecap:butt; stroke-linejoin:round; stroke-width:4; stroke-opacity:1; fill:none\" points=\"\n",
       "  156.598,823.26 175.496,823.26 \n",
       "  \"/>\n",
       "<polyline clip-path=\"url(#clip590)\" style=\"stroke:#000000; stroke-linecap:butt; stroke-linejoin:round; stroke-width:4; stroke-opacity:1; fill:none\" points=\"\n",
       "  156.598,504.776 175.496,504.776 \n",
       "  \"/>\n",
       "<polyline clip-path=\"url(#clip590)\" style=\"stroke:#000000; stroke-linecap:butt; stroke-linejoin:round; stroke-width:4; stroke-opacity:1; fill:none\" points=\"\n",
       "  156.598,186.293 175.496,186.293 \n",
       "  \"/>\n",
       "<path clip-path=\"url(#clip590)\" d=\"M63.4226 1446.02 Q59.8115 1446.02 57.9828 1449.59 Q56.1773 1453.13 56.1773 1460.26 Q56.1773 1467.37 57.9828 1470.93 Q59.8115 1474.47 63.4226 1474.47 Q67.0569 1474.47 68.8624 1470.93 Q70.6911 1467.37 70.6911 1460.26 Q70.6911 1453.13 68.8624 1449.59 Q67.0569 1446.02 63.4226 1446.02 M63.4226 1442.32 Q69.2328 1442.32 72.2883 1446.93 Q75.367 1451.51 75.367 1460.26 Q75.367 1468.99 72.2883 1473.59 Q69.2328 1478.18 63.4226 1478.18 Q57.6125 1478.18 54.5338 1473.59 Q51.4782 1468.99 51.4782 1460.26 Q51.4782 1451.51 54.5338 1446.93 Q57.6125 1442.32 63.4226 1442.32 Z\" fill=\"#000000\" fill-rule=\"evenodd\" fill-opacity=\"1\" /><path clip-path=\"url(#clip590)\" d=\"M83.5845 1471.63 L88.4688 1471.63 L88.4688 1477.51 L83.5845 1477.51 L83.5845 1471.63 Z\" fill=\"#000000\" fill-rule=\"evenodd\" fill-opacity=\"1\" /><path clip-path=\"url(#clip590)\" d=\"M108.654 1446.02 Q105.043 1446.02 103.214 1449.59 Q101.409 1453.13 101.409 1460.26 Q101.409 1467.37 103.214 1470.93 Q105.043 1474.47 108.654 1474.47 Q112.288 1474.47 114.094 1470.93 Q115.922 1467.37 115.922 1460.26 Q115.922 1453.13 114.094 1449.59 Q112.288 1446.02 108.654 1446.02 M108.654 1442.32 Q114.464 1442.32 117.52 1446.93 Q120.598 1451.51 120.598 1460.26 Q120.598 1468.99 117.52 1473.59 Q114.464 1478.18 108.654 1478.18 Q102.844 1478.18 99.765 1473.59 Q96.7095 1468.99 96.7095 1460.26 Q96.7095 1451.51 99.765 1446.93 Q102.844 1442.32 108.654 1442.32 Z\" fill=\"#000000\" fill-rule=\"evenodd\" fill-opacity=\"1\" /><path clip-path=\"url(#clip590)\" d=\"M65.0198 1127.54 Q61.4087 1127.54 59.58 1131.11 Q57.7745 1134.65 57.7745 1141.78 Q57.7745 1148.88 59.58 1152.45 Q61.4087 1155.99 65.0198 1155.99 Q68.6541 1155.99 70.4596 1152.45 Q72.2883 1148.88 72.2883 1141.78 Q72.2883 1134.65 70.4596 1131.11 Q68.6541 1127.54 65.0198 1127.54 M65.0198 1123.84 Q70.83 1123.84 73.8855 1128.44 Q76.9642 1133.03 76.9642 1141.78 Q76.9642 1150.5 73.8855 1155.11 Q70.83 1159.69 65.0198 1159.69 Q59.2097 1159.69 56.131 1155.11 Q53.0754 1150.5 53.0754 1141.78 Q53.0754 1133.03 56.131 1128.44 Q59.2097 1123.84 65.0198 1123.84 Z\" fill=\"#000000\" fill-rule=\"evenodd\" fill-opacity=\"1\" /><path clip-path=\"url(#clip590)\" d=\"M85.1818 1153.14 L90.066 1153.14 L90.066 1159.02 L85.1818 1159.02 L85.1818 1153.14 Z\" fill=\"#000000\" fill-rule=\"evenodd\" fill-opacity=\"1\" /><path clip-path=\"url(#clip590)\" d=\"M104.279 1155.09 L120.598 1155.09 L120.598 1159.02 L98.6539 1159.02 L98.6539 1155.09 Q101.316 1152.33 105.899 1147.7 Q110.506 1143.05 111.686 1141.71 Q113.932 1139.19 114.811 1137.45 Q115.714 1135.69 115.714 1134 Q115.714 1131.25 113.77 1129.51 Q111.848 1127.77 108.746 1127.77 Q106.547 1127.77 104.094 1128.54 Q101.663 1129.3 98.8854 1130.85 L98.8854 1126.13 Q101.709 1125 104.163 1124.42 Q106.617 1123.84 108.654 1123.84 Q114.024 1123.84 117.219 1126.52 Q120.413 1129.21 120.413 1133.7 Q120.413 1135.83 119.603 1137.75 Q118.816 1139.65 116.709 1142.24 Q116.131 1142.91 113.029 1146.13 Q109.927 1149.32 104.279 1155.09 Z\" fill=\"#000000\" fill-rule=\"evenodd\" fill-opacity=\"1\" /><path clip-path=\"url(#clip590)\" d=\"M62.9365 809.058 Q59.3254 809.058 57.4967 812.623 Q55.6912 816.165 55.6912 823.294 Q55.6912 830.401 57.4967 833.966 Q59.3254 837.507 62.9365 837.507 Q66.5707 837.507 68.3763 833.966 Q70.205 830.401 70.205 823.294 Q70.205 816.165 68.3763 812.623 Q66.5707 809.058 62.9365 809.058 M62.9365 805.355 Q68.7467 805.355 71.8022 809.961 Q74.8809 814.544 74.8809 823.294 Q74.8809 832.021 71.8022 836.628 Q68.7467 841.211 62.9365 841.211 Q57.1264 841.211 54.0477 836.628 Q50.9921 832.021 50.9921 823.294 Q50.9921 814.544 54.0477 809.961 Q57.1264 805.355 62.9365 805.355 Z\" fill=\"#000000\" fill-rule=\"evenodd\" fill-opacity=\"1\" /><path clip-path=\"url(#clip590)\" d=\"M83.0984 834.66 L87.9827 834.66 L87.9827 840.54 L83.0984 840.54 L83.0984 834.66 Z\" fill=\"#000000\" fill-rule=\"evenodd\" fill-opacity=\"1\" /><path clip-path=\"url(#clip590)\" d=\"M111.015 810.054 L99.2095 828.503 L111.015 828.503 L111.015 810.054 M109.788 805.98 L115.668 805.98 L115.668 828.503 L120.598 828.503 L120.598 832.392 L115.668 832.392 L115.668 840.54 L111.015 840.54 L111.015 832.392 L95.4132 832.392 L95.4132 827.878 L109.788 805.98 Z\" fill=\"#000000\" fill-rule=\"evenodd\" fill-opacity=\"1\" /><path clip-path=\"url(#clip590)\" d=\"M63.2606 490.575 Q59.6495 490.575 57.8208 494.14 Q56.0152 497.682 56.0152 504.811 Q56.0152 511.918 57.8208 515.482 Q59.6495 519.024 63.2606 519.024 Q66.8948 519.024 68.7004 515.482 Q70.5291 511.918 70.5291 504.811 Q70.5291 497.682 68.7004 494.14 Q66.8948 490.575 63.2606 490.575 M63.2606 486.871 Q69.0707 486.871 72.1263 491.478 Q75.205 496.061 75.205 504.811 Q75.205 513.538 72.1263 518.144 Q69.0707 522.728 63.2606 522.728 Q57.4504 522.728 54.3717 518.144 Q51.3162 513.538 51.3162 504.811 Q51.3162 496.061 54.3717 491.478 Q57.4504 486.871 63.2606 486.871 Z\" fill=\"#000000\" fill-rule=\"evenodd\" fill-opacity=\"1\" /><path clip-path=\"url(#clip590)\" d=\"M83.4225 516.177 L88.3067 516.177 L88.3067 522.056 L83.4225 522.056 L83.4225 516.177 Z\" fill=\"#000000\" fill-rule=\"evenodd\" fill-opacity=\"1\" /><path clip-path=\"url(#clip590)\" d=\"M109.071 502.913 Q105.922 502.913 104.071 505.066 Q102.242 507.219 102.242 510.969 Q102.242 514.695 104.071 516.871 Q105.922 519.024 109.071 519.024 Q112.219 519.024 114.047 516.871 Q115.899 514.695 115.899 510.969 Q115.899 507.219 114.047 505.066 Q112.219 502.913 109.071 502.913 M118.353 488.26 L118.353 492.52 Q116.594 491.686 114.788 491.246 Q113.006 490.807 111.246 490.807 Q106.617 490.807 104.163 493.932 Q101.733 497.057 101.385 503.376 Q102.751 501.362 104.811 500.297 Q106.871 499.209 109.348 499.209 Q114.557 499.209 117.566 502.381 Q120.598 505.529 120.598 510.969 Q120.598 516.293 117.45 519.51 Q114.302 522.728 109.071 522.728 Q103.075 522.728 99.9039 518.144 Q96.7326 513.538 96.7326 504.811 Q96.7326 496.617 100.621 491.756 Q104.51 486.871 111.061 486.871 Q112.82 486.871 114.603 487.219 Q116.408 487.566 118.353 488.26 Z\" fill=\"#000000\" fill-rule=\"evenodd\" fill-opacity=\"1\" /><path clip-path=\"url(#clip590)\" d=\"M63.5152 172.092 Q59.9041 172.092 58.0754 175.657 Q56.2699 179.198 56.2699 186.328 Q56.2699 193.434 58.0754 196.999 Q59.9041 200.541 63.5152 200.541 Q67.1494 200.541 68.955 196.999 Q70.7837 193.434 70.7837 186.328 Q70.7837 179.198 68.955 175.657 Q67.1494 172.092 63.5152 172.092 M63.5152 168.388 Q69.3254 168.388 72.3809 172.995 Q75.4596 177.578 75.4596 186.328 Q75.4596 195.055 72.3809 199.661 Q69.3254 204.245 63.5152 204.245 Q57.7051 204.245 54.6264 199.661 Q51.5708 195.055 51.5708 186.328 Q51.5708 177.578 54.6264 172.995 Q57.7051 168.388 63.5152 168.388 Z\" fill=\"#000000\" fill-rule=\"evenodd\" fill-opacity=\"1\" /><path clip-path=\"url(#clip590)\" d=\"M83.6771 197.694 L88.5614 197.694 L88.5614 203.573 L83.6771 203.573 L83.6771 197.694 Z\" fill=\"#000000\" fill-rule=\"evenodd\" fill-opacity=\"1\" /><path clip-path=\"url(#clip590)\" d=\"M108.746 187.161 Q105.413 187.161 103.492 188.944 Q101.594 190.726 101.594 193.851 Q101.594 196.976 103.492 198.758 Q105.413 200.541 108.746 200.541 Q112.08 200.541 114.001 198.758 Q115.922 196.953 115.922 193.851 Q115.922 190.726 114.001 188.944 Q112.103 187.161 108.746 187.161 M104.071 185.171 Q101.061 184.43 99.3715 182.37 Q97.7048 180.309 97.7048 177.347 Q97.7048 173.203 100.645 170.796 Q103.608 168.388 108.746 168.388 Q113.908 168.388 116.848 170.796 Q119.788 173.203 119.788 177.347 Q119.788 180.309 118.098 182.37 Q116.432 184.43 113.445 185.171 Q116.825 185.958 118.7 188.249 Q120.598 190.541 120.598 193.851 Q120.598 198.874 117.52 201.559 Q114.464 204.245 108.746 204.245 Q103.029 204.245 99.9502 201.559 Q96.8947 198.874 96.8947 193.851 Q96.8947 190.541 98.7928 188.249 Q100.691 185.958 104.071 185.171 M102.358 177.786 Q102.358 180.471 104.024 181.976 Q105.714 183.481 108.746 183.481 Q111.756 183.481 113.445 181.976 Q115.158 180.471 115.158 177.786 Q115.158 175.101 113.445 173.597 Q111.756 172.092 108.746 172.092 Q105.714 172.092 104.024 173.597 Q102.358 175.101 102.358 177.786 Z\" fill=\"#000000\" fill-rule=\"evenodd\" fill-opacity=\"1\" /><polyline clip-path=\"url(#clip592)\" style=\"stroke:#009af9; stroke-linecap:butt; stroke-linejoin:round; stroke-width:4; stroke-opacity:1; fill:none\" points=\"\n",
       "  218.754,1197.87 448.959,1407.42 679.164,541.44 909.369,400.37 1139.57,125.766 1369.78,87.9763 1599.98,396.834 1830.19,777.88 2060.4,1445.72 2290.6,943.795 \n",
       "  \n",
       "  \"/>\n",
       "<path clip-path=\"url(#clip590)\" d=\"\n",
       "M1983.1 198.898 L2279.55 198.898 L2279.55 95.2176 L1983.1 95.2176  Z\n",
       "  \" fill=\"#ffffff\" fill-rule=\"evenodd\" fill-opacity=\"1\"/>\n",
       "<polyline clip-path=\"url(#clip590)\" style=\"stroke:#000000; stroke-linecap:butt; stroke-linejoin:round; stroke-width:4; stroke-opacity:1; fill:none\" points=\"\n",
       "  1983.1,198.898 2279.55,198.898 2279.55,95.2176 1983.1,95.2176 1983.1,198.898 \n",
       "  \"/>\n",
       "<polyline clip-path=\"url(#clip590)\" style=\"stroke:#009af9; stroke-linecap:butt; stroke-linejoin:round; stroke-width:4; stroke-opacity:1; fill:none\" points=\"\n",
       "  2007.5,147.058 2153.92,147.058 \n",
       "  \"/>\n",
       "<path clip-path=\"url(#clip590)\" d=\"M2192.16 166.745 Q2190.35 171.375 2188.64 172.787 Q2186.93 174.199 2184.06 174.199 L2180.65 174.199 L2180.65 170.634 L2183.15 170.634 Q2184.91 170.634 2185.89 169.8 Q2186.86 168.967 2188.04 165.865 L2188.8 163.921 L2178.32 138.412 L2182.83 138.412 L2190.93 158.689 L2199.03 138.412 L2203.55 138.412 L2192.16 166.745 Z\" fill=\"#000000\" fill-rule=\"evenodd\" fill-opacity=\"1\" /><path clip-path=\"url(#clip590)\" d=\"M2210.84 160.402 L2218.48 160.402 L2218.48 134.037 L2210.17 135.703 L2210.17 131.444 L2218.43 129.778 L2223.11 129.778 L2223.11 160.402 L2230.75 160.402 L2230.75 164.338 L2210.84 164.338 L2210.84 160.402 Z\" fill=\"#000000\" fill-rule=\"evenodd\" fill-opacity=\"1\" /></svg>\n"
      ]
     },
     "execution_count": 48,
     "metadata": {},
     "output_type": "execute_result"
    }
   ],
   "source": [
    "eval(exs[4])\n"
   ]
  },
  {
   "cell_type": "code",
   "execution_count": 43,
   "id": "6bd2cdfc-eb32-43ae-a9fe-0c39bf92adc9",
   "metadata": {},
   "outputs": [
    {
     "name": "stderr",
     "output_type": "stream",
     "text": [
      "┌ Info: Precompiling Plots [91a5bcdd-55d7-5caf-9e0b-520d859cae80]\n",
      "└ @ Base loading.jl:1342\n"
     ]
    },
    {
     "data": {
      "text/plain": [
       "Plots.GRBackend()"
      ]
     },
     "execution_count": 43,
     "metadata": {},
     "output_type": "execute_result"
    }
   ],
   "source": [
    "eval(exs[2])"
   ]
  },
  {
   "cell_type": "code",
   "execution_count": 30,
   "id": "49c97e5d-77bb-4aa3-8a10-5982e4b6554b",
   "metadata": {},
   "outputs": [
    {
     "data": {
      "text/plain": [
       "\"### A Pluto.jl notebook ###\\n# v0.16.1\\n\\nusing Markdown\\nusing InteractiveUtils\\n\\n# ╔═╡ f85cfc5e-26cc-11ec-3e25-7fc30ba989a3\\nbegin\\n    using Plots\\n    gr()\\nend\\n\\n# ╔═╡ c45438a7-2d79-4293-8925-d6df8043f98b\\nx = rand(10)\\n\\n# ╔═╡ f656d603-394a-4d61-b401-7343b2831a2d\\nplot(x)\\n\\n# ╔═╡ b95a10e2-9dbf-4f05-b234-940afe747f1b\\n1 + 1\\n\""
      ]
     },
     "execution_count": 30,
     "metadata": {},
     "output_type": "execute_result"
    }
   ],
   "source": [
    "eval(s)"
   ]
  },
  {
   "cell_type": "code",
   "execution_count": null,
   "id": "08f58258-17a0-4a65-af1e-987548508aad",
   "metadata": {},
   "outputs": [],
   "source": [
    "Out[]"
   ]
  },
  {
   "cell_type": "code",
   "execution_count": null,
   "id": "a367a3ff-24d2-405d-a5f6-754608f7911e",
   "metadata": {},
   "outputs": [],
   "source": []
  }
 ],
 "metadata": {
  "kernelspec": {
   "display_name": "JuliaFlux 1.6.3",
   "language": "julia",
   "name": "juliaflux-1.6"
  },
  "language_info": {
   "file_extension": ".jl",
   "mimetype": "application/julia",
   "name": "julia",
   "version": "1.6.3"
  }
 },
 "nbformat": 4,
 "nbformat_minor": 5
}
