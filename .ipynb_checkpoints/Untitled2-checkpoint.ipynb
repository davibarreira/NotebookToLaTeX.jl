{
 "cells": [
  {
   "cell_type": "code",
   "execution_count": 309,
   "id": "4f6013ca-fba6-41cb-8930-6660f3ed591c",
   "metadata": {},
   "outputs": [
    {
     "data": {
      "text/plain": [
       "\"/home/davibarreira/MEGA/EMAp/PlutoLatexConverter.jl/example\""
      ]
     },
     "execution_count": 309,
     "metadata": {},
     "output_type": "execute_result"
    }
   ],
   "source": [
    "using ReadableRegex\n",
    "currentpath = pwd()"
   ]
  },
  {
   "cell_type": "code",
   "execution_count": 218,
   "id": "648a5bda-010b-4af0-9c73-2c21a36f33c4",
   "metadata": {},
   "outputs": [],
   "source": [
    "if !isdir(\"build_latex/\")\n",
    "    mkpath(\"build_latex/notebooks\")\n",
    "    mkpath(\"build_latex/figures\")\n",
    "else\n",
    "    if !isdir(\"build_latex/notebooks\")\n",
    "        mkpath(\"build_latex/notebooks\")\n",
    "    end\n",
    "    if !isdir(\"build_latex/figures\")\n",
    "        mkpath(\"build_latex/figures\")\n",
    "    end\n",
    "end\n",
    "# mkdir(\"build_latex\")\n",
    "# readdir(\"build_latex\")\n",
    "# isdir(\"build_latex/\")\n",
    "# isfile(\"build_latex/notebook.tex\")"
   ]
  },
  {
   "cell_type": "code",
   "execution_count": 219,
   "id": "3d7dd318-2b7a-4261-93cd-2695e5d21412",
   "metadata": {},
   "outputs": [],
   "source": [
    "notebook1 = \"./build_latex/notebooks/notebook1.tex\"\n",
    "if !isfile(notebook1)\n",
    "    open(\"./build_latex/notebooks/notebook1.tex\", \"w\") do f\n",
    "        write(f,\"\\\\newpage\\n\")\n",
    "    end\n",
    "end\n",
    "\n",
    "# open(\"./build_latex/notebooks/notebook1.tex\", \"a\") do f\n",
    "#     write(f,\"\\\\newpage\\n\")\n",
    "# end"
   ]
  },
  {
   "cell_type": "code",
   "execution_count": 220,
   "id": "f822b10b-dca5-4efa-90ee-b24ab3909caf",
   "metadata": {},
   "outputs": [
    {
     "data": {
      "text/plain": [
       "tagcelloutput (generic function with 1 method)"
      ]
     },
     "execution_count": 220,
     "metadata": {},
     "output_type": "execute_result"
    }
   ],
   "source": [
    "# function tagcelloutput(cell)\n",
    "#     p = findlast(\";\",cell)\n",
    "#     if p ≢ nothing\n",
    "#         if match(Regex(look_for(\";\",before=one_or_more(maybe((\"\\\\n\",\"\\\\t\"))))),cell[p[1]:end]) != nothing\n",
    "#             return \"hideoutput\"\n",
    "#         else\n",
    "#             return \"showoutput\"\n",
    "#         end\n",
    "#     else\n",
    "#         return \"showoutput\"\n",
    "#     end\n",
    "# end"
   ]
  },
  {
   "cell_type": "code",
   "execution_count": 244,
   "id": "b251db89-e2ad-4a24-8f89-db4b6094238d",
   "metadata": {},
   "outputs": [
    {
     "data": {
      "text/plain": [
       "extractnotebook (generic function with 1 method)"
      ]
     },
     "execution_count": 244,
     "metadata": {},
     "output_type": "execute_result"
    }
   ],
   "source": [
    "function extractnotebook(notebook)\n",
    "    s = read(notebook, String)\n",
    "    cells = split(s, \"# ╔═╡ \");\n",
    "    # The first cell and the final 3 are not used\n",
    "    codes, contents, outputtag, celltype = [],[],[],[]\n",
    "    for cell in cells[2:end-3]\n",
    "        push!(codes, cell[1:36])\n",
    "        push!(contents, cell[38:end])\n",
    "        push!(outputtag, endswith(rstrip(cell),\";\") ? \"hideoutput\" : \"showoutput\")\n",
    "        push!(celltype, cell[38:42] == \"md\\\"\\\"\\\"\" ? \"markdown\" : \"code\")\n",
    "    end\n",
    "    \n",
    "    # Get order and view type\n",
    "    r = either(\"# ╠\",\"# ╟\")\n",
    "    sortedcells = split(cells[end],Regex(r))\n",
    "    sortedcodes = [cell[4:39] for cell in sortedcells[2:end-2]]\n",
    "    order = [findfirst(isequal(scode),codes) for scode in  sortedcodes[1:end]]\n",
    "    view  = [occursin(\"═\",c) ? \"showcode\" : \"hidecode\" for c in sortedcells[2:end-2]]\n",
    "    # Matching running order\n",
    "    view  = view[order]\n",
    "    \n",
    "    notebookdata = Dict(:codes => codes, :cells => cells[2:end-3],\n",
    "                        :contents => contents, :outputtag=>outputtag,\n",
    "                        :celltype => celltype,:order=> order,:view=>view)\n",
    "    return notebookdata\n",
    "end"
   ]
  },
  {
   "cell_type": "code",
   "execution_count": 245,
   "id": "47c12084-31a9-43cf-82d6-a8e619f4689b",
   "metadata": {},
   "outputs": [
    {
     "data": {
      "text/plain": [
       "Dict{Symbol, Vector{T} where T} with 7 entries:\n",
       "  :codes     => Any[\"598d863b-3f42-4855-90f4-d98604776a4d\", \"7b4b693d-c955-4c9b…\n",
       "  :outputtag => Any[\"showoutput\", \"showoutput\", \"showoutput\", \"showoutput\", \"sh…\n",
       "  :celltype  => Any[\"code\", \"code\", \"markdown\", \"code\", \"code\", \"code\", \"code\",…\n",
       "  :view      => [\"hidecode\", \"showcode\", \"hidecode\", \"showcode\", \"showcode\", \"s…\n",
       "  :order     => [3, 1, 2, 4, 5, 6, 7, 8]\n",
       "  :contents  => Any[\"using Plots\\n\\n\", \"using PlutoUI\\n\\n\", \"md\\\"\\\"\\\"\\n# Chapte…\n",
       "  :cells     => SubString{String}[\"598d863b-3f42-4855-90f4-d98604776a4d\\nusing …"
      ]
     },
     "execution_count": 245,
     "metadata": {},
     "output_type": "execute_result"
    }
   ],
   "source": [
    "example = \"./example/examplepluto.jl\"\n",
    "nb = extractnotebook(example)\n"
   ]
  },
  {
   "cell_type": "code",
   "execution_count": 246,
   "id": "ed0daa4f-ec37-4712-bb64-3af31775c83c",
   "metadata": {},
   "outputs": [
    {
     "data": {
      "text/plain": [
       "8-element Vector{SubString{String}}:\n",
       " \"598d863b-3f42-4855-90f4-d98604776a4d\\nusing Plots\\n\\n\"\n",
       " \"7b4b693d-c955-4c9b-97e8-56d28cf74e18\\nusing PlutoUI\\n\\n\"\n",
       " \"9ebf3044-26d2-11ec-34c4-db68b273419f\\nmd\\\"\\\"\\\"\\n# Chapter\\n## Section\\n### Subsection\\n#### Subsubsection\\nMy text here with *italics*, with **bold**, and a [link](https://davibarreira.github.io/).\\n\\nAdding some math expression here with \\$x=10\\$ and\\n```math\\nd(\\\\omega(t_0),\\\\omega(t_1)) \\\\leq \\\\int^{t_1}_{t_0}g(s) ds.\\n```\\n\\nAdding some code like `plots`. Note that the `using plots`\\n\\\"\\\"\\\"\\n\\n\"\n",
       " \"bdad72d3-5744-459f-8627-299908573f40\\n\\n\\t begin\\n\\ty(x) = sin(x)\\n\\tplot(y,\\n\\t\\tcolor=:blue)\\nend\\n\\n\\n\"\n",
       " \"e1009c9c-1567-49ed-9c29-1fa081089b07\\nA = [10,10,10]\\n\\n\"\n",
       " \"d25fc4f5-7f70-4291-a784-90556b85fb9d\\nx = 10;\\n\\n\"\n",
       " \"39d902cc-221c-4c50-9857-a12a072c0053\\nPlutoUI.LocalResource(\\\"figure.svg\\\")\\n\\n\"\n",
       " \"9fb84733-13bb-45fd-a4b2-5a39488c23d6\\nPlutoUI.LocalResource(\\\"plotexample.png\\\")\\n\\n\""
      ]
     },
     "execution_count": 246,
     "metadata": {},
     "output_type": "execute_result"
    }
   ],
   "source": [
    "nb[:cells]"
   ]
  },
  {
   "cell_type": "code",
   "execution_count": 224,
   "id": "53cb9448-893f-460d-b77f-8cc4b6857d70",
   "metadata": {},
   "outputs": [
    {
     "data": {
      "text/plain": [
       "8-element Vector{Any}:\n",
       " \"code\"\n",
       " \"code\"\n",
       " \"markdown\"\n",
       " \"code\"\n",
       " \"code\"\n",
       " \"code\"\n",
       " \"code\"\n",
       " \"code\""
      ]
     },
     "execution_count": 224,
     "metadata": {},
     "output_type": "execute_result"
    }
   ],
   "source": [
    "nb[:celltype]"
   ]
  },
  {
   "cell_type": "code",
   "execution_count": 225,
   "id": "ff33ebaa-5ea5-432c-8fdd-78e68c748d6a",
   "metadata": {},
   "outputs": [
    {
     "data": {
      "text/plain": [
       "\"/home/davibarreira/MEGA/EMAp/PlutoLatexConverter.jl\""
      ]
     },
     "execution_count": 225,
     "metadata": {},
     "output_type": "execute_result"
    }
   ],
   "source": [
    "# function collectoutputs(notebookdata)\n",
    "#     cells = nb[:cells]\n",
    "#     for (i, cell) ∈ enumerate(cells)\n",
    "#         cell = cell |> IOBuffer |> eachline |> collect |> x -> join(x[2:end], \"\\n\")\n",
    "#         ex = :($(Meta.parse(\"begin\\n\"*cell*\"\\nend\")))\n",
    "#         push!(expressions, ex)\n",
    "#     end\n",
    "# end\n",
    "pwd()"
   ]
  },
  {
   "cell_type": "code",
   "execution_count": 297,
   "id": "4cb1056b-1d8d-44d3-aff5-f65df3854e3d",
   "metadata": {},
   "outputs": [
    {
     "data": {
      "text/plain": [
       "collectoutputs (generic function with 2 methods)"
      ]
     },
     "execution_count": 297,
     "metadata": {},
     "output_type": "execute_result"
    }
   ],
   "source": [
    "function collectoutputs(notebookdata, notebookfolder=\"./\")\n",
    "    runpath = pwd()\n",
    "    cd(notebookfolder)\n",
    "    io = IOBuffer();\n",
    "    expressions=[]\n",
    "    outputs = []\n",
    "    for (i, content) ∈ enumerate(nb[:contents])\n",
    "        if nb[:celltype][i] == \"code\"\n",
    "            if startswith(lstrip(content),\"begin\") && endswith(rstrip(content),\"end\")\n",
    "                ex = :($(Meta.parse(strip(content))))\n",
    "            else\n",
    "                ex = :($(Meta.parse(\"begin\\n\"*content*\"\\nend\")))\n",
    "            end\n",
    "            \n",
    "            s = string(ex.args[end])\n",
    "            if contains(s, Regex(either(\"PlutoUI.LocalResource\",\"LocalResource\")))\n",
    "                imagepath = s[findfirst(Regex(look_for(one_or_more(ANY),after=\"(\",before=\")\")),e)]\n",
    "                celloutput((\"imagepath\",imagepath))\n",
    "            else\n",
    "                show(IOContext(io, :limit => true), \"text/plain\", eval(ex));\n",
    "                celloutput = String(take!(io))\n",
    "                if celloutput == \"nothing\"\n",
    "                    celloutput = \"\"\n",
    "    #             elseif startswith(outputs[end], \"Resource(\")\n",
    "                end\n",
    "                push!(outputs, celloutput)\n",
    "                push!(expressions, ex)\n",
    "            end\n",
    "        end\n",
    "    end\n",
    "    cd(runpath)\n",
    "    return outputs, expressions\n",
    "end"
   ]
  },
  {
   "cell_type": "code",
   "execution_count": 312,
   "id": "e83a1985-12d5-4a8b-ae6e-7cb354426d99",
   "metadata": {},
   "outputs": [
    {
     "data": {
      "text/plain": [
       "\"/home/davibarreira/MEGA/EMAp/PlutoLatexConverter.jl/example\""
      ]
     },
     "execution_count": 312,
     "metadata": {},
     "output_type": "execute_result"
    }
   ],
   "source": [
    "# cd(currentpath)\n",
    "# outputs,expressions = collectoutputs(nb,\"./example/\");\n"
   ]
  },
  {
   "cell_type": "code",
   "execution_count": 298,
   "id": "75685b71-1f9d-4388-a2bf-8f01a981a6bd",
   "metadata": {},
   "outputs": [
    {
     "data": {
      "text/plain": [
       "RegexString(\"(?:(?:PlutoUI\\\\.LocalResource)|(?:LocalResource))\")"
      ]
     },
     "execution_count": 298,
     "metadata": {},
     "output_type": "execute_result"
    }
   ],
   "source": [
    "either(\"PlutoUI.LocalResource\",\"LocalResource\")"
   ]
  },
  {
   "cell_type": "code",
   "execution_count": 299,
   "id": "d9e44340-4e92-4b13-9c7b-ba13ea045145",
   "metadata": {},
   "outputs": [
    {
     "data": {
      "text/plain": [
       ":(using Plots)"
      ]
     },
     "execution_count": 299,
     "metadata": {},
     "output_type": "execute_result"
    }
   ],
   "source": [
    "expressions[1].args[end]"
   ]
  },
  {
   "cell_type": "code",
   "execution_count": 300,
   "id": "99892bc7-323e-4a5a-bf65-ad8a00b0506c",
   "metadata": {},
   "outputs": [
    {
     "data": {
      "text/plain": [
       "\"begin\\n\\ty(x) = sin(x)\\n\\tplot(y,\\n\\t\\tcolor=:blue)\\nend\""
      ]
     },
     "execution_count": 300,
     "metadata": {},
     "output_type": "execute_result"
    }
   ],
   "source": [
    "strip(nb[:contents][4])"
   ]
  },
  {
   "cell_type": "code",
   "execution_count": 301,
   "id": "a13c9b2d-cf16-4421-8f7d-41b07d04fb17",
   "metadata": {},
   "outputs": [
    {
     "data": {
      "text/plain": [
       "\"/home/davibarreira/MEGA/EMAp/PlutoLatexConverter.jl\""
      ]
     },
     "execution_count": 301,
     "metadata": {},
     "output_type": "execute_result"
    }
   ],
   "source": [
    "cd(currentpath)\n",
    "pwd()"
   ]
  },
  {
   "cell_type": "code",
   "execution_count": 302,
   "id": "2338d5be-9a5b-45ad-88ab-8098584086e2",
   "metadata": {},
   "outputs": [
    {
     "data": {
      "text/plain": [
       "false"
      ]
     },
     "execution_count": 302,
     "metadata": {},
     "output_type": "execute_result"
    }
   ],
   "source": [
    "startswith(nb[:contents][4], \"begin\")"
   ]
  },
  {
   "cell_type": "code",
   "execution_count": 303,
   "id": "4402a489-a66d-478a-968d-00443cf0927a",
   "metadata": {},
   "outputs": [
    {
     "data": {
      "text/plain": [
       "\"\\n\\t begin\\n\\ty(x) = sin(x)\\n\\tplot(y,\\n\\t\\tcolor=:blue)\\nend\""
      ]
     },
     "execution_count": 303,
     "metadata": {},
     "output_type": "execute_result"
    }
   ],
   "source": [
    "rstrip(nb[:contents][4])\n"
   ]
  },
  {
   "cell_type": "code",
   "execution_count": 304,
   "id": "f6b885e7-6198-4c67-ad4b-dc3be7c59dc8",
   "metadata": {},
   "outputs": [
    {
     "data": {
      "text/plain": [
       "RegexMatch(\"end\")"
      ]
     },
     "execution_count": 304,
     "metadata": {},
     "output_type": "execute_result"
    }
   ],
   "source": [
    "match(Regex(look_for(\"end\",before=one_or_more(maybe((\"\\\\n\",\"\\\\t\"))))),nb[:contents][4])"
   ]
  },
  {
   "cell_type": "code",
   "execution_count": 305,
   "id": "e7372963-b0a5-413d-b17d-c60261976c08",
   "metadata": {},
   "outputs": [
    {
     "data": {
      "text/plain": [
       "true"
      ]
     },
     "execution_count": 305,
     "metadata": {},
     "output_type": "execute_result"
    }
   ],
   "source": [
    "# outputs[1] == \"nothing\"\n",
    "startswith(outputs[3], \"Plot{Plots\")"
   ]
  },
  {
   "cell_type": "code",
   "execution_count": 306,
   "id": "9af8d97d-b9b2-49d2-a4b1-4efddef5cf15",
   "metadata": {},
   "outputs": [
    {
     "ename": "LoadError",
     "evalue": "BoundsError: attempt to access 35-codeunit String at index [23:39]",
     "output_type": "error",
     "traceback": [
      "BoundsError: attempt to access 35-codeunit String at index [23:39]",
      "",
      "Stacktrace:",
      " [1] checkbounds",
      "   @ ./strings/basic.jl:216 [inlined]",
      " [2] getindex(s::String, r::UnitRange{Int64})",
      "   @ Base ./strings/string.jl:261",
      " [3] collectoutputs(notebookdata::Dict{Symbol, Vector{T} where T}, notebookfolder::String)",
      "   @ Main ./In[297]:17",
      " [4] top-level scope",
      "   @ In[306]:1",
      " [5] eval",
      "   @ ./boot.jl:360 [inlined]",
      " [6] include_string(mapexpr::typeof(REPL.softscope), mod::Module, code::String, filename::String)",
      "   @ Base ./loading.jl:1116"
     ]
    }
   ],
   "source": []
  },
  {
   "cell_type": "code",
   "execution_count": 288,
   "id": "8096f3e5-2d7f-4773-8fcf-fddb5cb95762",
   "metadata": {},
   "outputs": [
    {
     "data": {
      "text/plain": [
       "\"\\\"plotexample.png\\\"\""
      ]
     },
     "execution_count": 288,
     "metadata": {},
     "output_type": "execute_result"
    }
   ],
   "source": [
    "# savefig(eval(expressions[3].args[end]),\"example.png\")\n",
    "findfirst(\"(\",string(expressions[end].args[end]))\n",
    "findlast(\"(\",string(expressions[end].args[end]))\n",
    "e = string(expressions[end].args[end])\n",
    "e[findfirst(Regex(look_for(one_or_more(ANY),after=\"(\",before=\")\")),e)]\n"
   ]
  },
  {
   "cell_type": "code",
   "execution_count": 236,
   "id": "f12ed01e-6625-4157-8d8f-595aea00f979",
   "metadata": {},
   "outputs": [
    {
     "data": {
      "text/plain": [
       "\"\\n\\t begin\\n\\ty(x) = sin(x)\\n\\tplot(y,\\n\\t\\tcolor=:blue)\\nend\\n\\n\\n\""
      ]
     },
     "execution_count": 236,
     "metadata": {},
     "output_type": "execute_result"
    }
   ],
   "source": [
    "# (Meta.parse(nb[:contents][4][1:end-3]))\n",
    "nb[:contents][4]"
   ]
  },
  {
   "cell_type": "code",
   "execution_count": 125,
   "id": "8d2b47ee-87fd-46bf-a2d1-382f5d42e13c",
   "metadata": {},
   "outputs": [
    {
     "data": {
      "text/plain": [
       "\"PlutoUI.LocalResource(\\\"plotexample.png\\\")\""
      ]
     },
     "execution_count": 125,
     "metadata": {},
     "output_type": "execute_result"
    }
   ],
   "source": [
    "string(expressions[end].args[end])"
   ]
  },
  {
   "cell_type": "code",
   "execution_count": 239,
   "id": "d96443a3-c79e-4067-b44b-bdf6a3d3f755",
   "metadata": {},
   "outputs": [
    {
     "data": {
      "text/plain": [
       "RegexMatch(\"end\")"
      ]
     },
     "execution_count": 239,
     "metadata": {},
     "output_type": "execute_result"
    }
   ],
   "source": [
    "match(Regex(look_for(\"end\",before=one_or_more(maybe((\"\\\\n\",\"\\\\t\"))))),nb[:contents][4])\n",
    "# match(Regex(look_for(\"begin\",after=one_or_more(maybe((\"\\\\n\",\"\\\\t\"))))),nb[:contents][4])"
   ]
  },
  {
   "cell_type": "code",
   "execution_count": null,
   "id": "5991e6ce-fc4a-4504-92f4-80e16131eb8b",
   "metadata": {},
   "outputs": [],
   "source": []
  },
  {
   "cell_type": "code",
   "execution_count": 66,
   "id": "93231795-d176-4d01-9438-6ec5239eb6a8",
   "metadata": {},
   "outputs": [
    {
     "data": {
      "text/plain": [
       "\"\\\"nothing\\\"\""
      ]
     },
     "execution_count": 66,
     "metadata": {},
     "output_type": "execute_result"
    }
   ],
   "source": [
    "io = IOBuffer();\n",
    "x = rand(10)\n",
    "show(IOContext(io, :limit => true, :displaysize => (20, 40)), \"text/plain\", eval(es[2]));\n",
    "s = String(take!(io))\n",
    "# eval(exs[4])\n",
    "# typeof(ans) <: Plots.Plot"
   ]
  },
  {
   "cell_type": "code",
   "execution_count": 156,
   "id": "c23ad089-9130-4a14-9cc9-d3ddd59a73e6",
   "metadata": {},
   "outputs": [
    {
     "data": {
      "text/plain": [
       "8-element Vector{String}:\n",
       " \"showoutput\"\n",
       " \"showoutput\"\n",
       " \"showoutput\"\n",
       " \"hideoutput\"\n",
       " \"showoutput\"\n",
       " \"hideoutput\"\n",
       " \"showoutput\"\n",
       " \"showoutput\""
      ]
     },
     "execution_count": 156,
     "metadata": {},
     "output_type": "execute_result"
    }
   ],
   "source": [
    "nb[:outputtag]"
   ]
  },
  {
   "cell_type": "code",
   "execution_count": 127,
   "id": "e98ff0df-e933-45a1-83df-4d0898f98704",
   "metadata": {},
   "outputs": [
    {
     "data": {
      "text/plain": [
       "7-element Vector{SubString{String}}:\n",
       " \"using Plots\\n\\n\"\n",
       " \"using PlutoUI\\n\\n\"\n",
       " \"md\\\"\\\"\\\"\\n# Chapter\\n## Section\\n### Subsection\\n#### Subsubsection\\nMy text here with *italics*, with **bold**, and a [link](https://davibarreira.github.io/).\\n\\nAdding some math expression here with \\$x=10\\$ and\\n```math\\nd(\\\\omega(t_0),\\\\omega(t_1)) \\\\leq \\\\int^{t_1}_{t_0}g(s) ds.\\n```\\n\\nAdding some code like `plots`. Note that the `using plots`\\n\\\"\\\"\\\"\\n\\n\"\n",
       " \"begin\\n\\ty(x) = sin(x)\\n\\tplot(y)\\nend;\\t \\n\\n\\n\"\n",
       " \"A = [10,10,10]\\n\\n\"\n",
       " \"PlutoUI.LocalResource(\\\"figure.svg\\\")\\n\\n\"\n",
       " \"PlutoUI.LocalResource(\\\"plotexample.png\\\")\\n\\n\""
      ]
     },
     "execution_count": 127,
     "metadata": {},
     "output_type": "execute_result"
    }
   ],
   "source": [
    "nb[:contents]"
   ]
  },
  {
   "cell_type": "code",
   "execution_count": 94,
   "id": "07c67f07-2cd7-4177-91c8-b2192c0f316e",
   "metadata": {},
   "outputs": [],
   "source": [
    "s = read(example, String);\n",
    "cells = split(s, \"# ╔═╡ \");"
   ]
  },
  {
   "cell_type": "code",
   "execution_count": 100,
   "id": "0e350be5-b18e-4e73-9ed6-d965ac81353f",
   "metadata": {},
   "outputs": [
    {
     "data": {
      "text/plain": [
       "\"Cell order:\\n# ╠═9ebf3044-26d2-11ec-34c4-db68b273419f\\n# ╟─598d863b-3f42-4855-90f4-d98604776a4d\\n# ╟─7b4b693d-c955-4c9b-97e8-56d28cf74e18\\n# ╠═bdad72d3-5744-459f-8627-299908573f40\\n# ╠═e1009c9c-1567-49ed-9c29-1fa081089b07\\n# ╠═39d902cc-221c-4c50-9857-a12a072c0053\\n# ╠═9fb84733-13bb-45fd-a4b2-5a39488c23d6\\n# ╟─00000000-0000-0000-0000-000000000001\\n# ╟─00000000-0000-0000-0000-000000000002\\n\""
      ]
     },
     "execution_count": 100,
     "metadata": {},
     "output_type": "execute_result"
    }
   ],
   "source": [
    "cells[end]"
   ]
  },
  {
   "cell_type": "code",
   "execution_count": null,
   "id": "6b27dfaf-4215-4649-9f5b-638b5a1c73dd",
   "metadata": {},
   "outputs": [],
   "source": [
    "io = IOBuffer();\n",
    "x = rand(10)\n",
    "show(IOContext(io, :limit => true, :displaysize => (20, 40)), \"text/plain\", eval(exs[4]));\n",
    "s = String(take!(io))\n",
    "eval(exs[4])\n",
    "typeof(ans) <: Plots.Plot"
   ]
  },
  {
   "cell_type": "code",
   "execution_count": null,
   "id": "8dac2ae0-ba07-4417-865d-979f1a558454",
   "metadata": {},
   "outputs": [],
   "source": []
  },
  {
   "cell_type": "code",
   "execution_count": 91,
   "id": "ff9b4fc2-47e0-4f93-b3f2-e3e3bdbefc29",
   "metadata": {},
   "outputs": [
    {
     "data": {
      "text/plain": [
       "6-element Vector{SubString{String}}:\n",
       " \"9ebf3044-26d2-11ec-34c4-db68b273419f\"\n",
       " \"598d863b-3f42-4855-90f4-d98604776a4d\"\n",
       " \"7b4b693d-c955-4c9b-97e8-56d28cf74e18\"\n",
       " \"bdad72d3-5744-459f-8627-299908573f40\"\n",
       " \"e1009c9c-1567-49ed-9c29-1fa081089b07\"\n",
       " \"39d902cc-221c-4c50-9857-a12a072c0053\""
      ]
     },
     "execution_count": 91,
     "metadata": {},
     "output_type": "execute_result"
    }
   ],
   "source": [
    "nb[:codes][nb[:order]]"
   ]
  },
  {
   "cell_type": "code",
   "execution_count": null,
   "id": "06a75f0f-885f-48e5-b7bf-8f342e1b78cc",
   "metadata": {},
   "outputs": [],
   "source": []
  },
  {
   "cell_type": "code",
   "execution_count": null,
   "id": "9ca4606e-a643-4437-8ff9-26683d8cfc7a",
   "metadata": {},
   "outputs": [],
   "source": []
  },
  {
   "cell_type": "code",
   "execution_count": null,
   "id": "2e09de1b-061e-4ae5-a00e-59b7ecb4f46e",
   "metadata": {},
   "outputs": [],
   "source": []
  }
 ],
 "metadata": {
  "kernelspec": {
   "display_name": "JuliaFlux 1.6.3",
   "language": "julia",
   "name": "juliaflux-1.6"
  },
  "language_info": {
   "file_extension": ".jl",
   "mimetype": "application/julia",
   "name": "julia",
   "version": "1.6.3"
  }
 },
 "nbformat": 4,
 "nbformat_minor": 5
}
