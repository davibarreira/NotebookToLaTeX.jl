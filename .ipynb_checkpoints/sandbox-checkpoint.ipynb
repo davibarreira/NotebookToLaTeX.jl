{
 "cells": [
  {
   "cell_type": "code",
   "execution_count": 4,
   "id": "0edd2bc0-3305-4e01-b314-455386f4665e",
   "metadata": {},
   "outputs": [
    {
     "data": {
      "text/plain": [
       "\"/home/davibarreira/MEGA/EMAp/PlutoLatexConverter.jl\""
      ]
     },
     "execution_count": 4,
     "metadata": {},
     "output_type": "execute_result"
    }
   ],
   "source": [
    "using ReadableRegex\n",
    "using Plots\n",
    "using Makie, CairoMakie\n",
    "currentpath = pwd()"
   ]
  },
  {
   "cell_type": "code",
   "execution_count": 5,
   "id": "70f1141f-2417-40df-8d1e-412a3b7a3fba",
   "metadata": {},
   "outputs": [
    {
     "name": "stderr",
     "output_type": "stream",
     "text": [
      "WARNING: replacing module Runner.\n"
     ]
    },
    {
     "data": {
      "text/plain": [
       "Main.Runner"
      ]
     },
     "execution_count": 5,
     "metadata": {},
     "output_type": "execute_result"
    }
   ],
   "source": [
    "module Runner\n",
    "end"
   ]
  },
  {
   "cell_type": "code",
   "execution_count": 6,
   "id": "38ca06f5-a7e3-4647-bc0f-daf4882b8027",
   "metadata": {},
   "outputs": [
    {
     "data": {
      "text/plain": [
       "0"
      ]
     },
     "execution_count": 6,
     "metadata": {},
     "output_type": "execute_result"
    }
   ],
   "source": [
    "figureindex = 0"
   ]
  },
  {
   "cell_type": "code",
   "execution_count": 49,
   "id": "4b89fa7f-0ac3-4c7b-8b1f-4d4de959ad3d",
   "metadata": {},
   "outputs": [
    {
     "data": {
      "text/plain": [
       "dispatch_output (generic function with 3 methods)"
      ]
     },
     "execution_count": 49,
     "metadata": {},
     "output_type": "execute_result"
    }
   ],
   "source": [
    "function extractnotebook(notebook, notebookname=nothing)\n",
    "    s = read(notebook, String)\n",
    "    cells = split(s, \"# ╔═╡ \");\n",
    "    # The first cell and the final 3 are not used\n",
    "    codes, contents, outputtag, celltype = [],[],[],[]\n",
    "    for cell in cells[2:end-3]\n",
    "        push!(codes, cell[1:36])\n",
    "        push!(contents, cell[38:end])\n",
    "        push!(outputtag, endswith(rstrip(cell),\";\") ? \"hideoutput\" : \"showoutput\")\n",
    "        push!(celltype, cell[38:42] == \"md\\\"\\\"\\\"\" ? \"markdown\" : \"code\")\n",
    "    end\n",
    "    \n",
    "    # Get order and view type\n",
    "    r = either(\"# ╠\",\"# ╟\")\n",
    "    sortedcells = split(cells[end],Regex(r))\n",
    "    sortedcodes = [cell[4:39] for cell in sortedcells[2:end-2]]\n",
    "    order = [findfirst(isequal(scode),codes) for scode in  sortedcodes[1:end]]\n",
    "    view  = [occursin(\"═\",c) ? \"showcode\" : \"hidecode\" for c in sortedcells[2:end-2]]\n",
    "    # Matching running order\n",
    "    view  = view[order]\n",
    "\n",
    "    # inferring the notebook name\n",
    "    # base on the notebook file path.\n",
    "    if notebookname === nothing\n",
    "        notebookname = split(notebook,\"/\")[end]\n",
    "        if endswith(notebookname,\".jl\")\n",
    "            # removes the \".jl\" in the end\n",
    "            notebookname = notebookname[1:end-3]\n",
    "        end\n",
    "    end\n",
    "    \n",
    "    notebookdata = Dict(:codes => codes, :notebookname => notebookname,\n",
    "                        :contents => contents, :outputtag=>outputtag,\n",
    "                        :celltype => celltype,:order=> order,:view=>view)\n",
    "    return notebookdata\n",
    "end\n",
    "\n",
    "function collectoutputs(notebookdata, notebookfolder=\"./\")\n",
    "    runpath = pwd()\n",
    "    cd(notebookfolder)\n",
    "    outputs = []\n",
    "    for (i, content) ∈ enumerate(notebookdata[:contents])\n",
    "        if notebookdata[:celltype][i] == \"code\"\n",
    "            if startswith(lstrip(content),\"begin\") && endswith(rstrip(content),\"end\")\n",
    "                ex = :($(Meta.parse(strip(content))))\n",
    "            else\n",
    "                ex = :($(Meta.parse(\"begin\\n\"*content*\"\\nend\")))\n",
    "            end\n",
    "            \n",
    "            s = string(ex.args[end])\n",
    "            if contains(s, Regex(either(\"PlutoUI.LocalResource\",\"LocalResource\")))\n",
    "                if findfirst(Regex(look_for(one_or_more(ANY),after=\"(\\\"\",before=\"\\\")\")),s) === nothing\n",
    "                    Runner.eval(ex)\n",
    "                    pathvariable = s[findfirst(Regex(look_for(one_or_more(ANY),after=\"(\",before=\")\")),s)]\n",
    "                    imagepath = Runner.eval(Meta.parse(pathvariable))\n",
    "                else\n",
    "                    imagepath = s[findfirst(Regex(look_for(one_or_more(ANY),after=\"(\\\"\",before=\"\\\")\")),s)]\n",
    "                end\n",
    "                push!(outputs,(:image,imagepath))\n",
    "            else\n",
    "                io = IOBuffer();\n",
    "                Base.invokelatest(show,\n",
    "                    IOContext(io, :limit => true),\"text/plain\",\n",
    "                    dispatch_output(Runner.eval(ex), notebookdata[:notebookname]));\n",
    "                celloutput = String(take!(io))\n",
    "                if celloutput == \"nothing\"\n",
    "                    push!(outputs,nothing)\n",
    "                elseif startswith(celloutput, \"Plot{Plots.\")\n",
    "                    push!(outputs,\n",
    "                    (:plot,notebookdata[:notebookname]*\"_\"*\"figure\"*string(figureindex)*\".png\"))\n",
    "                else\n",
    "                    push!(outputs,(:text, celloutput))\n",
    "                end\n",
    "            end\n",
    "        end\n",
    "    end\n",
    "    cd(runpath)\n",
    "    return outputs\n",
    "end\n",
    "\n",
    "function dispatch_output(command_eval::Makie.FigureAxisPlot, notebookname)\n",
    "    global figureindex+=1\n",
    "    save(notebookname*\"_\"*\"figure\"*string(figureindex)*\".png\", command_eval)\n",
    "    return command_eval\n",
    "end\n",
    "\n",
    "function dispatch_output(command_eval::Plots.Plot, notebookname)\n",
    "    global figureindex+=1\n",
    "    savefig(command_eval,notebookname*\"_\"*\"figure\"*string(figureindex)*\".png\")\n",
    "    return command_eval\n",
    "end\n",
    "\n",
    "function dispatch_output(command_eval, notebookname)\n",
    "   return command_eval \n",
    "end\n"
   ]
  },
  {
   "cell_type": "code",
   "execution_count": 50,
   "id": "334f3af1-01d8-46f9-9e29-de5093a88bdb",
   "metadata": {
    "tags": []
   },
   "outputs": [],
   "source": [
    "# function extractnotebook(notebook, notebookname=nothing)\n",
    "#     s = read(notebook, String)\n",
    "#     cells = split(s, \"# ╔═╡ \");\n",
    "#     # The first cell and the final 3 are not used\n",
    "#     codes, contents, outputtag, celltype = [],[],[],[]\n",
    "#     for cell in cells[2:end-3]\n",
    "#         push!(codes, cell[1:36])\n",
    "#         push!(contents, cell[38:end])\n",
    "#         push!(outputtag, endswith(rstrip(cell),\";\") ? \"hideoutput\" : \"showoutput\")\n",
    "#         push!(celltype, cell[38:42] == \"md\\\"\\\"\\\"\" ? \"markdown\" : \"code\")\n",
    "#     end\n",
    "    \n",
    "#     # Get order and view type\n",
    "#     r = either(\"# ╠\",\"# ╟\")\n",
    "#     sortedcells = split(cells[end],Regex(r))\n",
    "#     sortedcodes = [cell[4:39] for cell in sortedcells[2:end-2]]\n",
    "#     order = [findfirst(isequal(scode),codes) for scode in  sortedcodes[1:end]]\n",
    "#     view  = [occursin(\"═\",c) ? \"showcode\" : \"hidecode\" for c in sortedcells[2:end-2]]\n",
    "#     # Matching running order\n",
    "#     view  = view[order]\n",
    "    \n",
    "#     if notebookname === nothing\n",
    "#         notebookname = split(notebook,\"/\")[end]\n",
    "#         if endswith(notebookname,\".jl\")\n",
    "#             notebookname = notebookname[1:end-3]\n",
    "#         end\n",
    "#     end\n",
    "    \n",
    "#     notebookdata = Dict(:codes => codes, :notebookname => notebookname,\n",
    "#                         :contents => contents, :outputtag=>outputtag,\n",
    "#                         :celltype => celltype,:order=> order,:view=>view)\n",
    "#     return notebookdata\n",
    "# end"
   ]
  },
  {
   "cell_type": "code",
   "execution_count": 51,
   "id": "8c1171d5-1542-4ecc-82ee-7670571c3d70",
   "metadata": {
    "tags": []
   },
   "outputs": [],
   "source": [
    "# function collectoutputs(nb, notebookfolder=\"./\")\n",
    "#     runpath = pwd()\n",
    "#     cd(notebookfolder)\n",
    "#     outputs = []\n",
    "#     for (i, content) ∈ enumerate(nb[:contents])\n",
    "#         if nb[:celltype][i] == \"code\"\n",
    "#             if startswith(lstrip(content),\"begin\") && endswith(rstrip(content),\"end\")\n",
    "#                 ex = :($(Meta.parse(strip(content))))\n",
    "#             else\n",
    "#                 ex = :($(Meta.parse(\"begin\\n\"*content*\"\\nend\")))\n",
    "#             end\n",
    "            \n",
    "#             s = string(ex.args[end])\n",
    "#             if contains(s, Regex(either(\"PlutoUI.LocalResource\",\"LocalResource\")))\n",
    "#                 imagepath = s[findfirst(Regex(look_for(one_or_more(ANY),after=\"(\",before=\")\")),s)]\n",
    "#                 push!(outputs,(\"imagepath\",imagepath))\n",
    "#             else\n",
    "#                 println(nb[:contents][i])\n",
    "#                 io = IOBuffer();\n",
    "#                 Base.invokelatest(show,IOContext(io, :limit => true),\n",
    "#                     \"text/plain\", dispatch_output(Runner.eval(ex), nb[:notebookname]));\n",
    "#                 celloutput = String(take!(io))\n",
    "#                 if celloutput == \"nothing\"\n",
    "#                     celloutput = \"\"\n",
    "#                 elseif startswith(celloutput, \"Plot{Plots.\")\n",
    "#                     celloutput = \"\"\n",
    "#                 end\n",
    "#                 push!(outputs, celloutput)\n",
    "#             end\n",
    "#         end\n",
    "#     end\n",
    "#     cd(runpath)\n",
    "#     return outputs\n",
    "# end\n",
    "\n",
    "# function dispatch_output(command_eval::Plots.Plot, notebookname)\n",
    "#     global figureindex+=1\n",
    "#     savefig(command_eval,notebookname*\"_\"*\"figure\"*string(figureindex)*\".png\")\n",
    "#     return command_eval\n",
    "# end\n",
    "\n",
    "# function dispatch_output(command_eval, notebookname)\n",
    "#    return command_eval \n",
    "# end"
   ]
  },
  {
   "cell_type": "code",
   "execution_count": 52,
   "id": "e7af404e-989a-4b3e-9429-372c61b40735",
   "metadata": {},
   "outputs": [
    {
     "data": {
      "text/plain": [
       "Dict{Symbol, Any} with 7 entries:\n",
       "  :codes        => Any[\"7b4b693d-c955-4c9b-97e8-56d28cf74e18\", \"bdad72d3-5744-4…\n",
       "  :outputtag    => Any[\"showoutput\", \"showoutput\", \"showoutput\", \"showoutput\", …\n",
       "  :celltype     => Any[\"code\", \"code\", \"code\", \"markdown\", \"code\", \"code\", \"cod…\n",
       "  :view         => [\"showcode\", \"showcode\", \"showcode\", \"showcode\", \"showcode\",…\n",
       "  :order        => [4, 1, 2, 5, 6, 7, 3, 8, 9, 10, 11, 12]\n",
       "  :notebookname => \"examplepluto\"\n",
       "  :contents     => Any[\"using PlutoUI\\n\\n\", \"\\n\\t begin\\n\\tusing Plots\\n\\ty(x) …"
      ]
     },
     "execution_count": 52,
     "metadata": {},
     "output_type": "execute_result"
    }
   ],
   "source": [
    "example = \"./example/examplepluto.jl\"\n",
    "nb = extractnotebook(example)"
   ]
  },
  {
   "cell_type": "code",
   "execution_count": 53,
   "id": "d934d3f1-99d8-4fc9-ba1f-329e67988540",
   "metadata": {},
   "outputs": [
    {
     "name": "stderr",
     "output_type": "stream",
     "text": [
      "┌ Warning: `LocalResource` **will not work** when you share the script/notebook with someone else, _unless they have those resources at exactly the same location on their file system_. \n",
      "│ \n",
      "│ ## Recommended alternatives (images)\n",
      "│ 1. Go to [imgur.com](https://imgur.com) and drag&drop the image to the page. Right click on the image, and select \"Copy image location\". You can now use the image like so: `PlutoUI.Resource(\"https://i.imgur.com/SAzsMMA.jpg\")`.\n",
      "│ 2. If your notebook is part of a git repository, place the image in the repository and use a relative path: `PlutoUI.LocalResource(\"../images/cat.jpg\")`.\n",
      "└ @ PlutoUI /home/davibarreira/.julia/packages/PlutoUI/iYlHi/src/Resource.jl:80\n"
     ]
    }
   ],
   "source": [
    "cd(currentpath)\n",
    "outputs = collectoutputs(nb,\"./example/\");"
   ]
  },
  {
   "cell_type": "code",
   "execution_count": 54,
   "id": "b9d68003-39b8-4368-ad7c-ab689b53ebb4",
   "metadata": {},
   "outputs": [
    {
     "data": {
      "text/plain": [
       "11-element Vector{Any}:\n",
       " nothing\n",
       " (:plot, \"examplepluto_figure11.png\")\n",
       " nothing\n",
       " (:text, \"3-element Vector{Int64}:\\n 10\\n 10\\n 10\")\n",
       " (:text, \"10-element Vector{Float64}:\\n 0.39754715314037603\\n 0.919044663378594\\n 0.05551730296841817\\n 0.7917307140377037\\n 0.4658397199858362\\n 0.6401718616222349\\n 0.002562792642785361\\n 0.6902059532849241\\n 0.35803663545628206\\n 0.7805878829068671\")\n",
       " (:text, \"10-element Vector{Float64}:\\n 1.397547153140376\\n 1.919044663378594\\n 1.0555173029684182\\n 1.7917307140377037\\n 1.4658397199858362\\n 1.640171861622235\\n 1.0025627926427854\\n 1.690205953284924\\n 1.358036635456282\\n 1.780587882906867\")\n",
       " nothing\n",
       " (:text, \"FigureAxisPlot()\")\n",
       " (:image, \"figure.svg\")\n",
       " (:text, \"\\\"plotexample.png\\\"\")\n",
       " (:image, \"plotexample.png\")"
      ]
     },
     "execution_count": 54,
     "metadata": {},
     "output_type": "execute_result"
    }
   ],
   "source": [
    "outputs"
   ]
  },
  {
   "cell_type": "code",
   "execution_count": 21,
   "id": "d515c5ec-7eec-482a-89b7-ccaeac80c76c",
   "metadata": {},
   "outputs": [
    {
     "data": {
      "text/plain": [
       ":figurepath"
      ]
     },
     "execution_count": 21,
     "metadata": {},
     "output_type": "execute_result"
    }
   ],
   "source": [
    "Meta.parse(outputs[end][2])"
   ]
  },
  {
   "cell_type": "code",
   "execution_count": null,
   "id": "2b64c8ce-479b-4506-b4f0-367ac9552432",
   "metadata": {},
   "outputs": [],
   "source": []
  }
 ],
 "metadata": {
  "kernelspec": {
   "display_name": "JuliaFlux 1.6.3",
   "language": "julia",
   "name": "juliaflux-1.6"
  },
  "language_info": {
   "file_extension": ".jl",
   "mimetype": "application/julia",
   "name": "julia",
   "version": "1.6.3"
  }
 },
 "nbformat": 4,
 "nbformat_minor": 5
}
