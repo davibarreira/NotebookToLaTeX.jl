{
 "cells": [
  {
   "cell_type": "code",
   "execution_count": 37,
   "id": "0edd2bc0-3305-4e01-b314-455386f4665e",
   "metadata": {},
   "outputs": [],
   "source": [
    "using ReadableRegex\n",
    "using Plots\n",
    "using Makie, CairoMakie\n",
    "cd(\"./example\")"
   ]
  },
  {
   "cell_type": "code",
   "execution_count": 41,
   "id": "70f1141f-2417-40df-8d1e-412a3b7a3fba",
   "metadata": {},
   "outputs": [
    {
     "data": {
      "text/plain": [
       "Main.Runner"
      ]
     },
     "execution_count": 41,
     "metadata": {},
     "output_type": "execute_result"
    }
   ],
   "source": [
    "module Runner\n",
    "end"
   ]
  },
  {
   "cell_type": "code",
   "execution_count": 57,
   "id": "4b89fa7f-0ac3-4c7b-8b1f-4d4de959ad3d",
   "metadata": {},
   "outputs": [
    {
     "data": {
      "text/plain": [
       "notebooktolatex (generic function with 1 method)"
      ]
     },
     "execution_count": 57,
     "metadata": {},
     "output_type": "execute_result"
    }
   ],
   "source": [
    "function extractnotebook(notebook, notebookname=nothing)\n",
    "    s = read(notebook, String)\n",
    "    cells = split(s, \"# ╔═╡ \");\n",
    "    # The first cell and the final 3 are not used\n",
    "    codes, contents, outputtag, celltype = [],[],[],[]\n",
    "    for cell in cells[2:end-3]\n",
    "        push!(codes, cell[1:36])\n",
    "        push!(contents, cell[38:end])\n",
    "        push!(outputtag, endswith(rstrip(cell),\";\") ? \"hideoutput\" : \"showoutput\")\n",
    "        push!(celltype, cell[38:42] == \"md\\\"\\\"\\\"\" ? \"markdown\" : \"code\")\n",
    "    end\n",
    "    \n",
    "    # Get order and view type\n",
    "    r = either(\"# ╠\",\"# ╟\")\n",
    "    sortedcells = split(cells[end],Regex(r))\n",
    "    sortedcodes = [cell[4:39] for cell in sortedcells[2:end-2]]\n",
    "    order = [findfirst(isequal(scode),codes) for scode in  sortedcodes[1:end]]\n",
    "    view  = [occursin(\"═\",c) ? \"showcode\" : \"hidecode\" for c in sortedcells[2:end-2]]\n",
    "    # Matching running order\n",
    "    view  = view[[findfirst(isequal(scode),sortedcodes) for scode in  codes]]\n",
    "\n",
    "    # inferring the notebook name\n",
    "    # base on the notebook file path.\n",
    "    if notebookname === nothing\n",
    "        notebookname = split(notebook,\"/\")[end]\n",
    "        if endswith(notebookname,\".jl\")\n",
    "            # removes the \".jl\" in the end\n",
    "            notebookname = notebookname[1:end-3]\n",
    "        end\n",
    "    end\n",
    "    \n",
    "    notebookdata = Dict(:codes => codes, :notebookname => notebookname,\n",
    "                        :contents => contents, :outputtag=>outputtag,\n",
    "                        :celltype => celltype,:order=> order,:view=>view)\n",
    "    return notebookdata\n",
    "end\n",
    "\n",
    "function collectoutputs(notebookdata, notebookfolder=\"./\")\n",
    "    figureindex = Dict(:i => 0)\n",
    "    runpath = pwd()\n",
    "    cd(notebookfolder)\n",
    "    outputs = []\n",
    "    for (i, content) ∈ enumerate(notebookdata[:contents])\n",
    "        if notebookdata[:celltype][i] == \"code\"\n",
    "            if startswith(lstrip(content),\"begin\") && endswith(rstrip(content),\"end\")\n",
    "                ex = :($(Meta.parse(strip(content))))\n",
    "            else\n",
    "                ex = :($(Meta.parse(\"begin\\n\"*content*\"\\nend\")))\n",
    "            end\n",
    "            \n",
    "            s = string(ex.args[end])\n",
    "            if contains(s, Regex(either(\"PlutoUI.LocalResource\",\"LocalResource\")))\n",
    "                if findfirst(Regex(look_for(one_or_more(ANY),after=\"(\\\"\",before=\"\\\")\")),s) === nothing\n",
    "                    Runner.eval(ex)\n",
    "                    pathvariable = s[findfirst(Regex(look_for(one_or_more(ANY),after=\"(\",before=\")\")),s)]\n",
    "                    imagepath = Runner.eval(Meta.parse(pathvariable))\n",
    "                else\n",
    "                    imagepath = s[findfirst(Regex(look_for(one_or_more(ANY),after=\"(\\\"\",before=\"\\\")\")),s)]\n",
    "                end\n",
    "                push!(outputs,(:image,imagepath))\n",
    "            else\n",
    "                io = IOBuffer();\n",
    "                Base.invokelatest(show,\n",
    "                    IOContext(io, :limit => true),\"text/plain\",\n",
    "                    dispatch_output(Runner.eval(ex), notebookdata[:notebookname], runpath, figureindex));\n",
    "                celloutput = String(take!(io))\n",
    "                if celloutput == \"nothing\"\n",
    "                    push!(outputs,nothing)\n",
    "                elseif startswith(celloutput, \"Plot{Plots.\")\n",
    "                    push!(outputs,\n",
    "                    (:plot,notebookdata[:notebookname]*\"_\"*\"figure\"*string(figureindex[:i])*\".png\"))\n",
    "                elseif startswith(celloutput, \"FigureAxisPlot()\")\n",
    "                    push!(outputs,\n",
    "                    (:plot,notebookdata[:notebookname]*\"_\"*\"figure\"*string(figureindex[:i])*\".png\"))\n",
    "                else\n",
    "                    push!(outputs,(:text, celloutput))\n",
    "                end\n",
    "            end\n",
    "        else\n",
    "            push!(outputs,nothing)\n",
    "        end\n",
    "    end\n",
    "    cd(runpath)\n",
    "    return outputs\n",
    "end\n",
    "\n",
    "function dispatch_output(command_eval::Makie.FigureAxisPlot, notebookname, runpath, figureindex)\n",
    "    figureindex[:i]+=1\n",
    "    save(runpath*\"/build_latex/figures/\"*notebookname*\"_\"*\"figure\"*string(figureindex[:i])*\".pdf\", command_eval)\n",
    "    return command_eval\n",
    "end\n",
    "\n",
    "function dispatch_output(command_eval::Plots.Plot, notebookname, runpath, figureindex)\n",
    "    figureindex[:i]+=1\n",
    "    println(runpath)\n",
    "    savefig(command_eval,runpath*\"/build_latex/figures/\"*notebookname*\"_\"*\"figure\"*string(figureindex[:i])*\".png\")\n",
    "    return command_eval\n",
    "end\n",
    "\n",
    "function dispatch_output(command_eval, notebookname, runpath, figureindex)\n",
    "   return command_eval \n",
    "end\n",
    "\n",
    "function createstructure(path=\"./\")\n",
    "    folder = path*\"/build_latex/\"\n",
    "    if !isdir(folder)\n",
    "    mkpath(folder*\"notebooks\")\n",
    "    mkpath(folder*\"figures\")\n",
    "    else\n",
    "        if !isdir(folder*\"notebooks\")\n",
    "            mkpath(folder*\"notebooks\")\n",
    "        end\n",
    "        if !isdir(folder*\"figures\")\n",
    "            mkpath(folder*\"figures\")\n",
    "        end\n",
    "    end\n",
    "end\n",
    "\n",
    "\n",
    "function notebooktolatex(notebook)\n",
    "end"
   ]
  },
  {
   "cell_type": "code",
   "execution_count": 58,
   "id": "e7af404e-989a-4b3e-9429-372c61b40735",
   "metadata": {},
   "outputs": [
    {
     "data": {
      "text/plain": [
       "Dict{Symbol, Any} with 7 entries:\n",
       "  :codes        => Any[\"7b4b693d-c955-4c9b-97e8-56d28cf74e18\", \"bdad72d3-5744-4…\n",
       "  :outputtag    => Any[\"showoutput\", \"showoutput\", \"showoutput\", \"showoutput\", …\n",
       "  :celltype     => Any[\"code\", \"code\", \"code\", \"markdown\", \"code\", \"code\", \"cod…\n",
       "  :view         => [\"showcode\", \"showcode\", \"hidecode\", \"showcode\", \"showcode\",…\n",
       "  :order        => [4, 1, 2, 5, 6, 7, 3, 8, 9, 10, 11, 12]\n",
       "  :notebookname => \"examplepluto\"\n",
       "  :contents     => Any[\"using PlutoUI\\n\\n\", \"\\n\\t begin\\n\\tusing Plots\\n\\ty(x) …"
      ]
     },
     "execution_count": 58,
     "metadata": {},
     "output_type": "execute_result"
    }
   ],
   "source": [
    "example = \"./examplepluto.jl\"\n",
    "nb = extractnotebook(example)"
   ]
  },
  {
   "cell_type": "code",
   "execution_count": 59,
   "id": "a0019b5d-5d24-467b-8611-f821d45e9fba",
   "metadata": {},
   "outputs": [
    {
     "name": "stdout",
     "output_type": "stream",
     "text": [
      "/home/davibarreira/MEGA/EMAp/PlutoLatexConverter.jl/example\n"
     ]
    },
    {
     "name": "stderr",
     "output_type": "stream",
     "text": [
      "┌ Warning: `LocalResource` **will not work** when you share the script/notebook with someone else, _unless they have those resources at exactly the same location on their file system_. \n",
      "│ \n",
      "│ ## Recommended alternatives (images)\n",
      "│ 1. Go to [imgur.com](https://imgur.com) and drag&drop the image to the page. Right click on the image, and select \"Copy image location\". You can now use the image like so: `PlutoUI.Resource(\"https://i.imgur.com/SAzsMMA.jpg\")`.\n",
      "│ 2. If your notebook is part of a git repository, place the image in the repository and use a relative path: `PlutoUI.LocalResource(\"../images/cat.jpg\")`.\n",
      "└ @ PlutoUI /home/davibarreira/.julia/packages/PlutoUI/iYlHi/src/Resource.jl:80\n"
     ]
    }
   ],
   "source": [
    "outputs = collectoutputs(nb,\"./\");"
   ]
  },
  {
   "cell_type": "code",
   "execution_count": 60,
   "id": "b9d68003-39b8-4368-ad7c-ab689b53ebb4",
   "metadata": {},
   "outputs": [
    {
     "data": {
      "text/plain": [
       "12-element Vector{Any}:\n",
       " nothing\n",
       " (:plot, \"examplepluto_figure1.png\")\n",
       " nothing\n",
       " nothing\n",
       " (:text, \"3-element Vector{Int64}:\\n 10\\n 10\\n 10\")\n",
       " (:text, \"10-element Vector{Float64}:\\n 0.8891274399292513\\n 0.3028870622465778\\n 0.5312253175365158\\n 0.48801640701350935\\n 0.3654495703054199\\n 0.9094045080020947\\n 0.2040115863189218\\n 0.04123082110552434\\n 0.8451105965259518\\n 0.8527182703424292\")\n",
       " (:text, \"10-element Vector{Float64}:\\n 1.8891274399292513\\n 1.3028870622465778\\n 1.5312253175365158\\n 1.4880164070135093\\n 1.36544957030542\\n 1.9094045080020947\\n 1.2040115863189218\\n 1.0412308211055243\\n 1.8451105965259518\\n 1.8527182703424292\")\n",
       " nothing\n",
       " (:plot, \"examplepluto_figure2.png\")\n",
       " (:image, \"figure.svg\")\n",
       " (:text, \"\\\"plotexample.png\\\"\")\n",
       " (:image, \"plotexample.png\")"
      ]
     },
     "execution_count": 60,
     "metadata": {},
     "output_type": "execute_result"
    }
   ],
   "source": [
    "outputs"
   ]
  },
  {
   "cell_type": "code",
   "execution_count": 111,
   "id": "035a6d7b-175c-4464-a65e-381552c9fed9",
   "metadata": {},
   "outputs": [
    {
     "data": {
      "text/plain": [
       "12-element Vector{Any}:\n",
       " \"md\\\"\\\"\\\"\\n# Chapter\\n## Section\\n### Subsection\\n#### Subsubsection\\nMy text here with *italics*, with **bold**, and a [link](https://davibarreira.github.io/).\\n\\nAdding some math expression here with \\$x=10\\$ and\\n```math\\nd(\\\\omega(t_0),\\\\omega(t_1)) \\\\leq \\\\int^{t_1}_{t_0}g(s) ds.\\n```\\n\\nAdding some code like `plots`. Note that the `using plots`\\n\\\"\\\"\\\"\\n\\n\"\n",
       " \"using PlutoUI\\n\\n\"\n",
       " \"\\n\\t begin\\n\\tusing Plots\\n\\ty(x) = sin(x)\\n\\tplot(y,\\n\\t\\tcolor=:blue)\\nend\\n\\n\\n\"\n",
       " \"A = [10,10,10]\\n\\n\"\n",
       " \"x = rand(10);\\n\\n\"\n",
       " \"x .+ 1\\n\\n\"\n",
       " \"using Makie, CairoMakie\\n\\n\"\n",
       " \"set_theme!(theme_ggplot2())\\n\\n\"\n",
       " \"Makie.plot(x)\\n\\n\"\n",
       " \"PlutoUI.LocalResource(\\\"figure.svg\\\")\\n\\n\"\n",
       " \"figurepath = \\\"plotexample.png\\\";\\n\\n\"\n",
       " \"PlutoUI.LocalResource(figurepath)\\n\\n\""
      ]
     },
     "execution_count": 111,
     "metadata": {},
     "output_type": "execute_result"
    }
   ],
   "source": [
    "nb[:contents][nb[:order]]"
   ]
  },
  {
   "cell_type": "code",
   "execution_count": 112,
   "id": "47dced68-d498-47f9-8af0-6e1e2056fc32",
   "metadata": {},
   "outputs": [
    {
     "data": {
      "text/plain": [
       "12-element Vector{Any}:\n",
       " \"using PlutoUI\\n\\n\"\n",
       " \"\\n\\t begin\\n\\tusing Plots\\n\\ty(x) = sin(x)\\n\\tplot(y,\\n\\t\\tcolor=:blue)\\nend\\n\\n\\n\"\n",
       " \"using Makie, CairoMakie\\n\\n\"\n",
       " \"md\\\"\\\"\\\"\\n# Chapter\\n## Section\\n### Subsection\\n#### Subsubsection\\nMy text here with *italics*, with **bold**, and a [link](https://davibarreira.github.io/).\\n\\nAdding some math expression here with \\$x=10\\$ and\\n```math\\nd(\\\\omega(t_0),\\\\omega(t_1)) \\\\leq \\\\int^{t_1}_{t_0}g(s) ds.\\n```\\n\\nAdding some code like `plots`. Note that the `using plots`\\n\\\"\\\"\\\"\\n\\n\"\n",
       " \"A = [10,10,10]\\n\\n\"\n",
       " \"x = rand(10);\\n\\n\"\n",
       " \"x .+ 1\\n\\n\"\n",
       " \"set_theme!(theme_ggplot2())\\n\\n\"\n",
       " \"Makie.plot(x)\\n\\n\"\n",
       " \"PlutoUI.LocalResource(\\\"figure.svg\\\")\\n\\n\"\n",
       " \"figurepath = \\\"plotexample.png\\\";\\n\\n\"\n",
       " \"PlutoUI.LocalResource(figurepath)\\n\\n\""
      ]
     },
     "execution_count": 112,
     "metadata": {},
     "output_type": "execute_result"
    }
   ],
   "source": [
    "nb[:contents]"
   ]
  },
  {
   "cell_type": "code",
   "execution_count": 113,
   "id": "eb949bf7-c842-4a37-9cad-b2cdfcd10809",
   "metadata": {},
   "outputs": [
    {
     "data": {
      "text/plain": [
       "true"
      ]
     },
     "execution_count": 113,
     "metadata": {},
     "output_type": "execute_result"
    }
   ],
   "source": [
    "nb[:outputtag][1] == \"showoutput\""
   ]
  },
  {
   "cell_type": "code",
   "execution_count": 115,
   "id": "d515c5ec-7eec-482a-89b7-ccaeac80c76c",
   "metadata": {},
   "outputs": [],
   "source": [
    "notebook = \"./build_latex/notebooks/\"*nb[:notebookname]*\".tex\"\n",
    "open(notebook, \"w\") do f\n",
    "    write(f,\"\\\\newpage\\n\")\n",
    "    for i in nb[:order]\n",
    "        if nb[:celltype][i] == \"code\" && nb[:view][i] == \"showcode\"\n",
    "            write(f,\"\\n\\\\begin{lstlisting}[language=JuliaLocal, style=julia]\\n\")\n",
    "            write(f, strip(nb[:contents][i]))\n",
    "            write(f,\"\\n\\\\end{lstlisting}\\n\")\n",
    "        end\n",
    "        if nb[:celltype][i] == \"code\" && nb[:outputtag][i] == \"showoutput\"\n",
    "            if outputs[i] === nothing\n",
    "            elseif outputs[i][1] == :text\n",
    "                write(f,\"\\n\\\\begin{verbatim}\\n\")\n",
    "                write(f, outputs[i][2])\n",
    "                write(f,\"\\n\\\\end{verbatim}\\n\")\n",
    "            elseif outputs[i][1] == :plot\n",
    "                write(f,\"\\n\\\\begin{figure}[H]\\n\")\n",
    "                write(f,\"\\t\\\\centering\\n\")\n",
    "                write(f,\"\\t\\\\includegraphics[width=0.8\\\\textwidth]{./figures/\"*outputs[i][2]*\"}\\n\")\n",
    "                write(f,\"\\t\\\\label{fig:\"*outputs[i][2]*\"}\\n\")\n",
    "                write(f,\"\\n\\\\end{figure}\\n\")\n",
    "            end\n",
    "        end\n",
    "    end\n",
    "#     write(f,\"\\\\newpage\\n\")\n",
    "end"
   ]
  },
  {
   "cell_type": "code",
   "execution_count": 92,
   "id": "20575726-22c6-4aba-9604-34334714b131",
   "metadata": {},
   "outputs": [
    {
     "data": {
      "text/plain": [
       "insertline (generic function with 1 method)"
      ]
     },
     "execution_count": 92,
     "metadata": {},
     "output_type": "execute_result"
    }
   ],
   "source": [
    "function skiplines(io::IO, n)\n",
    "    i = 1\n",
    "    while i <= n\n",
    "       eof(io) && error(\"File contains less than $n lines\")\n",
    "       i += read(io, Char) === '\\n'\n",
    "    end\n",
    "end\n",
    "    \n",
    "# Function based on https://discourse.julialang.org/t/write-to-a-particular-line-in-a-file/50179\n",
    "function writetext(file::String, text::String, linenumber::Integer, endline=true)\n",
    "    f = open(file, \"r+\");\n",
    "    if endline\n",
    "        skiplines(f, linenumber);\n",
    "        skip(f, -1)\n",
    "    else\n",
    "        skiplines(f, linenumber-1);\n",
    "    end\n",
    "    mark(f)\n",
    "    buf = IOBuffer()\n",
    "    write(buf, f)\n",
    "    seekstart(buf)\n",
    "    reset(f)\n",
    "    print(f, text);\n",
    "    write(f, buf)\n",
    "    close(f)\n",
    "end\n",
    "\n",
    "function insertline(file::String, text::String, linenumber::Integer)\n",
    "    if linenumber==1\n",
    "        writetext(file, text*\"\\n\", linenumber, false)\n",
    "    else\n",
    "        writetext(file, \"\\n\"*text, linenumber-1)\n",
    "    end\n",
    "end"
   ]
  },
  {
   "cell_type": "code",
   "execution_count": 94,
   "id": "500c7783-10ab-419b-8492-49964282cbb8",
   "metadata": {},
   "outputs": [],
   "source": [
    "insertline(notebook,\"inserted line\", 2)"
   ]
  },
  {
   "cell_type": "code",
   "execution_count": 95,
   "id": "961501f3-e274-44e9-bee3-bd81abb875c4",
   "metadata": {},
   "outputs": [],
   "source": [
    "insertline(notebook,\"inserted line\", 1)"
   ]
  },
  {
   "cell_type": "code",
   "execution_count": 83,
   "id": "f638709e-db17-40af-a1fc-7910ccc8ea7c",
   "metadata": {},
   "outputs": [],
   "source": [
    "writetext(notebook, \"testing\",1, false)\n",
    "writetext(notebook, \"testing\",1)"
   ]
  },
  {
   "cell_type": "code",
   "execution_count": 68,
   "id": "2b64c8ce-479b-4506-b4f0-367ac9552432",
   "metadata": {},
   "outputs": [],
   "source": [
    "editline(notebook,\"DAIVII\",2)"
   ]
  },
  {
   "cell_type": "code",
   "execution_count": 114,
   "id": "4faeec1d-c1d8-4986-b39f-3db37638b0fc",
   "metadata": {},
   "outputs": [
    {
     "data": {
      "text/plain": [
       "\"% Copyright page\\n\\n{\\\\small\\n\\\\setlength{\\\\parindent}{0em}\\\\setlength{\\\\parskip}{1em}\\n\\n~\\n\\n\\\\vfill\\n\\nCopyright \\\\copyright{} 2021 \\\\authorname\\n\\nAll rights reserved. No part of this publication may be reproduced, stored or transmitted in any form or by any means, electronic, mechanical, photocopying, recording, scanning, or otherwise without written permission from the publisher. It is illegal to copy this book, post it to a website, or distribute it by any other means without permission.\\n\\nFirst edition, \\\\editionyear{}\\n\\nISBN \\\\isbn{}  % see main.tex\\n\\nPublished by \\\\publisher{}\\n}\\n\""
      ]
     },
     "execution_count": 114,
     "metadata": {},
     "output_type": "execute_result"
    }
   ],
   "source": [
    "read(\"../templates/frontmatter/copyright.tex\", String)"
   ]
  },
  {
   "cell_type": "code",
   "execution_count": 34,
   "id": "b02dd6b9-c8b2-441d-907c-1b3628b0934e",
   "metadata": {},
   "outputs": [
    {
     "data": {
      "text/plain": [
       "f! (generic function with 5 methods)"
      ]
     },
     "execution_count": 34,
     "metadata": {},
     "output_type": "execute_result"
    }
   ],
   "source": [
    "function altere(v)\n",
    "    x = Dict(:figureindex => 1)\n",
    "    println(x)\n",
    "    f!(x)\n",
    "    println(x)\n",
    "    \n",
    "end\n",
    "\n",
    "function f!(x)\n",
    "    x[:figureindex] += 1\n",
    "end"
   ]
  },
  {
   "cell_type": "code",
   "execution_count": 35,
   "id": "9bf5c68c-b074-4b41-997c-8ca050281655",
   "metadata": {},
   "outputs": [
    {
     "name": "stdout",
     "output_type": "stream",
     "text": [
      "Dict(:figureindex => 1)\n",
      "Dict(:figureindex => 2)\n"
     ]
    }
   ],
   "source": [
    "altere(1)"
   ]
  },
  {
   "cell_type": "code",
   "execution_count": 28,
   "id": "ec27826f-887b-43c6-80b2-323f281844b3",
   "metadata": {},
   "outputs": [
    {
     "data": {
      "text/plain": [
       "2"
      ]
     },
     "execution_count": 28,
     "metadata": {},
     "output_type": "execute_result"
    }
   ],
   "source": [
    "parse(Int,x)"
   ]
  }
 ],
 "metadata": {
  "kernelspec": {
   "display_name": "JuliaFlux 1.6.3",
   "language": "julia",
   "name": "juliaflux-1.6"
  },
  "language_info": {
   "file_extension": ".jl",
   "mimetype": "application/julia",
   "name": "julia",
   "version": "1.6.3"
  }
 },
 "nbformat": 4,
 "nbformat_minor": 5
}
