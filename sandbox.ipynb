{
 "cells": [
  {
   "cell_type": "code",
   "execution_count": 1,
   "id": "0edd2bc0-3305-4e01-b314-455386f4665e",
   "metadata": {},
   "outputs": [],
   "source": [
    "using ReadableRegex\n",
    "using Plots\n",
    "using Makie, CairoMakie\n",
    "cd(\"./example\")"
   ]
  },
  {
   "cell_type": "code",
   "execution_count": 2,
   "id": "70f1141f-2417-40df-8d1e-412a3b7a3fba",
   "metadata": {},
   "outputs": [
    {
     "data": {
      "text/plain": [
       "Main.Runner"
      ]
     },
     "execution_count": 2,
     "metadata": {},
     "output_type": "execute_result"
    }
   ],
   "source": [
    "module Runner\n",
    "end"
   ]
  },
  {
   "cell_type": "code",
   "execution_count": 3,
   "id": "38ca06f5-a7e3-4647-bc0f-daf4882b8027",
   "metadata": {},
   "outputs": [
    {
     "data": {
      "text/plain": [
       "0"
      ]
     },
     "execution_count": 3,
     "metadata": {},
     "output_type": "execute_result"
    }
   ],
   "source": [
    "figureindex = 0"
   ]
  },
  {
   "cell_type": "code",
   "execution_count": 4,
   "id": "4b89fa7f-0ac3-4c7b-8b1f-4d4de959ad3d",
   "metadata": {},
   "outputs": [
    {
     "data": {
      "text/plain": [
       "createfolders (generic function with 2 methods)"
      ]
     },
     "execution_count": 4,
     "metadata": {},
     "output_type": "execute_result"
    }
   ],
   "source": [
    "function extractnotebook(notebook, notebookname=nothing)\n",
    "    s = read(notebook, String)\n",
    "    cells = split(s, \"# ╔═╡ \");\n",
    "    # The first cell and the final 3 are not used\n",
    "    codes, contents, outputtag, celltype = [],[],[],[]\n",
    "    for cell in cells[2:end-3]\n",
    "        push!(codes, cell[1:36])\n",
    "        push!(contents, cell[38:end])\n",
    "        push!(outputtag, endswith(rstrip(cell),\";\") ? \"hideoutput\" : \"showoutput\")\n",
    "        push!(celltype, cell[38:42] == \"md\\\"\\\"\\\"\" ? \"markdown\" : \"code\")\n",
    "    end\n",
    "    \n",
    "    # Get order and view type\n",
    "    r = either(\"# ╠\",\"# ╟\")\n",
    "    sortedcells = split(cells[end],Regex(r))\n",
    "    sortedcodes = [cell[4:39] for cell in sortedcells[2:end-2]]\n",
    "    order = [findfirst(isequal(scode),codes) for scode in  sortedcodes[1:end]]\n",
    "    view  = [occursin(\"═\",c) ? \"showcode\" : \"hidecode\" for c in sortedcells[2:end-2]]\n",
    "    # Matching running order\n",
    "    view  = view[order]\n",
    "\n",
    "    # inferring the notebook name\n",
    "    # base on the notebook file path.\n",
    "    if notebookname === nothing\n",
    "        notebookname = split(notebook,\"/\")[end]\n",
    "        if endswith(notebookname,\".jl\")\n",
    "            # removes the \".jl\" in the end\n",
    "            notebookname = notebookname[1:end-3]\n",
    "        end\n",
    "    end\n",
    "    \n",
    "    notebookdata = Dict(:codes => codes, :notebookname => notebookname,\n",
    "                        :contents => contents, :outputtag=>outputtag,\n",
    "                        :celltype => celltype,:order=> order,:view=>view)\n",
    "    return notebookdata\n",
    "end\n",
    "\n",
    "function collectoutputs(notebookdata, notebookfolder=\"./\")\n",
    "    runpath = pwd()\n",
    "    cd(notebookfolder)\n",
    "    outputs = []\n",
    "    for (i, content) ∈ enumerate(notebookdata[:contents])\n",
    "        if notebookdata[:celltype][i] == \"code\"\n",
    "            if startswith(lstrip(content),\"begin\") && endswith(rstrip(content),\"end\")\n",
    "                ex = :($(Meta.parse(strip(content))))\n",
    "            else\n",
    "                ex = :($(Meta.parse(\"begin\\n\"*content*\"\\nend\")))\n",
    "            end\n",
    "            \n",
    "            s = string(ex.args[end])\n",
    "            if contains(s, Regex(either(\"PlutoUI.LocalResource\",\"LocalResource\")))\n",
    "                if findfirst(Regex(look_for(one_or_more(ANY),after=\"(\\\"\",before=\"\\\")\")),s) === nothing\n",
    "                    Runner.eval(ex)\n",
    "                    pathvariable = s[findfirst(Regex(look_for(one_or_more(ANY),after=\"(\",before=\")\")),s)]\n",
    "                    imagepath = Runner.eval(Meta.parse(pathvariable))\n",
    "                else\n",
    "                    imagepath = s[findfirst(Regex(look_for(one_or_more(ANY),after=\"(\\\"\",before=\"\\\")\")),s)]\n",
    "                end\n",
    "                push!(outputs,(:image,imagepath))\n",
    "            else\n",
    "                io = IOBuffer();\n",
    "                Base.invokelatest(show,\n",
    "                    IOContext(io, :limit => true),\"text/plain\",\n",
    "                    dispatch_output(Runner.eval(ex), notebookdata[:notebookname], runpath));\n",
    "                celloutput = String(take!(io))\n",
    "                if celloutput == \"nothing\"\n",
    "                    push!(outputs,nothing)\n",
    "                elseif startswith(celloutput, \"Plot{Plots.\")\n",
    "                    push!(outputs,\n",
    "                    (:plot,notebookdata[:notebookname]*\"_\"*\"figure\"*string(figureindex)*\".png\"))\n",
    "                elseif startswith(celloutput, \"FigureAxisPlot()\")\n",
    "                    push!(outputs,\n",
    "                    (:plot,notebookdata[:notebookname]*\"_\"*\"figure\"*string(figureindex)*\".png\"))\n",
    "                else\n",
    "                    push!(outputs,(:text, celloutput))\n",
    "                end\n",
    "            end\n",
    "        end\n",
    "    end\n",
    "    cd(runpath)\n",
    "    return outputs\n",
    "end\n",
    "\n",
    "function dispatch_output(command_eval::Makie.FigureAxisPlot, notebookname, runpath)\n",
    "    global figureindex+=1\n",
    "    save(runpath*\"/build_latex/figures/\"*notebookname*\"_\"*\"figure\"*string(figureindex)*\".pdf\", command_eval)\n",
    "    return command_eval\n",
    "end\n",
    "\n",
    "function dispatch_output(command_eval::Plots.Plot, notebookname, runpath)\n",
    "    global figureindex+=1\n",
    "    println(runpath)\n",
    "    savefig(command_eval,runpath*\"/build_latex/figures/\"*notebookname*\"_\"*\"figure\"*string(figureindex)*\".png\")\n",
    "    return command_eval\n",
    "end\n",
    "\n",
    "function dispatch_output(command_eval, notebookname, runpath)\n",
    "   return command_eval \n",
    "end\n",
    "\n",
    "function createstructure(path=\"./\")\n",
    "    folder = path*\"/build_latex/\"\n",
    "    if !isdir(folder)\n",
    "    mkpath(folder*\"notebooks\")\n",
    "    mkpath(folder*\"figures\")\n",
    "    else\n",
    "        if !isdir(folder*\"notebooks\")\n",
    "            mkpath(folder*\"notebooks\")\n",
    "        end\n",
    "        if !isdir(folder*\"figures\")\n",
    "            mkpath(folder*\"figures\")\n",
    "        end\n",
    "    end\n",
    "end\n",
    "\n",
    "\n",
    "function notebooktolatex(notebook)\n",
    "end"
   ]
  },
  {
   "cell_type": "code",
   "execution_count": null,
   "id": "0edba27b-d004-427d-a887-039349e16c53",
   "metadata": {},
   "outputs": [],
   "source": [
    "cp()"
   ]
  },
  {
   "cell_type": "code",
   "execution_count": 9,
   "id": "fcb68c3d-5bd8-4267-b444-e364ef72d9b4",
   "metadata": {},
   "outputs": [
    {
     "data": {
      "text/plain": [
       "12-element Vector{Any}:\n",
       " \"code\"\n",
       " \"code\"\n",
       " \"code\"\n",
       " \"markdown\"\n",
       " \"code\"\n",
       " \"code\"\n",
       " \"code\"\n",
       " \"code\"\n",
       " \"code\"\n",
       " \"code\"\n",
       " \"code\"\n",
       " \"code\""
      ]
     },
     "execution_count": 9,
     "metadata": {},
     "output_type": "execute_result"
    }
   ],
   "source": [
    "nb[:celltype]"
   ]
  },
  {
   "cell_type": "code",
   "execution_count": 5,
   "id": "e7af404e-989a-4b3e-9429-372c61b40735",
   "metadata": {},
   "outputs": [
    {
     "data": {
      "text/plain": [
       "Dict{Symbol, Any} with 7 entries:\n",
       "  :codes        => Any[\"7b4b693d-c955-4c9b-97e8-56d28cf74e18\", \"bdad72d3-5744-4…\n",
       "  :outputtag    => Any[\"showoutput\", \"showoutput\", \"showoutput\", \"showoutput\", …\n",
       "  :celltype     => Any[\"code\", \"code\", \"code\", \"markdown\", \"code\", \"code\", \"cod…\n",
       "  :view         => [\"showcode\", \"showcode\", \"showcode\", \"showcode\", \"showcode\",…\n",
       "  :order        => [4, 1, 2, 5, 6, 7, 3, 8, 9, 10, 11, 12]\n",
       "  :notebookname => \"examplepluto\"\n",
       "  :contents     => Any[\"using PlutoUI\\n\\n\", \"\\n\\t begin\\n\\tusing Plots\\n\\ty(x) …"
      ]
     },
     "execution_count": 5,
     "metadata": {},
     "output_type": "execute_result"
    }
   ],
   "source": [
    "example = \"./examplepluto.jl\"\n",
    "nb = extractnotebook(example)"
   ]
  },
  {
   "cell_type": "code",
   "execution_count": 7,
   "id": "a0019b5d-5d24-467b-8611-f821d45e9fba",
   "metadata": {},
   "outputs": [
    {
     "name": "stdout",
     "output_type": "stream",
     "text": [
      "/home/davibarreira/MEGA/EMAp/PlutoLatexConverter.jl/example\n"
     ]
    },
    {
     "name": "stderr",
     "output_type": "stream",
     "text": [
      "WARNING: using Makie.plot in module Runner conflicts with an existing identifier.\n",
      "┌ Warning: `LocalResource` **will not work** when you share the script/notebook with someone else, _unless they have those resources at exactly the same location on their file system_. \n",
      "│ \n",
      "│ ## Recommended alternatives (images)\n",
      "│ 1. Go to [imgur.com](https://imgur.com) and drag&drop the image to the page. Right click on the image, and select \"Copy image location\". You can now use the image like so: `PlutoUI.Resource(\"https://i.imgur.com/SAzsMMA.jpg\")`.\n",
      "│ 2. If your notebook is part of a git repository, place the image in the repository and use a relative path: `PlutoUI.LocalResource(\"../images/cat.jpg\")`.\n",
      "└ @ PlutoUI /home/davibarreira/.julia/packages/PlutoUI/iYlHi/src/Resource.jl:80\n"
     ]
    }
   ],
   "source": [
    "createfolders()\n",
    "outputs = collectoutputs(nb,\"./\");"
   ]
  },
  {
   "cell_type": "code",
   "execution_count": 73,
   "id": "b9d68003-39b8-4368-ad7c-ab689b53ebb4",
   "metadata": {},
   "outputs": [
    {
     "data": {
      "text/plain": [
       "11-element Vector{Any}:\n",
       " nothing\n",
       " (:plot, \"examplepluto_figure19.png\")\n",
       " nothing\n",
       " (:text, \"3-element Vector{Int64}:\\n 10\\n 10\\n 10\")\n",
       " (:text, \"10-element Vector{Float64}:\\n 0.5804692302814431\\n 0.8187680304211684\\n 0.6094307577994669\\n 0.7652475734611952\\n 0.880076820645445\\n 0.6968532202625504\\n 0.8718613705930653\\n 0.17962180619044954\\n 0.7573695165430776\\n 0.3845679297317386\")\n",
       " (:text, \"10-element Vector{Float64}:\\n 1.5804692302814431\\n 1.8187680304211684\\n 1.6094307577994669\\n 1.7652475734611952\\n 1.880076820645445\\n 1.6968532202625504\\n 1.8718613705930653\\n 1.1796218061904495\\n 1.7573695165430776\\n 1.3845679297317386\")\n",
       " nothing\n",
       " (:plot, \"examplepluto_figure20.png\")\n",
       " (:image, \"figure.svg\")\n",
       " (:text, \"\\\"plotexample.png\\\"\")\n",
       " (:image, \"plotexample.png\")"
      ]
     },
     "execution_count": 73,
     "metadata": {},
     "output_type": "execute_result"
    }
   ],
   "source": [
    "outputs"
   ]
  },
  {
   "cell_type": "code",
   "execution_count": 55,
   "id": "d515c5ec-7eec-482a-89b7-ccaeac80c76c",
   "metadata": {},
   "outputs": [],
   "source": [
    "notebook = \"./build_latex/notebooks/\"*nb[:notebookname]*\".tex\"\n",
    "open(notebook, \"w\") do f\n",
    "    write(f,\"\\\\newpage\\n\")\n",
    "    for i in nb[:order]\n",
    "        if nb[:celltype][i] == \"code\"\n",
    "            write(f,\"\\n\\\\begin{lstlisting}[language=JuliaLocal, style=julia]\\n\")\n",
    "            write(f, strip(nb[:contents][i]))\n",
    "            write(f,\"\\n\\\\end{lstlisting}\\n\")\n",
    "        end\n",
    "    end\n",
    "#     write(f,\"\\\\newpage\\n\")\n",
    "end"
   ]
  },
  {
   "cell_type": "code",
   "execution_count": 92,
   "id": "20575726-22c6-4aba-9604-34334714b131",
   "metadata": {},
   "outputs": [
    {
     "data": {
      "text/plain": [
       "insertline (generic function with 1 method)"
      ]
     },
     "execution_count": 92,
     "metadata": {},
     "output_type": "execute_result"
    }
   ],
   "source": [
    "function skiplines(io::IO, n)\n",
    "    i = 1\n",
    "    while i <= n\n",
    "       eof(io) && error(\"File contains less than $n lines\")\n",
    "       i += read(io, Char) === '\\n'\n",
    "    end\n",
    "end\n",
    "\n",
    "# Function based on https://discourse.julialang.org/t/write-to-a-particular-line-in-a-file/50179\n",
    "function writetext(file::String, text::String, linenumber::Integer, endline=true)\n",
    "    f = open(file, \"r+\");\n",
    "    if endline\n",
    "        skiplines(f, linenumber);\n",
    "        skip(f, -1)\n",
    "    else\n",
    "        skiplines(f, linenumber-1);\n",
    "    end\n",
    "    mark(f)\n",
    "    buf = IOBuffer()\n",
    "    write(buf, f)\n",
    "    seekstart(buf)\n",
    "    reset(f)\n",
    "    print(f, text);\n",
    "    write(f, buf)\n",
    "    close(f)\n",
    "end\n",
    "\n",
    "function insertline(file::String, text::String, linenumber::Integer)\n",
    "    if linenumber==1\n",
    "        writetext(file, text*\"\\n\", linenumber, false)\n",
    "    else\n",
    "        writetext(file, \"\\n\"*text, linenumber-1)\n",
    "    end\n",
    "end"
   ]
  },
  {
   "cell_type": "code",
   "execution_count": 94,
   "id": "500c7783-10ab-419b-8492-49964282cbb8",
   "metadata": {},
   "outputs": [],
   "source": [
    "insertline(notebook,\"inserted line\", 2)"
   ]
  },
  {
   "cell_type": "code",
   "execution_count": 95,
   "id": "961501f3-e274-44e9-bee3-bd81abb875c4",
   "metadata": {},
   "outputs": [],
   "source": [
    "insertline(notebook,\"inserted line\", 1)"
   ]
  },
  {
   "cell_type": "code",
   "execution_count": 83,
   "id": "f638709e-db17-40af-a1fc-7910ccc8ea7c",
   "metadata": {},
   "outputs": [],
   "source": [
    "writetext(notebook, \"testing\",1, false)\n",
    "writetext(notebook, \"testing\",1)"
   ]
  },
  {
   "cell_type": "code",
   "execution_count": 68,
   "id": "2b64c8ce-479b-4506-b4f0-367ac9552432",
   "metadata": {},
   "outputs": [],
   "source": [
    "editline(notebook,\"DAIVII\",2)"
   ]
  },
  {
   "cell_type": "code",
   "execution_count": 50,
   "id": "7ab6c4c1-2f72-4e21-af10-2ba5d7589f83",
   "metadata": {},
   "outputs": [
    {
     "data": {
      "text/plain": [
       "50-element Vector{String}:\n",
       " \"\\\\newpage\"\n",
       " \"\"\n",
       " \"\\\\begin{lstlisting}[language=JuliaLocal, style=julia]\"\n",
       " \"using PlutoUI\"\n",
       " \"\\\\end{lstlisting}\"\n",
       " \"\"\n",
       " \"\\\\begin{lstlisting}[language=JuliaLocal, style=julia]\"\n",
       " \"begin\"\n",
       " \"\\tusing Plots\"\n",
       " \"\\ty(x) = sin(x)\"\n",
       " \"\\tplot(y,\"\n",
       " \"\\t\\tcolor=:blue)\"\n",
       " \"end\"\n",
       " ⋮\n",
       " \"\"\n",
       " \"\\\\begin{lstlisting}[language=JuliaLocal, style=julia]\"\n",
       " \"PlutoUI.LocalResource(\\\"figure.svg\\\")\"\n",
       " \"\\\\end{lstlisting}\"\n",
       " \"\"\n",
       " \"\\\\begin{lstlisting}[language=JuliaLocal, style=julia]\"\n",
       " \"figurepath = \\\"plotexample.png\\\";\"\n",
       " \"\\\\end{lstlisting}\"\n",
       " \"\"\n",
       " \"\\\\begin{lstlisting}[language=JuliaLocal, style=julia]\"\n",
       " \"PlutoUI.LocalResource(figurepath)\"\n",
       " \"\\\\end{lstlisting}\""
      ]
     },
     "execution_count": 50,
     "metadata": {},
     "output_type": "execute_result"
    }
   ],
   "source": [
    "f = open(notebook)\n",
    "readlines(f)"
   ]
  },
  {
   "cell_type": "code",
   "execution_count": 51,
   "id": "e51c2fb8-00fe-4bcb-a2fc-feeecf02d571",
   "metadata": {},
   "outputs": [],
   "source": [
    "close(f)"
   ]
  },
  {
   "cell_type": "code",
   "execution_count": 45,
   "id": "a6a64e6c-418c-435f-b4da-796fc3ba98e2",
   "metadata": {},
   "outputs": [
    {
     "data": {
      "text/plain": [
       "\"using PlutoUI\""
      ]
     },
     "execution_count": 45,
     "metadata": {},
     "output_type": "execute_result"
    }
   ],
   "source": [
    "rstrip(nb[:contents][1])"
   ]
  }
 ],
 "metadata": {
  "kernelspec": {
   "display_name": "JuliaFlux 1.6.3",
   "language": "julia",
   "name": "juliaflux-1.6"
  },
  "language_info": {
   "file_extension": ".jl",
   "mimetype": "application/julia",
   "name": "julia",
   "version": "1.6.3"
  }
 },
 "nbformat": 4,
 "nbformat_minor": 5
}
