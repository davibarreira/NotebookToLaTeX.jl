{
 "cells": [
  {
   "cell_type": "code",
   "execution_count": 31,
   "id": "0edd2bc0-3305-4e01-b314-455386f4665e",
   "metadata": {},
   "outputs": [
    {
     "data": {
      "text/plain": [
       "\"/home/davibarreira/MEGA/EMAp/PlutoLatexConverter.jl\""
      ]
     },
     "execution_count": 31,
     "metadata": {},
     "output_type": "execute_result"
    }
   ],
   "source": [
    "using ReadableRegex\n",
    "using Plots\n",
    "currentpath = pwd()"
   ]
  },
  {
   "cell_type": "code",
   "execution_count": 32,
   "id": "70f1141f-2417-40df-8d1e-412a3b7a3fba",
   "metadata": {},
   "outputs": [
    {
     "name": "stderr",
     "output_type": "stream",
     "text": [
      "WARNING: replacing module Runner.\n"
     ]
    },
    {
     "data": {
      "text/plain": [
       "Main.Runner"
      ]
     },
     "execution_count": 32,
     "metadata": {},
     "output_type": "execute_result"
    }
   ],
   "source": [
    "module Runner\n",
    "end"
   ]
  },
  {
   "cell_type": "code",
   "execution_count": 33,
   "id": "334f3af1-01d8-46f9-9e29-de5093a88bdb",
   "metadata": {},
   "outputs": [
    {
     "data": {
      "text/plain": [
       "extractnotebook (generic function with 1 method)"
      ]
     },
     "execution_count": 33,
     "metadata": {},
     "output_type": "execute_result"
    }
   ],
   "source": [
    "function extractnotebook(notebook)\n",
    "    s = read(notebook, String)\n",
    "    cells = split(s, \"# ╔═╡ \");\n",
    "    # The first cell and the final 3 are not used\n",
    "    codes, contents, outputtag, celltype = [],[],[],[]\n",
    "    for cell in cells[2:end-3]\n",
    "        push!(codes, cell[1:36])\n",
    "        push!(contents, cell[38:end])\n",
    "        push!(outputtag, endswith(rstrip(cell),\";\") ? \"hideoutput\" : \"showoutput\")\n",
    "        push!(celltype, cell[38:42] == \"md\\\"\\\"\\\"\" ? \"markdown\" : \"code\")\n",
    "    end\n",
    "    \n",
    "    # Get order and view type\n",
    "    r = either(\"# ╠\",\"# ╟\")\n",
    "    sortedcells = split(cells[end],Regex(r))\n",
    "    sortedcodes = [cell[4:39] for cell in sortedcells[2:end-2]]\n",
    "    order = [findfirst(isequal(scode),codes) for scode in  sortedcodes[1:end]]\n",
    "    view  = [occursin(\"═\",c) ? \"showcode\" : \"hidecode\" for c in sortedcells[2:end-2]]\n",
    "    # Matching running order\n",
    "    view  = view[order]\n",
    "    \n",
    "    notebookdata = Dict(:codes => codes, :cells => cells[2:end-3],\n",
    "                        :contents => contents, :outputtag=>outputtag,\n",
    "                        :celltype => celltype,:order=> order,:view=>view)\n",
    "    return notebookdata\n",
    "end"
   ]
  },
  {
   "cell_type": "code",
   "execution_count": 44,
   "id": "8c1171d5-1542-4ecc-82ee-7670571c3d70",
   "metadata": {},
   "outputs": [
    {
     "data": {
      "text/plain": [
       "dispatch_output (generic function with 2 methods)"
      ]
     },
     "execution_count": 44,
     "metadata": {},
     "output_type": "execute_result"
    }
   ],
   "source": [
    "function collectoutputs(notebookdata, notebookfolder=\"./\")\n",
    "    runpath = pwd()\n",
    "    cd(notebookfolder)\n",
    "    expressions=[]\n",
    "    outputs = []\n",
    "    for (i, content) ∈ enumerate(nb[:contents])\n",
    "        if nb[:celltype][i] == \"code\"\n",
    "            if startswith(lstrip(content),\"begin\") && endswith(rstrip(content),\"end\")\n",
    "                ex = :($(Meta.parse(strip(content))))\n",
    "            else\n",
    "                ex = :($(Meta.parse(\"begin\\n\"*content*\"\\nend\")))\n",
    "            end\n",
    "            \n",
    "            s = string(ex.args[end])\n",
    "            if contains(s, Regex(either(\"PlutoUI.LocalResource\",\"LocalResource\")))\n",
    "                imagepath = s[findfirst(Regex(look_for(one_or_more(ANY),after=\"(\",before=\")\")),s)]\n",
    "                push!(outputs,(\"imagepath\",imagepath))\n",
    "            else\n",
    "                println(nb[:contents][i])\n",
    "                io = IOBuffer();\n",
    "                Base.invokelatest(show,IOContext(io, :limit => true),\n",
    "                    \"text/plain\", dispatch_output(Runner.eval(ex)));\n",
    "                celloutput = String(take!(io))\n",
    "                if celloutput == \"nothing\"\n",
    "                    celloutput = \"\"\n",
    "                end\n",
    "                push!(outputs, celloutput)\n",
    "                push!(expressions, ex)\n",
    "            end\n",
    "        end\n",
    "    end\n",
    "    cd(runpath)\n",
    "    return outputs, expressions\n",
    "end\n",
    "\n",
    "function dispatch_output(command_eval::Plots.Plot)\n",
    "    savefig(command_eval,\"figure1.png\")\n",
    "    return command_eval\n",
    "end\n",
    "\n",
    "function dispatch_output(command_eval)\n",
    "   return command_eval \n",
    "end"
   ]
  },
  {
   "cell_type": "code",
   "execution_count": 45,
   "id": "e7af404e-989a-4b3e-9429-372c61b40735",
   "metadata": {},
   "outputs": [
    {
     "data": {
      "text/plain": [
       "Dict{Symbol, Vector{T} where T} with 7 entries:\n",
       "  :codes     => Any[\"7b4b693d-c955-4c9b-97e8-56d28cf74e18\", \"bdad72d3-5744-459f…\n",
       "  :outputtag => Any[\"showoutput\", \"showoutput\", \"showoutput\", \"showoutput\", \"hi…\n",
       "  :celltype  => Any[\"code\", \"code\", \"markdown\", \"code\", \"code\", \"code\", \"code\",…\n",
       "  :view      => [\"showcode\", \"showcode\", \"showcode\", \"showcode\", \"showcode\", \"s…\n",
       "  :order     => [3, 1, 2, 4, 5, 6, 7, 8]\n",
       "  :contents  => Any[\"using PlutoUI\\n\\n\", \"\\n\\t begin\\n\\tusing Plots\\n\\ty(x) = s…\n",
       "  :cells     => SubString{String}[\"7b4b693d-c955-4c9b-97e8-56d28cf74e18\\nusing …"
      ]
     },
     "execution_count": 45,
     "metadata": {},
     "output_type": "execute_result"
    }
   ],
   "source": [
    "example = \"./example/examplepluto.jl\"\n",
    "nb = extractnotebook(example)"
   ]
  },
  {
   "cell_type": "code",
   "execution_count": 46,
   "id": "d934d3f1-99d8-4fc9-ba1f-329e67988540",
   "metadata": {},
   "outputs": [
    {
     "name": "stdout",
     "output_type": "stream",
     "text": [
      "using PlutoUI\n",
      "\n",
      "\n",
      "\n",
      "\t begin\n",
      "\tusing Plots\n",
      "\ty(x) = sin(x)\n",
      "\tplot(y,\n",
      "\t\tcolor=:blue)\n",
      "end\n",
      "\n",
      "\n",
      "\n",
      "A = [10,10,10]\n",
      "\n",
      "\n",
      "x = rand(10);\n",
      "\n",
      "\n",
      "x .+ 1\n",
      "\n",
      "\n"
     ]
    }
   ],
   "source": [
    "cd(currentpath)\n",
    "outputs,expressions = collectoutputs(nb,\"./example/\");"
   ]
  },
  {
   "cell_type": "code",
   "execution_count": null,
   "id": "d515c5ec-7eec-482a-89b7-ccaeac80c76c",
   "metadata": {},
   "outputs": [],
   "source": []
  },
  {
   "cell_type": "code",
   "execution_count": null,
   "id": "2b64c8ce-479b-4506-b4f0-367ac9552432",
   "metadata": {},
   "outputs": [],
   "source": []
  }
 ],
 "metadata": {
  "kernelspec": {
   "display_name": "JuliaFlux 1.6.3",
   "language": "julia",
   "name": "juliaflux-1.6"
  },
  "language_info": {
   "file_extension": ".jl",
   "mimetype": "application/julia",
   "name": "julia",
   "version": "1.6.3"
  }
 },
 "nbformat": 4,
 "nbformat_minor": 5
}
