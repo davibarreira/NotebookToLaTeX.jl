{
 "cells": [
  {
   "cell_type": "code",
   "execution_count": 36,
   "id": "0edd2bc0-3305-4e01-b314-455386f4665e",
   "metadata": {},
   "outputs": [
    {
     "name": "stderr",
     "output_type": "stream",
     "text": [
      "WARNING: using Makie.plot in module Main conflicts with an existing identifier.\n"
     ]
    },
    {
     "data": {
      "text/plain": [
       "\"/home/davibarreira/MEGA/EMAp/PlutoLatexConverter.jl\""
      ]
     },
     "execution_count": 36,
     "metadata": {},
     "output_type": "execute_result"
    }
   ],
   "source": [
    "using ReadableRegex\n",
    "using Plots\n",
    "using Makie, CairoMakie\n",
    "currentpath = pwd()"
   ]
  },
  {
   "cell_type": "code",
   "execution_count": 37,
   "id": "70f1141f-2417-40df-8d1e-412a3b7a3fba",
   "metadata": {},
   "outputs": [
    {
     "name": "stderr",
     "output_type": "stream",
     "text": [
      "WARNING: replacing module Runner.\n"
     ]
    },
    {
     "data": {
      "text/plain": [
       "Main.Runner"
      ]
     },
     "execution_count": 37,
     "metadata": {},
     "output_type": "execute_result"
    },
    {
     "name": "stderr",
     "output_type": "stream",
     "text": [
      "WARNING: both Makie and Plots export \"plot!\"; uses of it in module Main must be qualified\n"
     ]
    }
   ],
   "source": [
    "module Runner\n",
    "end"
   ]
  },
  {
   "cell_type": "code",
   "execution_count": 38,
   "id": "3bebfded-283a-43d1-832a-655da5396e35",
   "metadata": {},
   "outputs": [
    {
     "data": {
      "image/png": "[encoded data removed]",
      "text/plain": [
       "FigureAxisPlot()"
      ]
     },
     "execution_count": 38,
     "metadata": {},
     "output_type": "execute_result"
    }
   ],
   "source": [
    "Makie.plot(rand(10))"
   ]
  },
  {
   "cell_type": "code",
   "execution_count": 41,
   "id": "d036b59f-a668-420a-87f9-983b201bce13",
   "metadata": {},
   "outputs": [
    {
     "data": {
      "text/plain": [
       "CairoScreen{Cairo.CairoSurfaceIOStream{UInt32}} with surface:\n",
       "Cairo.CairoSurfaceIOStream{UInt32}(Ptr{Nothing} @0x0000000007858610, 600.0, 450.0, IOContext(IOStream(<file /home/davibarreira/MEGA/EMAp/PlutoLatexConverter.jl/makie.pdf>)))\n"
      ]
     },
     "execution_count": 41,
     "metadata": {},
     "output_type": "execute_result"
    }
   ],
   "source": [
    "Makie.save(\"makie.pdf\", Makie.plot(rand(10)))"
   ]
  },
  {
   "cell_type": "code",
   "execution_count": 3,
   "id": "38ca06f5-a7e3-4647-bc0f-daf4882b8027",
   "metadata": {},
   "outputs": [
    {
     "data": {
      "text/plain": [
       "0"
      ]
     },
     "execution_count": 3,
     "metadata": {},
     "output_type": "execute_result"
    }
   ],
   "source": [
    "figureindex = 0"
   ]
  },
  {
   "cell_type": "code",
   "execution_count": 30,
   "id": "334f3af1-01d8-46f9-9e29-de5093a88bdb",
   "metadata": {},
   "outputs": [
    {
     "data": {
      "text/plain": [
       "extractnotebook (generic function with 2 methods)"
      ]
     },
     "execution_count": 30,
     "metadata": {},
     "output_type": "execute_result"
    }
   ],
   "source": [
    "function extractnotebook(notebook, notebookname=nothing)\n",
    "    s = read(notebook, String)\n",
    "    cells = split(s, \"# ╔═╡ \");\n",
    "    # The first cell and the final 3 are not used\n",
    "    codes, contents, outputtag, celltype = [],[],[],[]\n",
    "    for cell in cells[2:end-3]\n",
    "        push!(codes, cell[1:36])\n",
    "        push!(contents, cell[38:end])\n",
    "        push!(outputtag, endswith(rstrip(cell),\";\") ? \"hideoutput\" : \"showoutput\")\n",
    "        push!(celltype, cell[38:42] == \"md\\\"\\\"\\\"\" ? \"markdown\" : \"code\")\n",
    "    end\n",
    "    \n",
    "    # Get order and view type\n",
    "    r = either(\"# ╠\",\"# ╟\")\n",
    "    sortedcells = split(cells[end],Regex(r))\n",
    "    sortedcodes = [cell[4:39] for cell in sortedcells[2:end-2]]\n",
    "    order = [findfirst(isequal(scode),codes) for scode in  sortedcodes[1:end]]\n",
    "    view  = [occursin(\"═\",c) ? \"showcode\" : \"hidecode\" for c in sortedcells[2:end-2]]\n",
    "    # Matching running order\n",
    "    view  = view[order]\n",
    "    \n",
    "    if notebookname === nothing\n",
    "        notebookname = split(notebook,\"/\")[end]\n",
    "        if endswith(notebookname,\".jl\")\n",
    "            notebookname = notebookname[1:end-3]\n",
    "        end\n",
    "    end\n",
    "    \n",
    "    notebookdata = Dict(:codes => codes, :notebookname => notebookname,\n",
    "                        :contents => contents, :outputtag=>outputtag,\n",
    "                        :celltype => celltype,:order=> order,:view=>view)\n",
    "    return notebookdata\n",
    "end"
   ]
  },
  {
   "cell_type": "code",
   "execution_count": 31,
   "id": "8c1171d5-1542-4ecc-82ee-7670571c3d70",
   "metadata": {},
   "outputs": [
    {
     "data": {
      "text/plain": [
       "dispatch_output (generic function with 4 methods)"
      ]
     },
     "execution_count": 31,
     "metadata": {},
     "output_type": "execute_result"
    }
   ],
   "source": [
    "function collectoutputs(nb, notebookfolder=\"./\")\n",
    "    runpath = pwd()\n",
    "    cd(notebookfolder)\n",
    "    outputs = []\n",
    "    for (i, content) ∈ enumerate(nb[:contents])\n",
    "        if nb[:celltype][i] == \"code\"\n",
    "            if startswith(lstrip(content),\"begin\") && endswith(rstrip(content),\"end\")\n",
    "                ex = :($(Meta.parse(strip(content))))\n",
    "            else\n",
    "                ex = :($(Meta.parse(\"begin\\n\"*content*\"\\nend\")))\n",
    "            end\n",
    "            \n",
    "            s = string(ex.args[end])\n",
    "            if contains(s, Regex(either(\"PlutoUI.LocalResource\",\"LocalResource\")))\n",
    "                imagepath = s[findfirst(Regex(look_for(one_or_more(ANY),after=\"(\",before=\")\")),s)]\n",
    "                push!(outputs,(\"imagepath\",imagepath))\n",
    "            else\n",
    "                println(nb[:contents][i])\n",
    "                io = IOBuffer();\n",
    "                Base.invokelatest(show,IOContext(io, :limit => true),\n",
    "                    \"text/plain\", dispatch_output(Runner.eval(ex), nb[:notebookname]));\n",
    "                celloutput = String(take!(io))\n",
    "                if celloutput == \"nothing\"\n",
    "                    celloutput = \"\"\n",
    "                elseif startswith(celloutput, \"Plot{Plots.\")\n",
    "                    celloutput = \"\"\n",
    "                end\n",
    "                push!(outputs, celloutput)\n",
    "            end\n",
    "        end\n",
    "    end\n",
    "    cd(runpath)\n",
    "    return outputs\n",
    "end\n",
    "\n",
    "function dispatch_output(command_eval::Plots.Plot, notebookname)\n",
    "    global figureindex+=1\n",
    "    savefig(command_eval,notebookname*\"_\"*\"figure\"*string(figureindex)*\".png\")\n",
    "    return command_eval\n",
    "end\n",
    "\n",
    "function dispatch_output(command_eval, notebookname)\n",
    "   return command_eval \n",
    "end"
   ]
  },
  {
   "cell_type": "code",
   "execution_count": 44,
   "id": "6255b33a-ebe5-4933-9cce-2411928a3d3e",
   "metadata": {},
   "outputs": [
    {
     "data": {
      "text/plain": [
       "8-element Vector{Any}:\n",
       " \"\"\n",
       " \"\"\n",
       " \"3-element Vector{Int64}:\\n 10\\n 10\\n 10\"\n",
       " \"10-element Vector{Float64}:\\n 0.21124767748862006\\n 0.7691251330545672\\n 0.9677332571235118\\n 0.052072067511639064\\n 0.706089010978741\\n 0.39766668742808053\\n 0.8329215036951392\\n 0.3002323484772009\\n 0.28646206505405214\\n 0.6562981028922095\"\n",
       " \"10-element Vector{Float64}:\\n 1.21124767748862\\n 1.7691251330545672\\n 1.9677332571235118\\n 1.052072067511639\\n 1.706089010978741\\n 1.3976666874280805\\n 1.8329215036951392\\n 1.300232348477201\\n 1.2864620650540521\\n 1.6562981028922095\"\n",
       " (\"imagepath\", \"\\\"figure.svg\\\"\")\n",
       " (\"imagepath\", \"\\\"plotexample.png\\\"\")\n",
       " nothing"
      ]
     },
     "execution_count": 44,
     "metadata": {},
     "output_type": "execute_result"
    }
   ],
   "source": [
    "outputs[end]\n",
    "push!(outputs,nothing)"
   ]
  },
  {
   "cell_type": "code",
   "execution_count": 49,
   "id": "73ac0c73-51f7-44cc-b2c0-9feae89baa9a",
   "metadata": {},
   "outputs": [
    {
     "data": {
      "text/plain": [
       "true"
      ]
     },
     "execution_count": 49,
     "metadata": {},
     "output_type": "execute_result"
    }
   ],
   "source": [
    "typeof(outputs[end-1]) <: Tuple"
   ]
  },
  {
   "cell_type": "code",
   "execution_count": 32,
   "id": "e7af404e-989a-4b3e-9429-372c61b40735",
   "metadata": {},
   "outputs": [
    {
     "data": {
      "text/plain": [
       "Dict{Symbol, Any} with 7 entries:\n",
       "  :codes        => Any[\"7b4b693d-c955-4c9b-97e8-56d28cf74e18\", \"bdad72d3-5744-4…\n",
       "  :outputtag    => Any[\"showoutput\", \"showoutput\", \"showoutput\", \"showoutput\", …\n",
       "  :celltype     => Any[\"code\", \"code\", \"markdown\", \"code\", \"code\", \"code\", \"cod…\n",
       "  :view         => [\"showcode\", \"showcode\", \"showcode\", \"showcode\", \"showcode\",…\n",
       "  :order        => [3, 1, 2, 4, 5, 6, 7, 8]\n",
       "  :notebookname => \"examplepluto\"\n",
       "  :contents     => Any[\"using PlutoUI\\n\\n\", \"\\n\\t begin\\n\\tusing Plots\\n\\ty(x) …"
      ]
     },
     "execution_count": 32,
     "metadata": {},
     "output_type": "execute_result"
    }
   ],
   "source": [
    "example = \"./example/examplepluto.jl\"\n",
    "nb = extractnotebook(example)"
   ]
  },
  {
   "cell_type": "code",
   "execution_count": 33,
   "id": "d934d3f1-99d8-4fc9-ba1f-329e67988540",
   "metadata": {},
   "outputs": [
    {
     "name": "stdout",
     "output_type": "stream",
     "text": [
      "using PlutoUI\n",
      "\n",
      "\n",
      "\n",
      "\t begin\n",
      "\tusing Plots\n",
      "\ty(x) = sin(x)\n",
      "\tplot(y,\n",
      "\t\tcolor=:blue)\n",
      "end\n",
      "\n",
      "\n",
      "\n",
      "A = [10,10,10]\n",
      "\n",
      "\n",
      "x = rand(10);\n",
      "\n",
      "\n",
      "x .+ 1\n",
      "\n",
      "\n"
     ]
    }
   ],
   "source": [
    "cd(currentpath)\n",
    "outputs = collectoutputs(nb,\"./example/\");"
   ]
  },
  {
   "cell_type": "code",
   "execution_count": 29,
   "id": "d515c5ec-7eec-482a-89b7-ccaeac80c76c",
   "metadata": {},
   "outputs": [
    {
     "data": {
      "text/plain": [
       "7-element Vector{Any}:\n",
       " \"\"\n",
       " \"\"\n",
       " \"3-element Vector{Int64}:\\n 10\\n 10\\n 10\"\n",
       " \"10-element Vector{Float64}:\\n 0.011484090200442054\\n 0.01820331571644096\\n 0.5318877331618481\\n 0.11651410662386796\\n 0.1890888653818048\\n 0.5285985305739234\\n 0.37688298409874244\\n 0.07979615914345284\\n 0.5463733032020945\\n 0.5411381912886879\"\n",
       " \"10-element Vector{Float64}:\\n 1.011484090200442\\n 1.018203315716441\\n 1.5318877331618481\\n 1.116514106623868\\n 1.1890888653818048\\n 1.5285985305739234\\n 1.3768829840987424\\n 1.0797961591434528\\n 1.5463733032020945\\n 1.541138191288688\"\n",
       " (\"imagepath\", \"\\\"figure.svg\\\"\")\n",
       " (\"imagepath\", \"\\\"plotexample.png\\\"\")"
      ]
     },
     "execution_count": 29,
     "metadata": {},
     "output_type": "execute_result"
    }
   ],
   "source": [
    "outputs"
   ]
  },
  {
   "cell_type": "code",
   "execution_count": null,
   "id": "2b64c8ce-479b-4506-b4f0-367ac9552432",
   "metadata": {},
   "outputs": [],
   "source": []
  }
 ],
 "metadata": {
  "kernelspec": {
   "display_name": "JuliaFlux 1.6.3",
   "language": "julia",
   "name": "juliaflux-1.6"
  },
  "language_info": {
   "file_extension": ".jl",
   "mimetype": "application/julia",
   "name": "julia",
   "version": "1.6.3"
  }
 },
 "nbformat": 4,
 "nbformat_minor": 5
}
