{
 "cells": [
  {
   "cell_type": "code",
   "execution_count": 32,
   "id": "9cee4498-df30-41ac-90b8-fb8d268cf37e",
   "metadata": {},
   "outputs": [],
   "source": [
    " s = \"\"\"\n",
    "       ### A Pluto.jl notebook ###\n",
    "       # v0.16.1\n",
    "\n",
    "       using Markdown\n",
    "       using InteractiveUtils\n",
    "\n",
    "       # ╔═╡ f85cfc5e-26cc-11ec-3e25-7fc30ba989a3\n",
    "       begin\n",
    "           using Plots\n",
    "           gr()\n",
    "       end\n",
    "\n",
    "       # ╔═╡ c45438a7-2d79-4293-8925-d6df8043f98b\n",
    "       begin\n",
    "           x = rand(10)\n",
    "           x[1]\n",
    "       end\n",
    "\n",
    "       # ╔═╡ f656d603-394a-4d61-b401-7343b2831a2d\n",
    "       plot(x)\n",
    "\n",
    "       # ╔═╡ b95a10e2-9dbf-4f05-b234-940afe747f1b\n",
    "       1 + 1\n",
    "       \"\"\";"
   ]
  },
  {
   "cell_type": "code",
   "execution_count": 33,
   "id": "f2fa5b94-6f27-48d9-8292-fb48dac440bc",
   "metadata": {},
   "outputs": [
    {
     "data": {
      "text/plain": [
       "collect_cells (generic function with 1 method)"
      ]
     },
     "execution_count": 33,
     "metadata": {},
     "output_type": "execute_result"
    }
   ],
   "source": [
    "function collect_cells(s)\n",
    "   cells = split(s, \"# ╔═╡\")\n",
    "   final_expr = Expr(:block, :(Out = Dict{Int, Any}()))\n",
    "   for (i, cell) ∈ enumerate(cells)\n",
    "       cell = cell |> IOBuffer |> eachline |> collect |> x -> join(x[2:end], \"\\n\")\n",
    "       #@show cell\n",
    "       ex = :(Out[$i] = $(Meta.parse(\"begin\\n\"*cell*\"\\nend\")))\n",
    "       push!(final_expr.args, ex)\n",
    "   end\n",
    "   final_expr\n",
    "end"
   ]
  },
  {
   "cell_type": "code",
   "execution_count": 34,
   "id": "9d87ca0a-bc20-46be-b5b5-2a50d3291a93",
   "metadata": {},
   "outputs": [
    {
     "data": {
      "text/plain": [
       "quote\n",
       "    Out = Dict{Int, Any}()\n",
       "    Out[1] = begin\n",
       "            #= none:4 =#\n",
       "            using Markdown\n",
       "            #= none:5 =#\n",
       "            using InteractiveUtils\n",
       "        end\n",
       "    Out[2] = begin\n",
       "            #= none:2 =#\n",
       "            begin\n",
       "                #= none:3 =#\n",
       "                using Plots\n",
       "                #= none:4 =#\n",
       "                gr()\n",
       "            end\n",
       "        end\n",
       "    Out[3] = begin\n",
       "            #= none:2 =#\n",
       "            begin\n",
       "                #= none:3 =#\n",
       "                x = rand(10)\n",
       "                #= none:4 =#\n",
       "                x[1]\n",
       "            end\n",
       "        end\n",
       "    Out[4] = begin\n",
       "            #= none:2 =#\n",
       "            plot(x)\n",
       "        end\n",
       "    Out[5] = begin\n",
       "            #= none:2 =#\n",
       "            1 + 1\n",
       "        end\n",
       "end"
      ]
     },
     "execution_count": 34,
     "metadata": {},
     "output_type": "execute_result"
    }
   ],
   "source": [
    "collect_cells(s)"
   ]
  },
  {
   "cell_type": "code",
   "execution_count": 25,
   "id": "7d1ce96c-69b2-41c4-9c1c-42cc724ae976",
   "metadata": {},
   "outputs": [
    {
     "data": {
      "text/plain": [
       "5-element Vector{SubString{String}}:\n",
       " \"### A Pluto.jl notebook ###\\n# v0.16.1\\n\\nusing Markdown\\nusing InteractiveUtils\\n\\n\"\n",
       " \" f85cfc5e-26cc-11ec-3e25-7fc30ba989a3\\nbegin\\n    using Plots\\n    gr()\\nend\\n\\n\"\n",
       " \" c45438a7-2d79-4293-8925-d6df8043f98b\\nx = rand(10)\\n\\n\"\n",
       " \" f656d603-394a-4d61-b401-7343b2831a2d\\nplot(x)\\n\\n\"\n",
       " \" b95a10e2-9dbf-4f05-b234-940afe747f1b\\n1 + 1\\n\""
      ]
     },
     "execution_count": 25,
     "metadata": {},
     "output_type": "execute_result"
    }
   ],
   "source": [
    "cells = split(s, \"# ╔═╡\")"
   ]
  },
  {
   "cell_type": "code",
   "execution_count": 31,
   "id": "ea8844b0-e54c-4124-9956-69df6f5c2301",
   "metadata": {},
   "outputs": [
    {
     "data": {
      "text/plain": [
       "\" c45438a7-2d79-4293-8925-d6df8043f98b\\nx = rand(10)\\n\\n\""
      ]
     },
     "execution_count": 31,
     "metadata": {},
     "output_type": "execute_result"
    }
   ],
   "source": [
    "cells[3]"
   ]
  },
  {
   "cell_type": "code",
   "execution_count": null,
   "id": "3c87a953-1564-4a9a-8b9e-e64ccf76cfb3",
   "metadata": {},
   "outputs": [],
   "source": []
  }
 ],
 "metadata": {
  "kernelspec": {
   "display_name": "JuliaFlux 1.6.3",
   "language": "julia",
   "name": "juliaflux-1.6"
  },
  "language_info": {
   "file_extension": ".jl",
   "mimetype": "application/julia",
   "name": "julia",
   "version": "1.6.3"
  }
 },
 "nbformat": 4,
 "nbformat_minor": 5
}
