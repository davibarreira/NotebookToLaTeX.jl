{
 "cells": [
  {
   "cell_type": "code",
   "execution_count": 2,
   "id": "e344ad1e-df3f-4ea2-b6a7-e2925c81e3ef",
   "metadata": {},
   "outputs": [],
   "source": [
    "notebook = read(\"jupyternotebook.ipynb\", String);"
   ]
  },
  {
   "cell_type": "code",
   "execution_count": null,
   "id": "74b8569d-a064-4c63-bc1e-34cc17b656bf",
   "metadata": {},
   "outputs": [],
   "source": []
  }
 ],
 "metadata": {
  "kernelspec": {
   "display_name": "JuliaFlux 1.6.3",
   "language": "julia",
   "name": "juliaflux-1.6"
  },
  "language_info": {
   "file_extension": ".jl",
   "mimetype": "application/julia",
   "name": "julia",
   "version": "1.6.3"
  }
 },
 "nbformat": 4,
 "nbformat_minor": 5
}
