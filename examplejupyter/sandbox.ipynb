{
 "cells": [
  {
   "cell_type": "code",
   "execution_count": 42,
   "id": "20984f65-393e-438a-bb7b-07510e270519",
   "metadata": {},
   "outputs": [
    {
     "name": "stderr",
     "output_type": "stream",
     "text": [
      "\u001b[32m\u001b[1m  Activating\u001b[22m\u001b[39m environment at `~/MEGA/EMAp/NotebookToLatex.jl/Project.toml`\n"
     ]
    }
   ],
   "source": [
    "using Pkg\n",
    "Pkg.activate(\"../.\")\n",
    "using Revise\n",
    "using NotebookToLatex\n",
    "# import NotebookToLatex:createproject, insertlinebelow\n",
    "using JSON\n",
    "using ReadableRegex\n",
    "# using Base64\n",
    "using Librsvg_jll"
   ]
  },
  {
   "cell_type": "code",
   "execution_count": 6,
   "id": "e344ad1e-df3f-4ea2-b6a7-e2925c81e3ef",
   "metadata": {},
   "outputs": [],
   "source": [
    "notebook = read(\"jupyternotebook.ipynb\", String);"
   ]
  },
  {
   "cell_type": "code",
   "execution_count": 55,
   "id": "74b8569d-a064-4c63-bc1e-34cc17b656bf",
   "metadata": {},
   "outputs": [
    {
     "data": {
      "text/plain": [
       "Dict{String, Any} with 4 entries:\n",
       "  \"cells\"          => Any[Dict{String, Any}(\"cell_type\"=>\"markdown\", \"source\"=>…\n",
       "  \"nbformat_minor\" => 5\n",
       "  \"metadata\"       => Dict{String, Any}(\"language_info\"=>Dict{String, Any}(\"fil…\n",
       "  \"nbformat\"       => 4"
      ]
     },
     "execution_count": 55,
     "metadata": {},
     "output_type": "execute_result"
    }
   ],
   "source": [
    "jsonnb = JSON.parse(notebook)"
   ]
  },
  {
   "cell_type": "code",
   "execution_count": 73,
   "id": "561caf63-372d-431b-9231-bc037138ab5f",
   "metadata": {},
   "outputs": [
    {
     "data": {
      "text/plain": [
       "\"0.17603266338214976\\n0.12098536225957168\\n0.06475879783294587\\n0.02699548325659403\\n0.00876415024678427\\n0.0022159242059690038\\n0.0004363413475228801\\n6.691511288244268e-5\\n7.991870553452737e-6\\n7.433597573671488e-7\\n\""
      ]
     },
     "execution_count": 73,
     "metadata": {},
     "output_type": "execute_result"
    }
   ],
   "source": [
    "join(jsonnb[\"cells\"][8][\"outputs\"][1][\"text\"])"
   ]
  },
  {
   "cell_type": "code",
   "execution_count": 8,
   "id": "1254697a-5bc0-43ff-88e9-ee960a9dd773",
   "metadata": {},
   "outputs": [
    {
     "data": {
      "text/plain": [
       "\"The Wasserstein Distance for 1D distributions can be obtained by:\\n\\$\\$\\n\\\\int_0^1 |C_\\\\alpha^{-1}(r) - C_\\\\beta^{-1}(r)|^p dr\\n\\$\\$\\n\\nWhere \\$C_\\\\alpha^{-1}\\$ is the quantile function for the distribution \\$\\\\alpha\\$ (the inverse of the Cumulative Distribution Function).\\n\\nWrite some more markdown, with **bold text here** and *italics* and\\n[a link here](https://juliaoptimaltransport.github.io/OptimalTransport.jl/stable/examples/basic/),\\nanother **bold** and *more italics* and\\n[another](https://github.com/). Ends with two figures\\n![Figure](figure.svg) and\\n![Figure 2](figure.svg) again.\""
      ]
     },
     "execution_count": 8,
     "metadata": {},
     "output_type": "execute_result"
    }
   ],
   "source": [
    "md = join(jsonnb[\"cells\"][5][\"source\"])"
   ]
  },
  {
   "cell_type": "code",
   "execution_count": 79,
   "id": "eaee2428-fb00-4049-82c2-f58e0af70c2e",
   "metadata": {},
   "outputs": [],
   "source": [
    "jupytertolatex(\"jupyternotebook.ipynb\")"
   ]
  }
 ],
 "metadata": {
  "kernelspec": {
   "display_name": "JuliaFlux 1.6.3",
   "language": "julia",
   "name": "juliaflux-1.6"
  },
  "language_info": {
   "file_extension": ".jl",
   "mimetype": "application/julia",
   "name": "julia",
   "version": "1.6.3"
  }
 },
 "nbformat": 4,
 "nbformat_minor": 5
}
