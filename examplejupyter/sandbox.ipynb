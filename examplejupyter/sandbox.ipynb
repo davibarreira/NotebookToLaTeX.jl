{
 "cells": [
  {
   "cell_type": "code",
   "execution_count": 10,
   "id": "20984f65-393e-438a-bb7b-07510e270519",
   "metadata": {},
   "outputs": [
    {
     "name": "stderr",
     "output_type": "stream",
     "text": [
      "\u001b[32m\u001b[1m  Activating\u001b[22m\u001b[39m environment at `~/MEGA/EMAp/NotebookToLatex.jl/Project.toml`\n"
     ]
    }
   ],
   "source": [
    "using Pkg\n",
    "Pkg.activate(\"../.\")\n",
    "using Revise\n",
    "using NotebookToLatex\n",
    "using JSON"
   ]
  },
  {
   "cell_type": "code",
   "execution_count": 11,
   "id": "e344ad1e-df3f-4ea2-b6a7-e2925c81e3ef",
   "metadata": {},
   "outputs": [],
   "source": [
    "notebook = read(\"jupyternotebook.ipynb\", String);"
   ]
  },
  {
   "cell_type": "code",
   "execution_count": 13,
   "id": "74b8569d-a064-4c63-bc1e-34cc17b656bf",
   "metadata": {},
   "outputs": [
    {
     "data": {
      "text/plain": [
       "Dict{String, Any} with 4 entries:\n",
       "  \"cells\"          => Any[Dict{String, Any}(\"cell_type\"=>\"markdown\", \"source\"=>…\n",
       "  \"nbformat_minor\" => 5\n",
       "  \"metadata\"       => Dict{String, Any}(\"language_info\"=>Dict{String, Any}(\"fil…\n",
       "  \"nbformat\"       => 4"
      ]
     },
     "execution_count": 13,
     "metadata": {},
     "output_type": "execute_result"
    }
   ],
   "source": [
    "jsonnb = JSON.parse(notebook)"
   ]
  },
  {
   "cell_type": "code",
   "execution_count": 43,
   "id": "c6511920-1dd1-4ae3-a460-b7a8172bd245",
   "metadata": {},
   "outputs": [
    {
     "data": {
      "text/plain": [
       "\"markdown\""
      ]
     },
     "execution_count": 43,
     "metadata": {},
     "output_type": "execute_result"
    }
   ],
   "source": [
    "for cell in jsonnb[\"cells\"]\n",
    "    if cell[\"celltype\"] == \"markdown\"\n",
    "end"
   ]
  },
  {
   "cell_type": "code",
   "execution_count": 44,
   "id": "d772c127-9c28-421c-973e-937d73a2c227",
   "metadata": {},
   "outputs": [
    {
     "data": {
      "text/plain": [
       "\"jupyternotebook.ipynb\""
      ]
     },
     "execution_count": 44,
     "metadata": {},
     "output_type": "execute_result"
    }
   ],
   "source": [
    "basename(\"./jupyternotebook.ipynb\")"
   ]
  },
  {
   "cell_type": "code",
   "execution_count": null,
   "id": "55a61c2c-f8ba-4ea0-8f5f-2fd6bdc6601c",
   "metadata": {},
   "outputs": [],
   "source": [
    "function jupytertolatex(notebook, targetdir=\"./build_latex\"; template=:book, fontpath=nothing)\n",
    "\n",
    "    createproject(targetdir, template)\n",
    "    \n",
    "    notebookname = basename(notebook)\n",
    "    jsonnb = JSON.parse(read(notebook, String))\n",
    "    texfile = read(targetdir*\"/main.tex\", String)\n",
    "    lineinsert = 1\n",
    "    for (i,line) in enumerate(split(texfile, \"\\n\"))\n",
    "        if startswith(line, \"% INCLUDE NOTEBOOKS\")\n",
    "            lineinsert = i\n",
    "            break\n",
    "        end\n",
    "    end\n",
    "    \n",
    "    if !occursin(\"\\\\include{./notebooks/\"*notebookname*\"}\",read(targetdir*\"/main.tex\", String))\n",
    "\n",
    "        insertlinebelow(targetdir*\"/main.tex\",\n",
    "            \"\\\\include{./notebooks/\"*notebookname*\"}\", lineinsert)\n",
    "    end\n",
    "\n",
    "    outputs = collectoutputs(nb,targetdir);\n",
    "    notebook = targetdir*\"/notebooks/\"*notebookname*\".tex\"\n",
    "    open(notebook, \"w\") do f\n",
    "        write(f,\"\\\\newpage\\n\")\n",
    "        for i in nb[:order]\n",
    "            if nb[:celltype][i] == \"markdown\"\n",
    "                parsed = markdowntolatex(strip(nb[:contents][i])[7:end-3])\n",
    "                write(f,parsed)\n",
    "            elseif nb[:celltype][i] == \"code\" && nb[:view][i] == \"showcode\"\n",
    "                write(f,\"\\n\\\\begin{lstlisting}[language=JuliaLocal, style=julia]\\n\")\n",
    "                write(f, strip(nb[:contents][i]))\n",
    "                write(f,\"\\n\\\\end{lstlisting}\\n\")\n",
    "            end\n",
    "            if nb[:celltype][i] == \"code\" && nb[:outputtag][i] == \"showoutput\"\n",
    "                if outputs[i][1] == :text\n",
    "                    write(f,\"\\n\\\\begin{verbatim}\\n\")\n",
    "                    write(f, outputs[i][2])\n",
    "                    write(f,\"\\n\\\\end{verbatim}\\n\")\n",
    "                elseif outputs[i][1] == :plot\n",
    "                    write(f,\"\\n\\\\begin{figure}[H]\\n\")\n",
    "                    write(f,\"\\t\\\\centering\\n\")\n",
    "                    write(f,\"\\t\\\\includegraphics[width=0.8\\\\textwidth]{./figures/\"*outputs[i][2]*\"}\\n\")\n",
    "                    write(f,\"\\t\\\\label{fig:\"*outputs[i][2]*\"}\\n\")\n",
    "                    write(f,\"\\n\\\\end{figure}\\n\")\n",
    "                elseif outputs[i][1] == :image\n",
    "                    write(f,\"\\n\\\\begin{figure}[H]\\n\")\n",
    "                    write(f,\"\\t\\\\centering\\n\")\n",
    "                    write(f,\"\\t\\\\includegraphics[width=0.8\\\\textwidth]{\"*outputs[i][2]*\"}\\n\")\n",
    "                    write(f,\"\\t\\\\label{fig:\"*outputs[i][2]*\"}\\n\")\n",
    "                    write(f,\"\\n\\\\end{figure}\\n\")\n",
    "                end\n",
    "            end\n",
    "        end\n",
    "    end\n",
    "end"
   ]
  },
  {
   "cell_type": "code",
   "execution_count": 40,
   "id": "2c3b5dbe-3420-4b6b-86b9-f8197d4e686d",
   "metadata": {},
   "outputs": [
    {
     "data": {
      "image/svg+xml": [
       "<?xml version=\"1.0\" encoding=\"utf-8\"?>\n",
       "<svg xmlns=\"http://www.w3.org/2000/svg\" xmlns:xlink=\"http://www.w3.org/1999/xlink\" width=\"600\" height=\"400\" viewBox=\"0 0 2400 1600\">\n",
       "<defs>\n",
       "  <clipPath id=\"clip680\">\n",
       "    <rect x=\"0\" y=\"0\" width=\"2400\" height=\"1600\"/>\n",
       "  </clipPath>\n",
       "</defs>\n",
       "<path clip-path=\"url(#clip680)\" d=\"\n",
       "M0 1600 L2400 1600 L2400 0 L0 0  Z\n",
       "  \" fill=\"#ffffff\" fill-rule=\"evenodd\" fill-opacity=\"1\"/>\n",
       "<defs>\n",
       "  <clipPath id=\"clip681\">\n",
       "    <rect x=\"480\" y=\"0\" width=\"1681\" height=\"1600\"/>\n",
       "  </clipPath>\n",
       "</defs>\n",
       "<path clip-path=\"url(#clip680)\" d=\"\n",
       "M186.274 1486.45 L2352.76 1486.45 L2352.76 47.2441 L186.274 47.2441  Z\n",
       "  \" fill=\"#ffffff\" fill-rule=\"evenodd\" fill-opacity=\"1\"/>\n",
       "<defs>\n",
       "  <clipPath id=\"clip682\">\n",
       "    <rect x=\"186\" y=\"47\" width=\"2167\" height=\"1440\"/>\n",
       "  </clipPath>\n",
       "</defs>\n",
       "<polyline clip-path=\"url(#clip682)\" style=\"stroke:#000000; stroke-linecap:butt; stroke-linejoin:round; stroke-width:2; stroke-opacity:0.1; fill:none\" points=\"\n",
       "  451.975,1486.45 451.975,47.2441 \n",
       "  \"/>\n",
       "<polyline clip-path=\"url(#clip682)\" style=\"stroke:#000000; stroke-linecap:butt; stroke-linejoin:round; stroke-width:2; stroke-opacity:0.1; fill:none\" points=\"\n",
       "  860.745,1486.45 860.745,47.2441 \n",
       "  \"/>\n",
       "<polyline clip-path=\"url(#clip682)\" style=\"stroke:#000000; stroke-linecap:butt; stroke-linejoin:round; stroke-width:2; stroke-opacity:0.1; fill:none\" points=\"\n",
       "  1269.51,1486.45 1269.51,47.2441 \n",
       "  \"/>\n",
       "<polyline clip-path=\"url(#clip682)\" style=\"stroke:#000000; stroke-linecap:butt; stroke-linejoin:round; stroke-width:2; stroke-opacity:0.1; fill:none\" points=\"\n",
       "  1678.29,1486.45 1678.29,47.2441 \n",
       "  \"/>\n",
       "<polyline clip-path=\"url(#clip682)\" style=\"stroke:#000000; stroke-linecap:butt; stroke-linejoin:round; stroke-width:2; stroke-opacity:0.1; fill:none\" points=\"\n",
       "  2087.06,1486.45 2087.06,47.2441 \n",
       "  \"/>\n",
       "<polyline clip-path=\"url(#clip680)\" style=\"stroke:#000000; stroke-linecap:butt; stroke-linejoin:round; stroke-width:4; stroke-opacity:1; fill:none\" points=\"\n",
       "  186.274,1486.45 2352.76,1486.45 \n",
       "  \"/>\n",
       "<polyline clip-path=\"url(#clip680)\" style=\"stroke:#000000; stroke-linecap:butt; stroke-linejoin:round; stroke-width:4; stroke-opacity:1; fill:none\" points=\"\n",
       "  451.975,1486.45 451.975,1467.55 \n",
       "  \"/>\n",
       "<polyline clip-path=\"url(#clip680)\" style=\"stroke:#000000; stroke-linecap:butt; stroke-linejoin:round; stroke-width:4; stroke-opacity:1; fill:none\" points=\"\n",
       "  860.745,1486.45 860.745,1467.55 \n",
       "  \"/>\n",
       "<polyline clip-path=\"url(#clip680)\" style=\"stroke:#000000; stroke-linecap:butt; stroke-linejoin:round; stroke-width:4; stroke-opacity:1; fill:none\" points=\"\n",
       "  1269.51,1486.45 1269.51,1467.55 \n",
       "  \"/>\n",
       "<polyline clip-path=\"url(#clip680)\" style=\"stroke:#000000; stroke-linecap:butt; stroke-linejoin:round; stroke-width:4; stroke-opacity:1; fill:none\" points=\"\n",
       "  1678.29,1486.45 1678.29,1467.55 \n",
       "  \"/>\n",
       "<polyline clip-path=\"url(#clip680)\" style=\"stroke:#000000; stroke-linecap:butt; stroke-linejoin:round; stroke-width:4; stroke-opacity:1; fill:none\" points=\"\n",
       "  2087.06,1486.45 2087.06,1467.55 \n",
       "  \"/>\n",
       "<path clip-path=\"url(#clip680)\" d=\"M420.875 1532.02 L450.551 1532.02 L450.551 1535.95 L420.875 1535.95 L420.875 1532.02 Z\" fill=\"#000000\" fill-rule=\"evenodd\" fill-opacity=\"1\" /><path clip-path=\"url(#clip680)\" d=\"M473.491 1518.36 L461.685 1536.81 L473.491 1536.81 L473.491 1518.36 M472.264 1514.29 L478.143 1514.29 L478.143 1536.81 L483.074 1536.81 L483.074 1540.7 L478.143 1540.7 L478.143 1548.85 L473.491 1548.85 L473.491 1540.7 L457.889 1540.7 L457.889 1536.19 L472.264 1514.29 Z\" fill=\"#000000\" fill-rule=\"evenodd\" fill-opacity=\"1\" /><path clip-path=\"url(#clip680)\" d=\"M830.687 1532.02 L860.363 1532.02 L860.363 1535.95 L830.687 1535.95 L830.687 1532.02 Z\" fill=\"#000000\" fill-rule=\"evenodd\" fill-opacity=\"1\" /><path clip-path=\"url(#clip680)\" d=\"M874.483 1544.91 L890.802 1544.91 L890.802 1548.85 L868.858 1548.85 L868.858 1544.91 Q871.52 1542.16 876.103 1537.53 Q880.71 1532.88 881.891 1531.53 Q884.136 1529.01 885.015 1527.27 Q885.918 1525.51 885.918 1523.82 Q885.918 1521.07 883.974 1519.33 Q882.053 1517.6 878.951 1517.6 Q876.752 1517.6 874.298 1518.36 Q871.867 1519.13 869.09 1520.68 L869.09 1515.95 Q871.914 1514.82 874.367 1514.24 Q876.821 1513.66 878.858 1513.66 Q884.228 1513.66 887.423 1516.35 Q890.617 1519.03 890.617 1523.52 Q890.617 1525.65 889.807 1527.57 Q889.02 1529.47 886.914 1532.07 Q886.335 1532.74 883.233 1535.95 Q880.131 1539.15 874.483 1544.91 Z\" fill=\"#000000\" fill-rule=\"evenodd\" fill-opacity=\"1\" /><path clip-path=\"url(#clip680)\" d=\"M1269.51 1517.37 Q1265.9 1517.37 1264.08 1520.93 Q1262.27 1524.47 1262.27 1531.6 Q1262.27 1538.71 1264.08 1542.27 Q1265.9 1545.82 1269.51 1545.82 Q1273.15 1545.82 1274.95 1542.27 Q1276.78 1538.71 1276.78 1531.6 Q1276.78 1524.47 1274.95 1520.93 Q1273.15 1517.37 1269.51 1517.37 M1269.51 1513.66 Q1275.33 1513.66 1278.38 1518.27 Q1281.46 1522.85 1281.46 1531.6 Q1281.46 1540.33 1278.38 1544.94 Q1275.33 1549.52 1269.51 1549.52 Q1263.7 1549.52 1260.63 1544.94 Q1257.57 1540.33 1257.57 1531.6 Q1257.57 1522.85 1260.63 1518.27 Q1263.7 1513.66 1269.51 1513.66 Z\" fill=\"#000000\" fill-rule=\"evenodd\" fill-opacity=\"1\" /><path clip-path=\"url(#clip680)\" d=\"M1672.94 1544.91 L1689.26 1544.91 L1689.26 1548.85 L1667.31 1548.85 L1667.31 1544.91 Q1669.97 1542.16 1674.56 1537.53 Q1679.16 1532.88 1680.35 1531.53 Q1682.59 1529.01 1683.47 1527.27 Q1684.37 1525.51 1684.37 1523.82 Q1684.37 1521.07 1682.43 1519.33 Q1680.51 1517.6 1677.41 1517.6 Q1675.21 1517.6 1672.75 1518.36 Q1670.32 1519.13 1667.54 1520.68 L1667.54 1515.95 Q1670.37 1514.82 1672.82 1514.24 Q1675.28 1513.66 1677.31 1513.66 Q1682.68 1513.66 1685.88 1516.35 Q1689.07 1519.03 1689.07 1523.52 Q1689.07 1525.65 1688.26 1527.57 Q1687.47 1529.47 1685.37 1532.07 Q1684.79 1532.74 1681.69 1535.95 Q1678.59 1539.15 1672.94 1544.91 Z\" fill=\"#000000\" fill-rule=\"evenodd\" fill-opacity=\"1\" /><path clip-path=\"url(#clip680)\" d=\"M2090.06 1518.36 L2078.26 1536.81 L2090.06 1536.81 L2090.06 1518.36 M2088.84 1514.29 L2094.72 1514.29 L2094.72 1536.81 L2099.65 1536.81 L2099.65 1540.7 L2094.72 1540.7 L2094.72 1548.85 L2090.06 1548.85 L2090.06 1540.7 L2074.46 1540.7 L2074.46 1536.19 L2088.84 1514.29 Z\" fill=\"#000000\" fill-rule=\"evenodd\" fill-opacity=\"1\" /><polyline clip-path=\"url(#clip682)\" style=\"stroke:#000000; stroke-linecap:butt; stroke-linejoin:round; stroke-width:2; stroke-opacity:0.1; fill:none\" points=\"\n",
       "  186.274,1152.11 2352.76,1152.11 \n",
       "  \"/>\n",
       "<polyline clip-path=\"url(#clip682)\" style=\"stroke:#000000; stroke-linecap:butt; stroke-linejoin:round; stroke-width:2; stroke-opacity:0.1; fill:none\" points=\"\n",
       "  186.274,796.11 2352.76,796.11 \n",
       "  \"/>\n",
       "<polyline clip-path=\"url(#clip682)\" style=\"stroke:#000000; stroke-linecap:butt; stroke-linejoin:round; stroke-width:2; stroke-opacity:0.1; fill:none\" points=\"\n",
       "  186.274,440.106 2352.76,440.106 \n",
       "  \"/>\n",
       "<polyline clip-path=\"url(#clip682)\" style=\"stroke:#000000; stroke-linecap:butt; stroke-linejoin:round; stroke-width:2; stroke-opacity:0.1; fill:none\" points=\"\n",
       "  186.274,84.1027 2352.76,84.1027 \n",
       "  \"/>\n",
       "<polyline clip-path=\"url(#clip680)\" style=\"stroke:#000000; stroke-linecap:butt; stroke-linejoin:round; stroke-width:4; stroke-opacity:1; fill:none\" points=\"\n",
       "  186.274,1486.45 186.274,47.2441 \n",
       "  \"/>\n",
       "<polyline clip-path=\"url(#clip680)\" style=\"stroke:#000000; stroke-linecap:butt; stroke-linejoin:round; stroke-width:4; stroke-opacity:1; fill:none\" points=\"\n",
       "  186.274,1152.11 205.172,1152.11 \n",
       "  \"/>\n",
       "<polyline clip-path=\"url(#clip680)\" style=\"stroke:#000000; stroke-linecap:butt; stroke-linejoin:round; stroke-width:4; stroke-opacity:1; fill:none\" points=\"\n",
       "  186.274,796.11 205.172,796.11 \n",
       "  \"/>\n",
       "<polyline clip-path=\"url(#clip680)\" style=\"stroke:#000000; stroke-linecap:butt; stroke-linejoin:round; stroke-width:4; stroke-opacity:1; fill:none\" points=\"\n",
       "  186.274,440.106 205.172,440.106 \n",
       "  \"/>\n",
       "<polyline clip-path=\"url(#clip680)\" style=\"stroke:#000000; stroke-linecap:butt; stroke-linejoin:round; stroke-width:4; stroke-opacity:1; fill:none\" points=\"\n",
       "  186.274,84.1027 205.172,84.1027 \n",
       "  \"/>\n",
       "<path clip-path=\"url(#clip680)\" d=\"M63.9319 1137.91 Q60.3208 1137.91 58.4921 1141.48 Q56.6865 1145.02 56.6865 1152.15 Q56.6865 1159.25 58.4921 1162.82 Q60.3208 1166.36 63.9319 1166.36 Q67.5661 1166.36 69.3717 1162.82 Q71.2004 1159.25 71.2004 1152.15 Q71.2004 1145.02 69.3717 1141.48 Q67.5661 1137.91 63.9319 1137.91 M63.9319 1134.21 Q69.742 1134.21 72.7976 1138.81 Q75.8763 1143.4 75.8763 1152.15 Q75.8763 1160.87 72.7976 1165.48 Q69.742 1170.06 63.9319 1170.06 Q58.1217 1170.06 55.043 1165.48 Q51.9875 1160.87 51.9875 1152.15 Q51.9875 1143.4 55.043 1138.81 Q58.1217 1134.21 63.9319 1134.21 Z\" fill=\"#000000\" fill-rule=\"evenodd\" fill-opacity=\"1\" /><path clip-path=\"url(#clip680)\" d=\"M84.0938 1163.51 L88.978 1163.51 L88.978 1169.39 L84.0938 1169.39 L84.0938 1163.51 Z\" fill=\"#000000\" fill-rule=\"evenodd\" fill-opacity=\"1\" /><path clip-path=\"url(#clip680)\" d=\"M109.163 1137.91 Q105.552 1137.91 103.723 1141.48 Q101.918 1145.02 101.918 1152.15 Q101.918 1159.25 103.723 1162.82 Q105.552 1166.36 109.163 1166.36 Q112.797 1166.36 114.603 1162.82 Q116.432 1159.25 116.432 1152.15 Q116.432 1145.02 114.603 1141.48 Q112.797 1137.91 109.163 1137.91 M109.163 1134.21 Q114.973 1134.21 118.029 1138.81 Q121.107 1143.4 121.107 1152.15 Q121.107 1160.87 118.029 1165.48 Q114.973 1170.06 109.163 1170.06 Q103.353 1170.06 100.274 1165.48 Q97.2187 1160.87 97.2187 1152.15 Q97.2187 1143.4 100.274 1138.81 Q103.353 1134.21 109.163 1134.21 Z\" fill=\"#000000\" fill-rule=\"evenodd\" fill-opacity=\"1\" /><path clip-path=\"url(#clip680)\" d=\"M129.371 1134.83 L147.728 1134.83 L147.728 1138.77 L133.654 1138.77 L133.654 1147.24 Q134.672 1146.89 135.691 1146.73 Q136.709 1146.55 137.728 1146.55 Q143.515 1146.55 146.894 1149.72 Q150.274 1152.89 150.274 1158.31 Q150.274 1163.88 146.802 1166.99 Q143.33 1170.06 137.01 1170.06 Q134.834 1170.06 132.566 1169.69 Q130.32 1169.32 127.913 1168.58 L127.913 1163.88 Q129.996 1165.02 132.219 1165.57 Q134.441 1166.13 136.918 1166.13 Q140.922 1166.13 143.26 1164.02 Q145.598 1161.92 145.598 1158.31 Q145.598 1154.69 143.26 1152.59 Q140.922 1150.48 136.918 1150.48 Q135.043 1150.48 133.168 1150.9 Q131.316 1151.31 129.371 1152.19 L129.371 1134.83 Z\" fill=\"#000000\" fill-rule=\"evenodd\" fill-opacity=\"1\" /><path clip-path=\"url(#clip680)\" d=\"M62.9365 781.909 Q59.3254 781.909 57.4967 785.473 Q55.6912 789.015 55.6912 796.145 Q55.6912 803.251 57.4967 806.816 Q59.3254 810.357 62.9365 810.357 Q66.5707 810.357 68.3763 806.816 Q70.205 803.251 70.205 796.145 Q70.205 789.015 68.3763 785.473 Q66.5707 781.909 62.9365 781.909 M62.9365 778.205 Q68.7467 778.205 71.8022 782.811 Q74.8809 787.395 74.8809 796.145 Q74.8809 804.871 71.8022 809.478 Q68.7467 814.061 62.9365 814.061 Q57.1264 814.061 54.0477 809.478 Q50.9921 804.871 50.9921 796.145 Q50.9921 787.395 54.0477 782.811 Q57.1264 778.205 62.9365 778.205 Z\" fill=\"#000000\" fill-rule=\"evenodd\" fill-opacity=\"1\" /><path clip-path=\"url(#clip680)\" d=\"M83.0984 807.51 L87.9827 807.51 L87.9827 813.39 L83.0984 813.39 L83.0984 807.51 Z\" fill=\"#000000\" fill-rule=\"evenodd\" fill-opacity=\"1\" /><path clip-path=\"url(#clip680)\" d=\"M98.978 809.455 L106.617 809.455 L106.617 783.089 L98.3067 784.756 L98.3067 780.497 L106.571 778.83 L111.246 778.83 L111.246 809.455 L118.885 809.455 L118.885 813.39 L98.978 813.39 L98.978 809.455 Z\" fill=\"#000000\" fill-rule=\"evenodd\" fill-opacity=\"1\" /><path clip-path=\"url(#clip680)\" d=\"M138.33 781.909 Q134.719 781.909 132.89 785.473 Q131.084 789.015 131.084 796.145 Q131.084 803.251 132.89 806.816 Q134.719 810.357 138.33 810.357 Q141.964 810.357 143.769 806.816 Q145.598 803.251 145.598 796.145 Q145.598 789.015 143.769 785.473 Q141.964 781.909 138.33 781.909 M138.33 778.205 Q144.14 778.205 147.195 782.811 Q150.274 787.395 150.274 796.145 Q150.274 804.871 147.195 809.478 Q144.14 814.061 138.33 814.061 Q132.519 814.061 129.441 809.478 Q126.385 804.871 126.385 796.145 Q126.385 787.395 129.441 782.811 Q132.519 778.205 138.33 778.205 Z\" fill=\"#000000\" fill-rule=\"evenodd\" fill-opacity=\"1\" /><path clip-path=\"url(#clip680)\" d=\"M63.9319 425.905 Q60.3208 425.905 58.4921 429.47 Q56.6865 433.011 56.6865 440.141 Q56.6865 447.247 58.4921 450.812 Q60.3208 454.354 63.9319 454.354 Q67.5661 454.354 69.3717 450.812 Q71.2004 447.247 71.2004 440.141 Q71.2004 433.011 69.3717 429.47 Q67.5661 425.905 63.9319 425.905 M63.9319 422.201 Q69.742 422.201 72.7976 426.808 Q75.8763 431.391 75.8763 440.141 Q75.8763 448.868 72.7976 453.474 Q69.742 458.058 63.9319 458.058 Q58.1217 458.058 55.043 453.474 Q51.9875 448.868 51.9875 440.141 Q51.9875 431.391 55.043 426.808 Q58.1217 422.201 63.9319 422.201 Z\" fill=\"#000000\" fill-rule=\"evenodd\" fill-opacity=\"1\" /><path clip-path=\"url(#clip680)\" d=\"M84.0938 451.507 L88.978 451.507 L88.978 457.386 L84.0938 457.386 L84.0938 451.507 Z\" fill=\"#000000\" fill-rule=\"evenodd\" fill-opacity=\"1\" /><path clip-path=\"url(#clip680)\" d=\"M99.9733 453.451 L107.612 453.451 L107.612 427.085 L99.3021 428.752 L99.3021 424.493 L107.566 422.826 L112.242 422.826 L112.242 453.451 L119.881 453.451 L119.881 457.386 L99.9733 457.386 L99.9733 453.451 Z\" fill=\"#000000\" fill-rule=\"evenodd\" fill-opacity=\"1\" /><path clip-path=\"url(#clip680)\" d=\"M129.371 422.826 L147.728 422.826 L147.728 426.761 L133.654 426.761 L133.654 435.234 Q134.672 434.886 135.691 434.724 Q136.709 434.539 137.728 434.539 Q143.515 434.539 146.894 437.71 Q150.274 440.882 150.274 446.298 Q150.274 451.877 146.802 454.979 Q143.33 458.058 137.01 458.058 Q134.834 458.058 132.566 457.687 Q130.32 457.317 127.913 456.576 L127.913 451.877 Q129.996 453.011 132.219 453.567 Q134.441 454.122 136.918 454.122 Q140.922 454.122 143.26 452.016 Q145.598 449.909 145.598 446.298 Q145.598 442.687 143.26 440.581 Q140.922 438.474 136.918 438.474 Q135.043 438.474 133.168 438.891 Q131.316 439.308 129.371 440.187 L129.371 422.826 Z\" fill=\"#000000\" fill-rule=\"evenodd\" fill-opacity=\"1\" /><path clip-path=\"url(#clip680)\" d=\"M62.9365 69.9013 Q59.3254 69.9013 57.4967 73.4661 Q55.6912 77.0078 55.6912 84.1374 Q55.6912 91.2438 57.4967 94.8086 Q59.3254 98.3503 62.9365 98.3503 Q66.5707 98.3503 68.3763 94.8086 Q70.205 91.2438 70.205 84.1374 Q70.205 77.0078 68.3763 73.4661 Q66.5707 69.9013 62.9365 69.9013 M62.9365 66.1977 Q68.7467 66.1977 71.8022 70.8041 Q74.8809 75.3874 74.8809 84.1374 Q74.8809 92.8642 71.8022 97.4706 Q68.7467 102.054 62.9365 102.054 Q57.1264 102.054 54.0477 97.4706 Q50.9921 92.8642 50.9921 84.1374 Q50.9921 75.3874 54.0477 70.8041 Q57.1264 66.1977 62.9365 66.1977 Z\" fill=\"#000000\" fill-rule=\"evenodd\" fill-opacity=\"1\" /><path clip-path=\"url(#clip680)\" d=\"M83.0984 95.5031 L87.9827 95.5031 L87.9827 101.383 L83.0984 101.383 L83.0984 95.5031 Z\" fill=\"#000000\" fill-rule=\"evenodd\" fill-opacity=\"1\" /><path clip-path=\"url(#clip680)\" d=\"M102.196 97.4475 L118.515 97.4475 L118.515 101.383 L96.5706 101.383 L96.5706 97.4475 Q99.2326 94.6929 103.816 90.0633 Q108.422 85.4105 109.603 84.0679 Q111.848 81.5448 112.728 79.8087 Q113.631 78.0494 113.631 76.3596 Q113.631 73.605 111.686 71.8689 Q109.765 70.1328 106.663 70.1328 Q104.464 70.1328 102.01 70.8967 Q99.5798 71.6606 96.8021 73.2115 L96.8021 68.4893 Q99.6261 67.3551 102.08 66.7764 Q104.534 66.1977 106.571 66.1977 Q111.941 66.1977 115.135 68.8828 Q118.33 71.568 118.33 76.0587 Q118.33 78.1883 117.52 80.1096 Q116.733 82.0078 114.626 84.6003 Q114.047 85.2716 110.946 88.4892 Q107.844 91.6836 102.196 97.4475 Z\" fill=\"#000000\" fill-rule=\"evenodd\" fill-opacity=\"1\" /><path clip-path=\"url(#clip680)\" d=\"M138.33 69.9013 Q134.719 69.9013 132.89 73.4661 Q131.084 77.0078 131.084 84.1374 Q131.084 91.2438 132.89 94.8086 Q134.719 98.3503 138.33 98.3503 Q141.964 98.3503 143.769 94.8086 Q145.598 91.2438 145.598 84.1374 Q145.598 77.0078 143.769 73.4661 Q141.964 69.9013 138.33 69.9013 M138.33 66.1977 Q144.14 66.1977 147.195 70.8041 Q150.274 75.3874 150.274 84.1374 Q150.274 92.8642 147.195 97.4706 Q144.14 102.054 138.33 102.054 Q132.519 102.054 129.441 97.4706 Q126.385 92.8642 126.385 84.1374 Q126.385 75.3874 129.441 70.8041 Q132.519 66.1977 138.33 66.1977 Z\" fill=\"#000000\" fill-rule=\"evenodd\" fill-opacity=\"1\" /><polyline clip-path=\"url(#clip682)\" style=\"stroke:#009af9; stroke-linecap:butt; stroke-linejoin:round; stroke-width:4; stroke-opacity:1; fill:none\" points=\"\n",
       "  247.59,1445.72 257.569,1441.81 267.549,1437.7 359.828,1388.73 452.107,1315.78 479.835,1288.35 507.563,1258.15 535.291,1225.11 563.019,1189.18 609.906,1121.8 \n",
       "  656.793,1046.3 758.658,857.669 852.569,663.919 902.91,558.158 953.251,455.236 1011.58,344.254 1069.9,247.501 1095.82,210.472 1121.73,177.714 1147.65,149.601 \n",
       "  1173.57,126.459 1219.02,98.6634 1264.47,87.9763 1289.25,89.5223 1314.03,96.2635 1338.8,108.126 1363.58,124.98 1388.51,146.786 1413.43,173.22 1438.36,203.998 \n",
       "  1463.28,238.795 1518.4,328.159 1573.51,430.992 1625.95,537.031 1678.39,646.923 1787.45,871.684 1879.25,1041.22 1935.28,1131.12 1991.32,1209.38 2044,1272.15 \n",
       "  2096.68,1324.8 2181.07,1389.94 2265.46,1435.12 2278.45,1440.59 2291.44,1445.72 \n",
       "  \"/>\n",
       "<path clip-path=\"url(#clip680)\" d=\"\n",
       "M1987.39 198.898 L2280.54 198.898 L2280.54 95.2176 L1987.39 95.2176  Z\n",
       "  \" fill=\"#ffffff\" fill-rule=\"evenodd\" fill-opacity=\"1\"/>\n",
       "<polyline clip-path=\"url(#clip680)\" style=\"stroke:#000000; stroke-linecap:butt; stroke-linejoin:round; stroke-width:4; stroke-opacity:1; fill:none\" points=\"\n",
       "  1987.39,198.898 2280.54,198.898 2280.54,95.2176 1987.39,95.2176 1987.39,198.898 \n",
       "  \"/>\n",
       "<polyline clip-path=\"url(#clip680)\" style=\"stroke:#009af9; stroke-linecap:butt; stroke-linejoin:round; stroke-width:4; stroke-opacity:1; fill:none\" points=\"\n",
       "  2011.46,147.058 2155.89,147.058 \n",
       "  \"/>\n",
       "<path clip-path=\"url(#clip680)\" d=\"M2193.81 166.745 Q2192 171.375 2190.29 172.787 Q2188.58 174.199 2185.71 174.199 L2182.3 174.199 L2182.3 170.634 L2184.8 170.634 Q2186.56 170.634 2187.53 169.8 Q2188.51 168.967 2189.69 165.865 L2190.45 163.921 L2179.97 138.412 L2184.48 138.412 L2192.58 158.689 L2200.68 138.412 L2205.2 138.412 L2193.81 166.745 Z\" fill=\"#000000\" fill-rule=\"evenodd\" fill-opacity=\"1\" /><path clip-path=\"url(#clip680)\" d=\"M2212.49 160.402 L2220.13 160.402 L2220.13 134.037 L2211.82 135.703 L2211.82 131.444 L2220.08 129.778 L2224.76 129.778 L2224.76 160.402 L2232.4 160.402 L2232.4 164.338 L2212.49 164.338 L2212.49 160.402 Z\" fill=\"#000000\" fill-rule=\"evenodd\" fill-opacity=\"1\" /></svg>\n"
      ]
     },
     "metadata": {},
     "output_type": "display_data"
    }
   ],
   "source": [
    "# for cell in jsonnb[\"cells\"]\n",
    "#     println(cell)\n",
    "# end\n",
    "svg = join(jsonnb[\"cells\"][6][\"outputs\"][1][\"data\"][\"image/svg+xml\"])\n",
    "display(MIME(\"image/svg+xml\"), svg)"
   ]
  },
  {
   "cell_type": "code",
   "execution_count": null,
   "id": "6c8a7e89-e4b5-47bd-929c-5f19560de062",
   "metadata": {},
   "outputs": [],
   "source": []
  }
 ],
 "metadata": {
  "kernelspec": {
   "display_name": "JuliaFlux 1.6.3",
   "language": "julia",
   "name": "juliaflux-1.6"
  },
  "language_info": {
   "file_extension": ".jl",
   "mimetype": "application/julia",
   "name": "julia",
   "version": "1.6.3"
  }
 },
 "nbformat": 4,
 "nbformat_minor": 5
}
