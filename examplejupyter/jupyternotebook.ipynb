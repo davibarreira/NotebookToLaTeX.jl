{
 "cells": [
  {
   "cell_type": "markdown",
   "id": "e106cfef-25f8-491f-98e7-08bb81b4f04e",
   "metadata": {},
   "source": [
    "# My Notebook"
   ]
  },
  {
   "cell_type": "markdown",
   "id": "14ecf86f-aa83-491b-ae30-dc4d9c2eebf3",
   "metadata": {},
   "source": [
    "## Start importing"
   ]
  },
  {
   "cell_type": "code",
   "execution_count": null,
   "id": "286c79ab-c88e-4e72-93b8-fca747385d98",
   "metadata": {},
   "outputs": [],
   "source": [
    "using Plots\n",
    "using Makie\n",
    "using CairoMakie\n",
    "using Distributions"
   ]
  },
  {
   "cell_type": "markdown",
   "id": "c2ee6377-4116-4b00-b9bc-b453c43ec1b0",
   "metadata": {},
   "source": [
    "### Some theory"
   ]
  },
  {
   "cell_type": "markdown",
   "id": "e9fe132f-ff68-4cfe-9957-0b7f607bb226",
   "metadata": {},
   "source": [
    "The Wasserstein Distance for 1D distributions can be obtained by:\n",
    "$$\n",
    "\\int_0^1 |C_\\alpha^{-1}(r) - C_\\beta^{-1}(r)|^p dr\n",
    "$$\n",
    "\n",
    "Where $C_\\alpha^{-1}$ is the quantile function for the distribution $\\alpha$ (the inverse of the Cumulative Distribution Function)."
   ]
  },
  {
   "cell_type": "code",
   "execution_count": 8,
   "id": "27f81b5d-8f49-45b5-b60d-36058e21eca3",
   "metadata": {},
   "outputs": [
    {
     "ename": "LoadError",
     "evalue": "cannot define function μ; it already has a value",
     "output_type": "error",
     "traceback": [
      "cannot define function μ; it already has a value",
      "",
      "Stacktrace:",
      " [1] top-level scope",
      "   @ none:0",
      " [2] top-level scope",
      "   @ In[8]:1",
      " [3] eval",
      "   @ ./boot.jl:360 [inlined]",
      " [4] include_string(mapexpr::typeof(REPL.softscope), mod::Module, code::String, filename::String)",
      "   @ Base ./loading.jl:1116"
     ]
    }
   ],
   "source": [
    "μ(x) = pdf(Normal(0,2),x)\n",
    "Plots.plot(μ)"
   ]
  },
  {
   "cell_type": "code",
   "execution_count": null,
   "id": "a37ecc02-f5c1-4102-bf45-ac89d6ce803e",
   "metadata": {},
   "outputs": [],
   "source": []
  }
 ],
 "metadata": {
  "kernelspec": {
   "display_name": "JuliaFlux 1.6.3",
   "language": "julia",
   "name": "juliaflux-1.6"
  },
  "language_info": {
   "file_extension": ".jl",
   "mimetype": "application/julia",
   "name": "julia",
   "version": "1.6.3"
  }
 },
 "nbformat": 4,
 "nbformat_minor": 5
}
