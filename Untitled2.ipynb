{
 "cells": [
  {
   "cell_type": "code",
   "execution_count": 34,
   "id": "4f6013ca-fba6-41cb-8930-6660f3ed591c",
   "metadata": {},
   "outputs": [
    {
     "name": "stderr",
     "output_type": "stream",
     "text": [
      "┌ Info: Precompiling ReadableRegex [cbbcb084-453d-4c4c-b292-e315607ba6a4]\n",
      "└ @ Base loading.jl:1317\n"
     ]
    }
   ],
   "source": [
    "using ReadableRegex"
   ]
  },
  {
   "cell_type": "code",
   "execution_count": 31,
   "id": "648a5bda-010b-4af0-9c73-2c21a36f33c4",
   "metadata": {},
   "outputs": [],
   "source": [
    "if !isdir(\"build_latex/\")\n",
    "    mkpath(\"build_latex/notebooks\")\n",
    "    mkpath(\"build_latex/figures\")\n",
    "else\n",
    "    if !isdir(\"build_latex/notebooks\")\n",
    "        mkpath(\"build_latex/notebooks\")\n",
    "    end\n",
    "    if !isdir(\"build_latex/figures\")\n",
    "        mkpath(\"build_latex/figures\")\n",
    "    end\n",
    "end\n",
    "# mkdir(\"build_latex\")\n",
    "# readdir(\"build_latex\")\n",
    "# isdir(\"build_latex/\")\n",
    "# isfile(\"build_latex/notebook.tex\")"
   ]
  },
  {
   "cell_type": "code",
   "execution_count": 33,
   "id": "3d7dd318-2b7a-4261-93cd-2695e5d21412",
   "metadata": {},
   "outputs": [],
   "source": [
    "notebook1 = \"./build_latex/notebooks/notebook1.tex\"\n",
    "if !isfile(notebook1)\n",
    "    open(\"./build_latex/notebooks/notebook1.tex\", \"w\") do f\n",
    "        write(f,\"\\\\newpage\\n\")\n",
    "    end\n",
    "end\n",
    "\n",
    "# open(\"./build_latex/notebooks/notebook1.tex\", \"a\") do f\n",
    "#     write(f,\"\\\\newpage\\n\")\n",
    "# end"
   ]
  },
  {
   "cell_type": "code",
   "execution_count": null,
   "id": "f822b10b-dca5-4efa-90ee-b24ab3909caf",
   "metadata": {},
   "outputs": [],
   "source": [
    "function tagcell(cell)\n",
    "end"
   ]
  },
  {
   "cell_type": "code",
   "execution_count": 44,
   "id": "b251db89-e2ad-4a24-8f89-db4b6094238d",
   "metadata": {},
   "outputs": [
    {
     "data": {
      "text/plain": [
       "extractnotebook (generic function with 1 method)"
      ]
     },
     "execution_count": 44,
     "metadata": {},
     "output_type": "execute_result"
    }
   ],
   "source": [
    "function extractnotebook(notebook)\n",
    "    s = read(notebook, String)\n",
    "    cells = split(s, \"# ╔═╡ \");\n",
    "    # The first cell and the final 3 are not used\n",
    "    codes = [cell[1:36] for cell in cells[2:end-1]]\n",
    "    contents = [cell[38:end] for cell in cells[2:end-3]]\n",
    "    \n",
    "    r = either(\"# ╠\",\"# ╟\")\n",
    "    sortedcells = split(cells[end],Regex(r))\n",
    "    sortedcodes = [cell[4:39] for cell in sortedcells[2:end]]\n",
    "    order = [findfirst(isequal(scode),codes) for scode in  sortedcodes]\n",
    "    view  = [occursin(\"═\",c) for c in sortedcells[2:end]]\n",
    "    return cells, codes, contents, order,view\n",
    "end"
   ]
  },
  {
   "cell_type": "code",
   "execution_count": 45,
   "id": "47c12084-31a9-43cf-82d6-a8e619f4689b",
   "metadata": {},
   "outputs": [],
   "source": [
    "example = \"./example/examplepluto.jl\"\n",
    "cells, codes, contents, order, view = extractnotebook(example);"
   ]
  },
  {
   "cell_type": "code",
   "execution_count": null,
   "id": "ff9b4fc2-47e0-4f93-b3f2-e3e3bdbefc29",
   "metadata": {},
   "outputs": [],
   "source": [
    "Dict()"
   ]
  },
  {
   "cell_type": "code",
   "execution_count": 49,
   "id": "06a75f0f-885f-48e5-b7bf-8f342e1b78cc",
   "metadata": {},
   "outputs": [
    {
     "data": {
      "text/plain": [
       "9-element Vector{SubString{String}}:\n",
       " \"598d863b-3f42-4855-90f4-d98604776a4d\"\n",
       " \"7b4b693d-c955-4c9b-97e8-56d28cf74e18\"\n",
       " \"9ebf3044-26d2-11ec-34c4-db68b273419f\"\n",
       " \"bdad72d3-5744-459f-8627-299908573f40\"\n",
       " \"e1009c9c-1567-49ed-9c29-1fa081089b07\"\n",
       " \"39d902cc-221c-4c50-9857-a12a072c0053\"\n",
       " \"9fb84733-13bb-45fd-a4b2-5a39488c23d6\"\n",
       " \"00000000-0000-0000-0000-000000000001\"\n",
       " \"00000000-0000-0000-0000-000000000002\""
      ]
     },
     "execution_count": 49,
     "metadata": {},
     "output_type": "execute_result"
    }
   ],
   "source": [
    "# codes[order]\n",
    "codes"
   ]
  },
  {
   "cell_type": "code",
   "execution_count": 50,
   "id": "9ca4606e-a643-4437-8ff9-26683d8cfc7a",
   "metadata": {},
   "outputs": [
    {
     "data": {
      "text/plain": [
       "9-element Vector{SubString{String}}:\n",
       " \"9ebf3044-26d2-11ec-34c4-db68b273419f\"\n",
       " \"598d863b-3f42-4855-90f4-d98604776a4d\"\n",
       " \"7b4b693d-c955-4c9b-97e8-56d28cf74e18\"\n",
       " \"bdad72d3-5744-459f-8627-299908573f40\"\n",
       " \"e1009c9c-1567-49ed-9c29-1fa081089b07\"\n",
       " \"39d902cc-221c-4c50-9857-a12a072c0053\"\n",
       " \"9fb84733-13bb-45fd-a4b2-5a39488c23d6\"\n",
       " \"00000000-0000-0000-0000-000000000001\"\n",
       " \"00000000-0000-0000-0000-000000000002\""
      ]
     },
     "execution_count": 50,
     "metadata": {},
     "output_type": "execute_result"
    }
   ],
   "source": [
    "codes[order]"
   ]
  }
 ],
 "metadata": {
  "kernelspec": {
   "display_name": "Julia 1.6.1",
   "language": "julia",
   "name": "julia-1.6"
  },
  "language_info": {
   "file_extension": ".jl",
   "mimetype": "application/julia",
   "name": "julia",
   "version": "1.6.1"
  }
 },
 "nbformat": 4,
 "nbformat_minor": 5
}
