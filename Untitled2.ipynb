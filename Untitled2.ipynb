{
 "cells": [
  {
   "cell_type": "code",
   "execution_count": 72,
   "id": "4f6013ca-fba6-41cb-8930-6660f3ed591c",
   "metadata": {},
   "outputs": [],
   "source": [
    "using ReadableRegex"
   ]
  },
  {
   "cell_type": "code",
   "execution_count": 133,
   "id": "648a5bda-010b-4af0-9c73-2c21a36f33c4",
   "metadata": {},
   "outputs": [],
   "source": [
    "if !isdir(\"build_latex/\")\n",
    "    mkpath(\"build_latex/notebooks\")\n",
    "    mkpath(\"build_latex/figures\")\n",
    "else\n",
    "    if !isdir(\"build_latex/notebooks\")\n",
    "        mkpath(\"build_latex/notebooks\")\n",
    "    end\n",
    "    if !isdir(\"build_latex/figures\")\n",
    "        mkpath(\"build_latex/figures\")\n",
    "    end\n",
    "end\n",
    "# mkdir(\"build_latex\")\n",
    "# readdir(\"build_latex\")\n",
    "# isdir(\"build_latex/\")\n",
    "# isfile(\"build_latex/notebook.tex\")"
   ]
  },
  {
   "cell_type": "code",
   "execution_count": 134,
   "id": "3d7dd318-2b7a-4261-93cd-2695e5d21412",
   "metadata": {},
   "outputs": [],
   "source": [
    "notebook1 = \"./build_latex/notebooks/notebook1.tex\"\n",
    "if !isfile(notebook1)\n",
    "    open(\"./build_latex/notebooks/notebook1.tex\", \"w\") do f\n",
    "        write(f,\"\\\\newpage\\n\")\n",
    "    end\n",
    "end\n",
    "\n",
    "# open(\"./build_latex/notebooks/notebook1.tex\", \"a\") do f\n",
    "#     write(f,\"\\\\newpage\\n\")\n",
    "# end"
   ]
  },
  {
   "cell_type": "code",
   "execution_count": 157,
   "id": "f822b10b-dca5-4efa-90ee-b24ab3909caf",
   "metadata": {},
   "outputs": [
    {
     "data": {
      "text/plain": [
       "tagcelloutput (generic function with 1 method)"
      ]
     },
     "execution_count": 157,
     "metadata": {},
     "output_type": "execute_result"
    }
   ],
   "source": [
    "function tagcelloutput(cell)\n",
    "    p = findlast(\";\",cell)\n",
    "    if p ≢ nothing\n",
    "        if match(Regex(look_for(\";\",before=one_or_more(maybe((\"\\\\n\",\"\\\\t\"))))),cell[p[1]:end]) != nothing\n",
    "            return \"hideoutput\"\n",
    "        else\n",
    "            return \"showoutput\"\n",
    "        end\n",
    "    else\n",
    "        return \"showoutput\"\n",
    "    end\n",
    "end"
   ]
  },
  {
   "cell_type": "code",
   "execution_count": 158,
   "id": "b251db89-e2ad-4a24-8f89-db4b6094238d",
   "metadata": {},
   "outputs": [
    {
     "data": {
      "text/plain": [
       "extractnotebook (generic function with 1 method)"
      ]
     },
     "execution_count": 158,
     "metadata": {},
     "output_type": "execute_result"
    }
   ],
   "source": [
    "function extractnotebook(notebook)\n",
    "    s = read(notebook, String)\n",
    "    cells = split(s, \"# ╔═╡ \");\n",
    "    # The first cell and the final 3 are not used\n",
    "    codes = [cell[1:36] for cell in cells[2:end-1]]\n",
    "    contents = [cell[38:end] for cell in cells[2:end-3]]\n",
    "    \n",
    "    r = either(\"# ╠\",\"# ╟\")\n",
    "    sortedcells = split(cells[end],Regex(r))\n",
    "    sortedcodes = [cell[4:39] for cell in sortedcells[2:end]]\n",
    "    order = [findfirst(isequal(scode),codes) for scode in  sortedcodes[1:end]]\n",
    "    view  = [occursin(\"═\",c) ? \"showcode\" : \"hidecode\" for c in sortedcells[2:end]]\n",
    "    # Matching running order\n",
    "    view  = view[order]\n",
    "    outputtag = [tagcelloutput(cell) for cell in cells[2:end-3]]\n",
    "    \n",
    "    notebookdata = Dict(:codes => codes[1:end-2], :cells => cells[2:end-2],\n",
    "        :contents => contents, :order=> order[1:end-2], :view=>view[1:end-2], :outputtag=>outputtag)\n",
    "    return notebookdata\n",
    "end"
   ]
  },
  {
   "cell_type": "code",
   "execution_count": 153,
   "id": "47c12084-31a9-43cf-82d6-a8e619f4689b",
   "metadata": {},
   "outputs": [
    {
     "name": "stdout",
     "output_type": "stream",
     "text": [
      ";\t \n",
      "\n",
      "\n",
      "\n",
      ";\n",
      "\n",
      "\n"
     ]
    }
   ],
   "source": [
    "example = \"./example/examplepluto.jl\"\n",
    "nb = extractnotebook(example);"
   ]
  },
  {
   "cell_type": "code",
   "execution_count": 154,
   "id": "53cb9448-893f-460d-b77f-8cc4b6857d70",
   "metadata": {},
   "outputs": [
    {
     "name": "stdout",
     "output_type": "stream",
     "text": [
      ";\n",
      "\n",
      "\n"
     ]
    },
    {
     "data": {
      "text/plain": [
       "\"hideoutput\""
      ]
     },
     "execution_count": 154,
     "metadata": {},
     "output_type": "execute_result"
    }
   ],
   "source": [
    "tagcelloutput(nb[:cells][6])"
   ]
  },
  {
   "cell_type": "code",
   "execution_count": 155,
   "id": "93231795-d176-4d01-9438-6ec5239eb6a8",
   "metadata": {},
   "outputs": [
    {
     "data": {
      "text/plain": [
       "8-element Vector{String}:\n",
       " \"hidecode\"\n",
       " \"showcode\"\n",
       " \"hidecode\"\n",
       " \"showcode\"\n",
       " \"showcode\"\n",
       " \"showcode\"\n",
       " \"showcode\"\n",
       " \"showcode\""
      ]
     },
     "execution_count": 155,
     "metadata": {},
     "output_type": "execute_result"
    }
   ],
   "source": [
    "nb[:view]"
   ]
  },
  {
   "cell_type": "code",
   "execution_count": 156,
   "id": "c23ad089-9130-4a14-9cc9-d3ddd59a73e6",
   "metadata": {},
   "outputs": [
    {
     "data": {
      "text/plain": [
       "8-element Vector{String}:\n",
       " \"showoutput\"\n",
       " \"showoutput\"\n",
       " \"showoutput\"\n",
       " \"hideoutput\"\n",
       " \"showoutput\"\n",
       " \"hideoutput\"\n",
       " \"showoutput\"\n",
       " \"showoutput\""
      ]
     },
     "execution_count": 156,
     "metadata": {},
     "output_type": "execute_result"
    }
   ],
   "source": [
    "nb[:outputtag]"
   ]
  },
  {
   "cell_type": "code",
   "execution_count": 127,
   "id": "e98ff0df-e933-45a1-83df-4d0898f98704",
   "metadata": {},
   "outputs": [
    {
     "data": {
      "text/plain": [
       "7-element Vector{SubString{String}}:\n",
       " \"using Plots\\n\\n\"\n",
       " \"using PlutoUI\\n\\n\"\n",
       " \"md\\\"\\\"\\\"\\n# Chapter\\n## Section\\n### Subsection\\n#### Subsubsection\\nMy text here with *italics*, with **bold**, and a [link](https://davibarreira.github.io/).\\n\\nAdding some math expression here with \\$x=10\\$ and\\n```math\\nd(\\\\omega(t_0),\\\\omega(t_1)) \\\\leq \\\\int^{t_1}_{t_0}g(s) ds.\\n```\\n\\nAdding some code like `plots`. Note that the `using plots`\\n\\\"\\\"\\\"\\n\\n\"\n",
       " \"begin\\n\\ty(x) = sin(x)\\n\\tplot(y)\\nend;\\t \\n\\n\\n\"\n",
       " \"A = [10,10,10]\\n\\n\"\n",
       " \"PlutoUI.LocalResource(\\\"figure.svg\\\")\\n\\n\"\n",
       " \"PlutoUI.LocalResource(\\\"plotexample.png\\\")\\n\\n\""
      ]
     },
     "execution_count": 127,
     "metadata": {},
     "output_type": "execute_result"
    }
   ],
   "source": [
    "nb[:contents]"
   ]
  },
  {
   "cell_type": "code",
   "execution_count": 94,
   "id": "07c67f07-2cd7-4177-91c8-b2192c0f316e",
   "metadata": {},
   "outputs": [],
   "source": [
    "s = read(example, String);\n",
    "cells = split(s, \"# ╔═╡ \");"
   ]
  },
  {
   "cell_type": "code",
   "execution_count": 100,
   "id": "0e350be5-b18e-4e73-9ed6-d965ac81353f",
   "metadata": {},
   "outputs": [
    {
     "data": {
      "text/plain": [
       "\"Cell order:\\n# ╠═9ebf3044-26d2-11ec-34c4-db68b273419f\\n# ╟─598d863b-3f42-4855-90f4-d98604776a4d\\n# ╟─7b4b693d-c955-4c9b-97e8-56d28cf74e18\\n# ╠═bdad72d3-5744-459f-8627-299908573f40\\n# ╠═e1009c9c-1567-49ed-9c29-1fa081089b07\\n# ╠═39d902cc-221c-4c50-9857-a12a072c0053\\n# ╠═9fb84733-13bb-45fd-a4b2-5a39488c23d6\\n# ╟─00000000-0000-0000-0000-000000000001\\n# ╟─00000000-0000-0000-0000-000000000002\\n\""
      ]
     },
     "execution_count": 100,
     "metadata": {},
     "output_type": "execute_result"
    }
   ],
   "source": [
    "cells[end]"
   ]
  },
  {
   "cell_type": "code",
   "execution_count": null,
   "id": "6b27dfaf-4215-4649-9f5b-638b5a1c73dd",
   "metadata": {},
   "outputs": [],
   "source": []
  },
  {
   "cell_type": "code",
   "execution_count": null,
   "id": "8dac2ae0-ba07-4417-865d-979f1a558454",
   "metadata": {},
   "outputs": [],
   "source": []
  },
  {
   "cell_type": "code",
   "execution_count": 91,
   "id": "ff9b4fc2-47e0-4f93-b3f2-e3e3bdbefc29",
   "metadata": {},
   "outputs": [
    {
     "data": {
      "text/plain": [
       "6-element Vector{SubString{String}}:\n",
       " \"9ebf3044-26d2-11ec-34c4-db68b273419f\"\n",
       " \"598d863b-3f42-4855-90f4-d98604776a4d\"\n",
       " \"7b4b693d-c955-4c9b-97e8-56d28cf74e18\"\n",
       " \"bdad72d3-5744-459f-8627-299908573f40\"\n",
       " \"e1009c9c-1567-49ed-9c29-1fa081089b07\"\n",
       " \"39d902cc-221c-4c50-9857-a12a072c0053\""
      ]
     },
     "execution_count": 91,
     "metadata": {},
     "output_type": "execute_result"
    }
   ],
   "source": [
    "nb[:codes][nb[:order]]"
   ]
  },
  {
   "cell_type": "code",
   "execution_count": null,
   "id": "06a75f0f-885f-48e5-b7bf-8f342e1b78cc",
   "metadata": {},
   "outputs": [],
   "source": []
  },
  {
   "cell_type": "code",
   "execution_count": null,
   "id": "9ca4606e-a643-4437-8ff9-26683d8cfc7a",
   "metadata": {},
   "outputs": [],
   "source": []
  },
  {
   "cell_type": "code",
   "execution_count": null,
   "id": "2e09de1b-061e-4ae5-a00e-59b7ecb4f46e",
   "metadata": {},
   "outputs": [],
   "source": []
  }
 ],
 "metadata": {
  "kernelspec": {
   "display_name": "Julia 1.6.1",
   "language": "julia",
   "name": "julia-1.6"
  },
  "language_info": {
   "file_extension": ".jl",
   "mimetype": "application/julia",
   "name": "julia",
   "version": "1.6.1"
  }
 },
 "nbformat": 4,
 "nbformat_minor": 5
}
