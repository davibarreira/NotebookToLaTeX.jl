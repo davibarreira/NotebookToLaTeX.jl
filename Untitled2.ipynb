{
 "cells": [
  {
   "cell_type": "code",
   "execution_count": 1,
   "id": "4f6013ca-fba6-41cb-8930-6660f3ed591c",
   "metadata": {},
   "outputs": [
    {
     "data": {
      "text/plain": [
       "\"/home/davibarreira/MEGA/EMAp/PlutoLatexConverter.jl\""
      ]
     },
     "execution_count": 1,
     "metadata": {},
     "output_type": "execute_result"
    }
   ],
   "source": [
    "using ReadableRegex\n",
    "currentpath = pwd()\n",
    "# using Plots\n",
    "# plot(rand(10))"
   ]
  },
  {
   "cell_type": "code",
   "execution_count": 2,
   "id": "35e7596b-7978-43f8-ae81-17c021ce28be",
   "metadata": {},
   "outputs": [
    {
     "data": {
      "text/plain": [
       "Main.Runner"
      ]
     },
     "execution_count": 2,
     "metadata": {},
     "output_type": "execute_result"
    }
   ],
   "source": [
    "module Runner\n",
    "end"
   ]
  },
  {
   "cell_type": "code",
   "execution_count": 4,
   "id": "ec59b4fb-b676-46ac-9cb7-ddf977d092ea",
   "metadata": {},
   "outputs": [
    {
     "name": "stdout",
     "output_type": "stream",
     "text": [
      "String(take!(io)) = \"nothing\"\n",
      "String(take!(io)) = \"Plot{Plots.GRBackend() n=1}\"\n"
     ]
    },
    {
     "data": {
      "text/plain": [
       "\"Plot{Plots.GRBackend() n=1}\""
      ]
     },
     "execution_count": 4,
     "metadata": {},
     "output_type": "execute_result"
    }
   ],
   "source": [
    "code = \"\"\"\n",
    "using Plots\n",
    "y(x) = sin(x)\n",
    "plot(y, color=:blue)\n",
    "\"\"\"\n",
    "code1 = \"\"\"\n",
    "using Plots\n",
    "\"\"\"\n",
    "code2 = \"\"\"\n",
    "y(x) = sin(x)\n",
    "plot(y, color=:blue)\n",
    "\"\"\"\n",
    "function runcode(code)\n",
    "    ex = :($(Meta.parse(\"begin\\n\"*code*\"\\nend\")))\n",
    "    io = IOBuffer();\n",
    "    show(IOContext(io, :limit => true), \"text/plain\", eval(ex));\n",
    "    @show String(take!(io))\n",
    "end\n",
    "# ex = :($(Meta.parse(\"begin\\n\"*code*\"\\nend\")))\n",
    "# io = IOBuffer();\n",
    "# show(IOContext(io, :limit => true), \"text/plain\", Runner.eval(ex));\n",
    "# @show String(take!(io))\n",
    "runcode(code1)\n",
    "runcode(code2)"
   ]
  },
  {
   "cell_type": "code",
   "execution_count": null,
   "id": "e5a68fbd-355a-4a4c-b161-241b849d914c",
   "metadata": {},
   "outputs": [],
   "source": []
  },
  {
   "cell_type": "code",
   "execution_count": 3,
   "id": "bd9f4195-de7d-4947-9922-05cfea1990f1",
   "metadata": {},
   "outputs": [
    {
     "name": "stdout",
     "output_type": "stream",
     "text": [
      "String(take!(io)) = \"Plot{Plots.GRBackend() n=1}\"\n"
     ]
    },
    {
     "data": {
      "text/plain": [
       "\"Plot{Plots.GRBackend() n=1}\""
      ]
     },
     "execution_count": 3,
     "metadata": {},
     "output_type": "execute_result"
    }
   ],
   "source": [
    "function runtest()\n",
    "    code = \"\"\"\n",
    "    using Plots\n",
    "    y(x) = sin(x)\n",
    "    plot(y, color=:blue)\n",
    "    \"\"\"\n",
    "    ex = :($(Meta.parse(\"begin\\n\"*code*\"\\nend\")))\n",
    "    io = IOBuffer();\n",
    "    Base.invokelatest(show,IOContext(io, :limit => true), \"text/plain\", Runner.eval(ex))\n",
    "    @show String(take!(io))\n",
    "end\n",
    "runtest()"
   ]
  },
  {
   "cell_type": "code",
   "execution_count": 4,
   "id": "21c50099-a643-470e-9805-1e4f845c22ad",
   "metadata": {},
   "outputs": [
    {
     "ename": "LoadError",
     "evalue": "MethodError: no method matching iterate(::RecipesPipeline.DefaultsDict)\nThe applicable method may be too new: running in world age 30035, while current world is 30044.\n\u001b[0mClosest candidates are:\n\u001b[0m  iterate(::RecipesPipeline.DefaultsDict) at /home/davibarreira/.julia/packages/RecipesPipeline/Bxu2O/src/utils.jl:35 (method too new to be called from this world context.)\n\u001b[0m  iterate(::RecipesPipeline.DefaultsDict, \u001b[91m::Any\u001b[39m) at /home/davibarreira/.julia/packages/RecipesPipeline/Bxu2O/src/utils.jl:41 (method too new to be called from this world context.)\n\u001b[0m  iterate(\u001b[91m::Union{LinRange, StepRangeLen}\u001b[39m) at range.jl:664\n\u001b[0m  ...",
     "output_type": "error",
     "traceback": [
      "MethodError: no method matching iterate(::RecipesPipeline.DefaultsDict)\nThe applicable method may be too new: running in world age 30035, while current world is 30044.\n\u001b[0mClosest candidates are:\n\u001b[0m  iterate(::RecipesPipeline.DefaultsDict) at /home/davibarreira/.julia/packages/RecipesPipeline/Bxu2O/src/utils.jl:35 (method too new to be called from this world context.)\n\u001b[0m  iterate(::RecipesPipeline.DefaultsDict, \u001b[91m::Any\u001b[39m) at /home/davibarreira/.julia/packages/RecipesPipeline/Bxu2O/src/utils.jl:41 (method too new to be called from this world context.)\n\u001b[0m  iterate(\u001b[91m::Union{LinRange, StepRangeLen}\u001b[39m) at range.jl:664\n\u001b[0m  ...",
      "",
      "Stacktrace:",
      "  [1] isempty(itr::RecipesPipeline.DefaultsDict)",
      "    @ Base ./essentials.jl:767",
      "  [2] typeinfo_prefix(io::IOContext{IOBuffer}, X::RecipesPipeline.DefaultsDict)",
      "    @ Base ./arrayshow.jl:534",
      "  [3] show(io::IOContext{IOBuffer}, t::RecipesPipeline.DefaultsDict)",
      "    @ Base ./dict.jl:30",
      "  [4] _show_default(io::IOContext{IOBuffer}, x::Any)",
      "    @ Base ./show.jl:412",
      "  [5] show_default",
      "    @ ./show.jl:395 [inlined]",
      "  [6] show",
      "    @ ./show.jl:390 [inlined]",
      "  [7] show",
      "    @ ./multimedia.jl:47 [inlined]",
      "  [8] show(io::IOContext{IOBuffer}, m::String, x::Plots.Plot{Plots.GRBackend})",
      "    @ Base.Multimedia ./multimedia.jl:111",
      "  [9] runtest()",
      "    @ Main ./In[3]:9",
      " [10] top-level scope",
      "    @ In[4]:1",
      " [11] eval",
      "    @ ./boot.jl:360 [inlined]",
      " [12] include_string(mapexpr::typeof(REPL.softscope), mod::Module, code::String, filename::String)",
      "    @ Base ./loading.jl:1116"
     ]
    }
   ],
   "source": [
    "code = \"\"\"\n",
    "using Plots\n",
    "y(x) = sin(x)\n",
    "plot(y, color=:blue)\n",
    "\"\"\"\n",
    "function runtest()\n",
    "    code = \"\"\"\n",
    "    using Plots\n",
    "    y(x) = sin(x)\n",
    "    plot(y, color=:blue)\n",
    "    \"\"\"\n",
    "    ex = :($(Meta.parse(\"begin\\n\"*code*\"\\nend\")))\n",
    "    io = IOBuffer();\n",
    "    show(IOContext(io, :limit => true), \"text/plain\", Runner.eval(ex));\n",
    "    @show String(take!(io))\n",
    "end\n",
    "runtest()"
   ]
  },
  {
   "cell_type": "code",
   "execution_count": 3,
   "id": "3c492c41-3bb6-405f-96a1-bdbee22b7f7f",
   "metadata": {},
   "outputs": [],
   "source": [
    "# ex1 = :($(Meta.parse(\"begin\\n\"*\"using Plots\"*\"\\nend\")))\n",
    "# code = \"y(x) = sin(x)\n",
    "#         plot(y,color=:blue)\"\n",
    "# ex2 = :($(Meta.parse(\"begin\\n\"*code*\"\\nend\")))\n",
    "# io = IOBuffer();\n",
    "# show(IOContext(io, :limit => true), \"text/plain\", Runner.eval(ex1));\n",
    "# String(take!(io))\n",
    "# show(IOContext(io, :limit => true), \"text/plain\", Runner.eval(ex2))\n",
    "# String(take!(io))"
   ]
  },
  {
   "cell_type": "code",
   "execution_count": 4,
   "id": "648a5bda-010b-4af0-9c73-2c21a36f33c4",
   "metadata": {},
   "outputs": [],
   "source": [
    "if !isdir(\"build_latex/\")\n",
    "    mkpath(\"build_latex/notebooks\")\n",
    "    mkpath(\"build_latex/figures\")\n",
    "else\n",
    "    if !isdir(\"build_latex/notebooks\")\n",
    "        mkpath(\"build_latex/notebooks\")\n",
    "    end\n",
    "    if !isdir(\"build_latex/figures\")\n",
    "        mkpath(\"build_latex/figures\")\n",
    "    end\n",
    "end\n",
    "# mkdir(\"build_latex\")\n",
    "# readdir(\"build_latex\")\n",
    "# isdir(\"build_latex/\")\n",
    "# isfile(\"build_latex/notebook.tex\")"
   ]
  },
  {
   "cell_type": "code",
   "execution_count": null,
   "id": "5c154c12-8a40-45c4-8ee9-58977a41f49f",
   "metadata": {},
   "outputs": [],
   "source": [
    "rm()"
   ]
  },
  {
   "cell_type": "code",
   "execution_count": 5,
   "id": "3d7dd318-2b7a-4261-93cd-2695e5d21412",
   "metadata": {},
   "outputs": [],
   "source": [
    "notebook1 = \"./build_latex/notebooks/notebook1.tex\"\n",
    "if !isfile(notebook1)\n",
    "    open(\"./build_latex/notebooks/notebook1.tex\", \"w\") do f\n",
    "        write(f,\"\\\\newpage\\n\")\n",
    "    end\n",
    "end\n",
    "\n",
    "# open(\"./build_latex/notebooks/notebook1.tex\", \"a\") do f\n",
    "#     write(f,\"\\\\newpage\\n\")\n",
    "# end"
   ]
  },
  {
   "cell_type": "code",
   "execution_count": 6,
   "id": "b251db89-e2ad-4a24-8f89-db4b6094238d",
   "metadata": {},
   "outputs": [
    {
     "data": {
      "text/plain": [
       "extractnotebook (generic function with 1 method)"
      ]
     },
     "execution_count": 6,
     "metadata": {},
     "output_type": "execute_result"
    }
   ],
   "source": [
    "function extractnotebook(notebook)\n",
    "    s = read(notebook, String)\n",
    "    cells = split(s, \"# ╔═╡ \");\n",
    "    # The first cell and the final 3 are not used\n",
    "    codes, contents, outputtag, celltype = [],[],[],[]\n",
    "    for cell in cells[2:end-3]\n",
    "        push!(codes, cell[1:36])\n",
    "        push!(contents, cell[38:end])\n",
    "        push!(outputtag, endswith(rstrip(cell),\";\") ? \"hideoutput\" : \"showoutput\")\n",
    "        push!(celltype, cell[38:42] == \"md\\\"\\\"\\\"\" ? \"markdown\" : \"code\")\n",
    "    end\n",
    "    \n",
    "    # Get order and view type\n",
    "    r = either(\"# ╠\",\"# ╟\")\n",
    "    sortedcells = split(cells[end],Regex(r))\n",
    "    sortedcodes = [cell[4:39] for cell in sortedcells[2:end-2]]\n",
    "    order = [findfirst(isequal(scode),codes) for scode in  sortedcodes[1:end]]\n",
    "    view  = [occursin(\"═\",c) ? \"showcode\" : \"hidecode\" for c in sortedcells[2:end-2]]\n",
    "    # Matching running order\n",
    "    view  = view[order]\n",
    "    \n",
    "    notebookdata = Dict(:codes => codes, :cells => cells[2:end-3],\n",
    "                        :contents => contents, :outputtag=>outputtag,\n",
    "                        :celltype => celltype,:order=> order,:view=>view)\n",
    "    return notebookdata\n",
    "end"
   ]
  },
  {
   "cell_type": "code",
   "execution_count": 7,
   "id": "47c12084-31a9-43cf-82d6-a8e619f4689b",
   "metadata": {},
   "outputs": [
    {
     "data": {
      "text/plain": [
       "Dict{Symbol, Vector{T} where T} with 7 entries:\n",
       "  :codes     => Any[\"598d863b-3f42-4855-90f4-d98604776a4d\", \"7b4b693d-c955-4c9b…\n",
       "  :outputtag => Any[\"showoutput\", \"showoutput\", \"showoutput\", \"showoutput\", \"sh…\n",
       "  :celltype  => Any[\"code\", \"code\", \"markdown\", \"code\", \"code\", \"code\", \"code\",…\n",
       "  :view      => [\"hidecode\", \"showcode\", \"hidecode\", \"showcode\", \"showcode\", \"s…\n",
       "  :order     => [3, 1, 2, 4, 5, 6, 7, 8, 9]\n",
       "  :contents  => Any[\"using Plots\\n\\n\", \"using PlutoUI\\n\\n\", \"md\\\"\\\"\\\"\\n# Chapte…\n",
       "  :cells     => SubString{String}[\"598d863b-3f42-4855-90f4-d98604776a4d\\nusing …"
      ]
     },
     "execution_count": 7,
     "metadata": {},
     "output_type": "execute_result"
    }
   ],
   "source": [
    "example = \"./example/examplepluto.jl\"\n",
    "nb = extractnotebook(example)\n"
   ]
  },
  {
   "cell_type": "code",
   "execution_count": 10,
   "id": "4cb1056b-1d8d-44d3-aff5-f65df3854e3d",
   "metadata": {},
   "outputs": [],
   "source": [
    "# function collectoutputs(notebookdata, notebookfolder=\"./\")\n",
    "#     runpath = pwd()\n",
    "#     cd(notebookfolder)\n",
    "#     expressions=[]\n",
    "#     outputs = []\n",
    "#     for (i, content) ∈ enumerate(nb[:contents])\n",
    "#         if nb[:celltype][i] == \"code\"\n",
    "#             if startswith(lstrip(content),\"begin\") && endswith(rstrip(content),\"end\")\n",
    "#                 ex = :($(Meta.parse(strip(content))))\n",
    "#             else\n",
    "#                 ex = :($(Meta.parse(\"begin\\n\"*content*\"\\nend\")))\n",
    "#             end\n",
    "            \n",
    "#             s = string(ex.args[end])\n",
    "#             if contains(s, Regex(either(\"PlutoUI.LocalResource\",\"LocalResource\")))\n",
    "#                 imagepath = s[findfirst(Regex(look_for(one_or_more(ANY),after=\"(\",before=\")\")),s)]\n",
    "#                 push!(outputs,(\"imagepath\",imagepath))\n",
    "#             else\n",
    "#                 println(nb[:contents][i])\n",
    "#                 io = IOBuffer();\n",
    "#                 show(IOContext(io, :limit => true), \"text/plain\", Runner.eval(ex));\n",
    "#                 celloutput = String(take!(io))\n",
    "#                 if celloutput == \"nothing\"\n",
    "#                     celloutput = \"\"\n",
    "#                 end\n",
    "#                 push!(outputs, celloutput)\n",
    "#                 push!(expressions, ex)\n",
    "#             end\n",
    "#         end\n",
    "#     end\n",
    "#     cd(runpath)\n",
    "#     return outputs, expressions\n",
    "# end"
   ]
  },
  {
   "cell_type": "code",
   "execution_count": 8,
   "id": "9c978b8c-794c-45f1-8665-ef1350445eb5",
   "metadata": {},
   "outputs": [
    {
     "data": {
      "text/plain": [
       "collectoutputs (generic function with 2 methods)"
      ]
     },
     "execution_count": 8,
     "metadata": {},
     "output_type": "execute_result"
    }
   ],
   "source": [
    "function collectoutputs(notebookdata, notebookfolder=\"./\")\n",
    "    runpath = pwd()\n",
    "    cd(notebookfolder)\n",
    "    expressions=[]\n",
    "    outputs = []\n",
    "    for (i, content) ∈ enumerate(nb[:contents])\n",
    "        if nb[:celltype][i] == \"code\"\n",
    "            ex = :($(Meta.parse(\"begin\\n\"*content*\"\\nend\")))\n",
    "#             io = IOBuffer();\n",
    "#             show(IOContext(io, :limit => true), \"text/plain\", Runner.eval(ex));\n",
    "#             celloutput = String(take!(io))\n",
    "#             if celloutput == \"nothing\"\n",
    "#                 celloutput = \"\"\n",
    "#             end\n",
    "#             push!(outputs, celloutput)\n",
    "        else\n",
    "            ex = :($(Meta.parse(\"begin\\n\"*\"\"*\"\\nend\")))\n",
    "        end\n",
    "        push!(expressions, ex)\n",
    "    end\n",
    "    cd(runpath)\n",
    "    return outputs, expressions\n",
    "end"
   ]
  },
  {
   "cell_type": "code",
   "execution_count": 9,
   "id": "e83a1985-12d5-4a8b-ae6e-7cb354426d99",
   "metadata": {},
   "outputs": [],
   "source": [
    "cd(currentpath)\n",
    "outputs,expressions = collectoutputs(nb,\"./example/\");"
   ]
  },
  {
   "cell_type": "code",
   "execution_count": 13,
   "id": "e8fa9bcd-b46c-4dab-ae3b-8a7ee694f79d",
   "metadata": {},
   "outputs": [
    {
     "data": {
      "text/plain": [
       "runexpressions (generic function with 1 method)"
      ]
     },
     "execution_count": 13,
     "metadata": {},
     "output_type": "execute_result"
    }
   ],
   "source": [
    "function runexpressions(expressions)\n",
    "    outputs = []\n",
    "    for ex in expressions\n",
    "        io = IOBuffer();\n",
    "        show(IOContext(io, :limit => true), \"text/plain\", Runner.eval(ex));\n",
    "        @show celloutput = String(take!(io))\n",
    "        push!(outputs,celloutput)\n",
    "    end\n",
    "    return outputs\n",
    "end"
   ]
  },
  {
   "cell_type": "code",
   "execution_count": 14,
   "id": "d91a5cdd-98fa-4289-b4f4-ddd421b0c728",
   "metadata": {},
   "outputs": [
    {
     "name": "stdout",
     "output_type": "stream",
     "text": [
      "celloutput = String(take!(io)) = \"nothing\"\n",
      "celloutput = String(take!(io)) = \"nothing\"\n",
      "celloutput = String(take!(io)) = \"nothing\"\n"
     ]
    },
    {
     "ename": "LoadError",
     "evalue": "MethodError: no method matching iterate(::RecipesPipeline.DefaultsDict)\nThe applicable method may be too new: running in world age 30041, while current world is 30054.\n\u001b[0mClosest candidates are:\n\u001b[0m  iterate(::RecipesPipeline.DefaultsDict) at /home/davibarreira/.julia/packages/RecipesPipeline/Bxu2O/src/utils.jl:35 (method too new to be called from this world context.)\n\u001b[0m  iterate(::RecipesPipeline.DefaultsDict, \u001b[91m::Any\u001b[39m) at /home/davibarreira/.julia/packages/RecipesPipeline/Bxu2O/src/utils.jl:41 (method too new to be called from this world context.)\n\u001b[0m  iterate(\u001b[91m::Union{LinRange, StepRangeLen}\u001b[39m) at range.jl:664\n\u001b[0m  ...",
     "output_type": "error",
     "traceback": [
      "MethodError: no method matching iterate(::RecipesPipeline.DefaultsDict)\nThe applicable method may be too new: running in world age 30041, while current world is 30054.\n\u001b[0mClosest candidates are:\n\u001b[0m  iterate(::RecipesPipeline.DefaultsDict) at /home/davibarreira/.julia/packages/RecipesPipeline/Bxu2O/src/utils.jl:35 (method too new to be called from this world context.)\n\u001b[0m  iterate(::RecipesPipeline.DefaultsDict, \u001b[91m::Any\u001b[39m) at /home/davibarreira/.julia/packages/RecipesPipeline/Bxu2O/src/utils.jl:41 (method too new to be called from this world context.)\n\u001b[0m  iterate(\u001b[91m::Union{LinRange, StepRangeLen}\u001b[39m) at range.jl:664\n\u001b[0m  ...",
      "",
      "Stacktrace:",
      "  [1] isempty(itr::RecipesPipeline.DefaultsDict)",
      "    @ Base ./essentials.jl:767",
      "  [2] typeinfo_prefix(io::IOContext{IOBuffer}, X::RecipesPipeline.DefaultsDict)",
      "    @ Base ./arrayshow.jl:534",
      "  [3] show(io::IOContext{IOBuffer}, t::RecipesPipeline.DefaultsDict)",
      "    @ Base ./dict.jl:30",
      "  [4] _show_default(io::IOContext{IOBuffer}, x::Any)",
      "    @ Base ./show.jl:412",
      "  [5] show_default",
      "    @ ./show.jl:395 [inlined]",
      "  [6] show",
      "    @ ./show.jl:390 [inlined]",
      "  [7] show",
      "    @ ./multimedia.jl:47 [inlined]",
      "  [8] show(io::IOContext{IOBuffer}, m::String, x::Plots.Plot{Plots.GRBackend})",
      "    @ Base.Multimedia ./multimedia.jl:111",
      "  [9] runexpressions(expressions::Vector{Any})",
      "    @ Main ./In[13]:5",
      " [10] top-level scope",
      "    @ In[14]:1",
      " [11] eval",
      "    @ ./boot.jl:360 [inlined]",
      " [12] include_string(mapexpr::typeof(REPL.softscope), mod::Module, code::String, filename::String)",
      "    @ Base ./loading.jl:1116"
     ]
    }
   ],
   "source": [
    "runexpressions(expressions)"
   ]
  },
  {
   "cell_type": "code",
   "execution_count": 10,
   "id": "c0087a37-adab-4a47-91ea-d8f51896a2ce",
   "metadata": {},
   "outputs": [
    {
     "name": "stderr",
     "output_type": "stream",
     "text": [
      "┌ Warning: `LocalResource` **will not work** when you share the script/notebook with someone else, _unless they have those resources at exactly the same location on their file system_. \n",
      "│ \n",
      "│ ## Recommended alternatives (images)\n",
      "│ 1. Go to [imgur.com](https://imgur.com) and drag&drop the image to the page. Right click on the image, and select \"Copy image location\". You can now use the image like so: `PlutoUI.Resource(\"https://i.imgur.com/SAzsMMA.jpg\")`.\n",
      "│ 2. If your notebook is part of a git repository, place the image in the repository and use a relative path: `PlutoUI.LocalResource(\"../images/cat.jpg\")`.\n",
      "└ @ PlutoUI /home/davibarreira/.julia/packages/PlutoUI/iYlHi/src/Resource.jl:80\n"
     ]
    },
    {
     "ename": "LoadError",
     "evalue": "SystemError: opening file \"figure.svg\": No such file or directory",
     "output_type": "error",
     "traceback": [
      "SystemError: opening file \"figure.svg\": No such file or directory",
      "",
      "Stacktrace:",
      "  [1] systemerror(p::String, errno::Int32; extrainfo::Nothing)",
      "    @ Base ./error.jl:168",
      "  [2] #systemerror#62",
      "    @ ./error.jl:167 [inlined]",
      "  [3] systemerror",
      "    @ ./error.jl:167 [inlined]",
      "  [4] open(fname::String; lock::Bool, read::Nothing, write::Nothing, create::Nothing, truncate::Nothing, append::Nothing)",
      "    @ Base ./iostream.jl:293",
      "  [5] open",
      "    @ ./iostream.jl:282 [inlined]",
      "  [6] open(f::Base.var\"#324#325\"{Tuple{}}, args::String; kwargs::Base.Iterators.Pairs{Union{}, Union{}, Tuple{}, NamedTuple{(), Tuple{}}})",
      "    @ Base ./io.jl:328",
      "  [7] open",
      "    @ ./io.jl:328 [inlined]",
      "  [8] read",
      "    @ ./io.jl:432 [inlined]",
      "  [9] LocalResource(::String)",
      "    @ PlutoUI ~/.julia/packages/PlutoUI/iYlHi/src/Resource.jl:86",
      " [10] top-level scope",
      "    @ none:2",
      " [11] eval",
      "    @ ./boot.jl:360 [inlined]",
      " [12] eval(x::Expr)",
      "    @ Main.Runner ./In[2]:1",
      " [13] top-level scope",
      "    @ ./In[10]:3",
      " [14] eval",
      "    @ ./boot.jl:360 [inlined]",
      " [15] include_string(mapexpr::typeof(REPL.softscope), mod::Module, code::String, filename::String)",
      "    @ Base ./loading.jl:1116"
     ]
    }
   ],
   "source": [
    "for ex in expressions\n",
    "    io = IOBuffer();\n",
    "    show(IOContext(io, :limit => true), \"text/plain\", Runner.eval(ex));\n",
    "end"
   ]
  },
  {
   "cell_type": "code",
   "execution_count": null,
   "id": "aa268bc9-b4b3-4f65-876b-c76550494404",
   "metadata": {},
   "outputs": [],
   "source": []
  },
  {
   "cell_type": "code",
   "execution_count": null,
   "id": "931e4cf7-5ae1-4135-a378-f7957bcd4107",
   "metadata": {},
   "outputs": [],
   "source": []
  },
  {
   "cell_type": "code",
   "execution_count": null,
   "id": "efd36fe9-f2f8-49eb-ab3f-6bcb6c362225",
   "metadata": {},
   "outputs": [],
   "source": []
  },
  {
   "cell_type": "code",
   "execution_count": 12,
   "id": "83a2be1c-2c00-44e3-a885-072bcabd681d",
   "metadata": {},
   "outputs": [
    {
     "data": {
      "text/plain": [
       "8-element Vector{Any}:\n",
       " \"\"\n",
       " \"\"\n",
       " \"Plot{Plots.GRBackend() n=1}\"\n",
       " \"3-element Vector{Int64}:\\n 10\\n 10\\n 10\"\n",
       " \"10-element Vector{Float64}:\\n 0.6250286217553978\\n 0.31695898372936027\\n 0.44811693651384843\\n 0.7875979688780614\\n 0.8663540476989178\\n 0.009473492275544393\\n 0.8216092593497208\\n 0.6113646690137362\\n 0.1821736256461468\\n 0.7182851520566824\"\n",
       " \"10-element Vector{Float64}:\\n 1.6250286217553978\\n 1.3169589837293603\\n 1.4481169365138484\\n 1.7875979688780614\\n 1.8663540476989178\\n 1.0094734922755444\\n 1.8216092593497208\\n 1.6113646690137362\\n 1.1821736256461468\\n 1.7182851520566824\"\n",
       " (\"imagepath\", \"\\\"figure.svg\\\"\")\n",
       " (\"imagepath\", \"\\\"plotexample.png\\\"\")"
      ]
     },
     "execution_count": 12,
     "metadata": {},
     "output_type": "execute_result"
    }
   ],
   "source": [
    "outputs"
   ]
  },
  {
   "cell_type": "code",
   "execution_count": 298,
   "id": "75685b71-1f9d-4388-a2bf-8f01a981a6bd",
   "metadata": {},
   "outputs": [
    {
     "data": {
      "text/plain": [
       "RegexString(\"(?:(?:PlutoUI\\\\.LocalResource)|(?:LocalResource))\")"
      ]
     },
     "execution_count": 298,
     "metadata": {},
     "output_type": "execute_result"
    }
   ],
   "source": [
    "either(\"PlutoUI.LocalResource\",\"LocalResource\")"
   ]
  },
  {
   "cell_type": "code",
   "execution_count": 299,
   "id": "d9e44340-4e92-4b13-9c7b-ba13ea045145",
   "metadata": {},
   "outputs": [
    {
     "data": {
      "text/plain": [
       ":(using Plots)"
      ]
     },
     "execution_count": 299,
     "metadata": {},
     "output_type": "execute_result"
    }
   ],
   "source": [
    "expressions[1].args[end]"
   ]
  },
  {
   "cell_type": "code",
   "execution_count": 300,
   "id": "99892bc7-323e-4a5a-bf65-ad8a00b0506c",
   "metadata": {},
   "outputs": [
    {
     "data": {
      "text/plain": [
       "\"begin\\n\\ty(x) = sin(x)\\n\\tplot(y,\\n\\t\\tcolor=:blue)\\nend\""
      ]
     },
     "execution_count": 300,
     "metadata": {},
     "output_type": "execute_result"
    }
   ],
   "source": [
    "strip(nb[:contents][4])"
   ]
  },
  {
   "cell_type": "code",
   "execution_count": 301,
   "id": "a13c9b2d-cf16-4421-8f7d-41b07d04fb17",
   "metadata": {},
   "outputs": [
    {
     "data": {
      "text/plain": [
       "\"/home/davibarreira/MEGA/EMAp/PlutoLatexConverter.jl\""
      ]
     },
     "execution_count": 301,
     "metadata": {},
     "output_type": "execute_result"
    }
   ],
   "source": [
    "cd(currentpath)\n",
    "pwd()"
   ]
  },
  {
   "cell_type": "code",
   "execution_count": 302,
   "id": "2338d5be-9a5b-45ad-88ab-8098584086e2",
   "metadata": {},
   "outputs": [
    {
     "data": {
      "text/plain": [
       "false"
      ]
     },
     "execution_count": 302,
     "metadata": {},
     "output_type": "execute_result"
    }
   ],
   "source": [
    "startswith(nb[:contents][4], \"begin\")"
   ]
  },
  {
   "cell_type": "code",
   "execution_count": 303,
   "id": "4402a489-a66d-478a-968d-00443cf0927a",
   "metadata": {},
   "outputs": [
    {
     "data": {
      "text/plain": [
       "\"\\n\\t begin\\n\\ty(x) = sin(x)\\n\\tplot(y,\\n\\t\\tcolor=:blue)\\nend\""
      ]
     },
     "execution_count": 303,
     "metadata": {},
     "output_type": "execute_result"
    }
   ],
   "source": [
    "rstrip(nb[:contents][4])\n"
   ]
  },
  {
   "cell_type": "code",
   "execution_count": 304,
   "id": "f6b885e7-6198-4c67-ad4b-dc3be7c59dc8",
   "metadata": {},
   "outputs": [
    {
     "data": {
      "text/plain": [
       "RegexMatch(\"end\")"
      ]
     },
     "execution_count": 304,
     "metadata": {},
     "output_type": "execute_result"
    }
   ],
   "source": [
    "match(Regex(look_for(\"end\",before=one_or_more(maybe((\"\\\\n\",\"\\\\t\"))))),nb[:contents][4])"
   ]
  },
  {
   "cell_type": "code",
   "execution_count": 305,
   "id": "e7372963-b0a5-413d-b17d-c60261976c08",
   "metadata": {},
   "outputs": [
    {
     "data": {
      "text/plain": [
       "true"
      ]
     },
     "execution_count": 305,
     "metadata": {},
     "output_type": "execute_result"
    }
   ],
   "source": [
    "# outputs[1] == \"nothing\"\n",
    "startswith(outputs[3], \"Plot{Plots\")"
   ]
  },
  {
   "cell_type": "code",
   "execution_count": 306,
   "id": "9af8d97d-b9b2-49d2-a4b1-4efddef5cf15",
   "metadata": {},
   "outputs": [
    {
     "ename": "LoadError",
     "evalue": "BoundsError: attempt to access 35-codeunit String at index [23:39]",
     "output_type": "error",
     "traceback": [
      "BoundsError: attempt to access 35-codeunit String at index [23:39]",
      "",
      "Stacktrace:",
      " [1] checkbounds",
      "   @ ./strings/basic.jl:216 [inlined]",
      " [2] getindex(s::String, r::UnitRange{Int64})",
      "   @ Base ./strings/string.jl:261",
      " [3] collectoutputs(notebookdata::Dict{Symbol, Vector{T} where T}, notebookfolder::String)",
      "   @ Main ./In[297]:17",
      " [4] top-level scope",
      "   @ In[306]:1",
      " [5] eval",
      "   @ ./boot.jl:360 [inlined]",
      " [6] include_string(mapexpr::typeof(REPL.softscope), mod::Module, code::String, filename::String)",
      "   @ Base ./loading.jl:1116"
     ]
    }
   ],
   "source": []
  },
  {
   "cell_type": "code",
   "execution_count": 288,
   "id": "8096f3e5-2d7f-4773-8fcf-fddb5cb95762",
   "metadata": {},
   "outputs": [
    {
     "data": {
      "text/plain": [
       "\"\\\"plotexample.png\\\"\""
      ]
     },
     "execution_count": 288,
     "metadata": {},
     "output_type": "execute_result"
    }
   ],
   "source": [
    "# savefig(eval(expressions[3].args[end]),\"example.png\")\n",
    "findfirst(\"(\",string(expressions[end].args[end]))\n",
    "findlast(\"(\",string(expressions[end].args[end]))\n",
    "e = string(expressions[end].args[end])\n",
    "e[findfirst(Regex(look_for(one_or_more(ANY),after=\"(\",before=\")\")),e)]\n"
   ]
  },
  {
   "cell_type": "code",
   "execution_count": 236,
   "id": "f12ed01e-6625-4157-8d8f-595aea00f979",
   "metadata": {},
   "outputs": [
    {
     "data": {
      "text/plain": [
       "\"\\n\\t begin\\n\\ty(x) = sin(x)\\n\\tplot(y,\\n\\t\\tcolor=:blue)\\nend\\n\\n\\n\""
      ]
     },
     "execution_count": 236,
     "metadata": {},
     "output_type": "execute_result"
    }
   ],
   "source": [
    "# (Meta.parse(nb[:contents][4][1:end-3]))\n",
    "nb[:contents][4]"
   ]
  },
  {
   "cell_type": "code",
   "execution_count": 125,
   "id": "8d2b47ee-87fd-46bf-a2d1-382f5d42e13c",
   "metadata": {},
   "outputs": [
    {
     "data": {
      "text/plain": [
       "\"PlutoUI.LocalResource(\\\"plotexample.png\\\")\""
      ]
     },
     "execution_count": 125,
     "metadata": {},
     "output_type": "execute_result"
    }
   ],
   "source": [
    "string(expressions[end].args[end])"
   ]
  },
  {
   "cell_type": "code",
   "execution_count": 239,
   "id": "d96443a3-c79e-4067-b44b-bdf6a3d3f755",
   "metadata": {},
   "outputs": [
    {
     "data": {
      "text/plain": [
       "RegexMatch(\"end\")"
      ]
     },
     "execution_count": 239,
     "metadata": {},
     "output_type": "execute_result"
    }
   ],
   "source": [
    "match(Regex(look_for(\"end\",before=one_or_more(maybe((\"\\\\n\",\"\\\\t\"))))),nb[:contents][4])\n",
    "# match(Regex(look_for(\"begin\",after=one_or_more(maybe((\"\\\\n\",\"\\\\t\"))))),nb[:contents][4])"
   ]
  },
  {
   "cell_type": "code",
   "execution_count": null,
   "id": "5991e6ce-fc4a-4504-92f4-80e16131eb8b",
   "metadata": {},
   "outputs": [],
   "source": []
  },
  {
   "cell_type": "code",
   "execution_count": 66,
   "id": "93231795-d176-4d01-9438-6ec5239eb6a8",
   "metadata": {},
   "outputs": [
    {
     "data": {
      "text/plain": [
       "\"\\\"nothing\\\"\""
      ]
     },
     "execution_count": 66,
     "metadata": {},
     "output_type": "execute_result"
    }
   ],
   "source": [
    "io = IOBuffer();\n",
    "x = rand(10)\n",
    "show(IOContext(io, :limit => true, :displaysize => (20, 40)), \"text/plain\", eval(es[2]));\n",
    "s = String(take!(io))\n",
    "# eval(exs[4])\n",
    "# typeof(ans) <: Plots.Plot"
   ]
  },
  {
   "cell_type": "code",
   "execution_count": 156,
   "id": "c23ad089-9130-4a14-9cc9-d3ddd59a73e6",
   "metadata": {},
   "outputs": [
    {
     "data": {
      "text/plain": [
       "8-element Vector{String}:\n",
       " \"showoutput\"\n",
       " \"showoutput\"\n",
       " \"showoutput\"\n",
       " \"hideoutput\"\n",
       " \"showoutput\"\n",
       " \"hideoutput\"\n",
       " \"showoutput\"\n",
       " \"showoutput\""
      ]
     },
     "execution_count": 156,
     "metadata": {},
     "output_type": "execute_result"
    }
   ],
   "source": [
    "nb[:outputtag]"
   ]
  },
  {
   "cell_type": "code",
   "execution_count": 127,
   "id": "e98ff0df-e933-45a1-83df-4d0898f98704",
   "metadata": {},
   "outputs": [
    {
     "data": {
      "text/plain": [
       "7-element Vector{SubString{String}}:\n",
       " \"using Plots\\n\\n\"\n",
       " \"using PlutoUI\\n\\n\"\n",
       " \"md\\\"\\\"\\\"\\n# Chapter\\n## Section\\n### Subsection\\n#### Subsubsection\\nMy text here with *italics*, with **bold**, and a [link](https://davibarreira.github.io/).\\n\\nAdding some math expression here with \\$x=10\\$ and\\n```math\\nd(\\\\omega(t_0),\\\\omega(t_1)) \\\\leq \\\\int^{t_1}_{t_0}g(s) ds.\\n```\\n\\nAdding some code like `plots`. Note that the `using plots`\\n\\\"\\\"\\\"\\n\\n\"\n",
       " \"begin\\n\\ty(x) = sin(x)\\n\\tplot(y)\\nend;\\t \\n\\n\\n\"\n",
       " \"A = [10,10,10]\\n\\n\"\n",
       " \"PlutoUI.LocalResource(\\\"figure.svg\\\")\\n\\n\"\n",
       " \"PlutoUI.LocalResource(\\\"plotexample.png\\\")\\n\\n\""
      ]
     },
     "execution_count": 127,
     "metadata": {},
     "output_type": "execute_result"
    }
   ],
   "source": [
    "nb[:contents]"
   ]
  },
  {
   "cell_type": "code",
   "execution_count": 94,
   "id": "07c67f07-2cd7-4177-91c8-b2192c0f316e",
   "metadata": {},
   "outputs": [],
   "source": [
    "s = read(example, String);\n",
    "cells = split(s, \"# ╔═╡ \");"
   ]
  },
  {
   "cell_type": "code",
   "execution_count": 100,
   "id": "0e350be5-b18e-4e73-9ed6-d965ac81353f",
   "metadata": {},
   "outputs": [
    {
     "data": {
      "text/plain": [
       "\"Cell order:\\n# ╠═9ebf3044-26d2-11ec-34c4-db68b273419f\\n# ╟─598d863b-3f42-4855-90f4-d98604776a4d\\n# ╟─7b4b693d-c955-4c9b-97e8-56d28cf74e18\\n# ╠═bdad72d3-5744-459f-8627-299908573f40\\n# ╠═e1009c9c-1567-49ed-9c29-1fa081089b07\\n# ╠═39d902cc-221c-4c50-9857-a12a072c0053\\n# ╠═9fb84733-13bb-45fd-a4b2-5a39488c23d6\\n# ╟─00000000-0000-0000-0000-000000000001\\n# ╟─00000000-0000-0000-0000-000000000002\\n\""
      ]
     },
     "execution_count": 100,
     "metadata": {},
     "output_type": "execute_result"
    }
   ],
   "source": [
    "cells[end]"
   ]
  },
  {
   "cell_type": "code",
   "execution_count": null,
   "id": "6b27dfaf-4215-4649-9f5b-638b5a1c73dd",
   "metadata": {},
   "outputs": [],
   "source": [
    "io = IOBuffer();\n",
    "x = rand(10)\n",
    "show(IOContext(io, :limit => true, :displaysize => (20, 40)), \"text/plain\", eval(exs[4]));\n",
    "s = String(take!(io))\n",
    "eval(exs[4])\n",
    "typeof(ans) <: Plots.Plot"
   ]
  },
  {
   "cell_type": "code",
   "execution_count": null,
   "id": "8dac2ae0-ba07-4417-865d-979f1a558454",
   "metadata": {},
   "outputs": [],
   "source": []
  },
  {
   "cell_type": "code",
   "execution_count": 91,
   "id": "ff9b4fc2-47e0-4f93-b3f2-e3e3bdbefc29",
   "metadata": {},
   "outputs": [
    {
     "data": {
      "text/plain": [
       "6-element Vector{SubString{String}}:\n",
       " \"9ebf3044-26d2-11ec-34c4-db68b273419f\"\n",
       " \"598d863b-3f42-4855-90f4-d98604776a4d\"\n",
       " \"7b4b693d-c955-4c9b-97e8-56d28cf74e18\"\n",
       " \"bdad72d3-5744-459f-8627-299908573f40\"\n",
       " \"e1009c9c-1567-49ed-9c29-1fa081089b07\"\n",
       " \"39d902cc-221c-4c50-9857-a12a072c0053\""
      ]
     },
     "execution_count": 91,
     "metadata": {},
     "output_type": "execute_result"
    }
   ],
   "source": [
    "nb[:codes][nb[:order]]"
   ]
  },
  {
   "cell_type": "code",
   "execution_count": null,
   "id": "06a75f0f-885f-48e5-b7bf-8f342e1b78cc",
   "metadata": {},
   "outputs": [],
   "source": []
  },
  {
   "cell_type": "code",
   "execution_count": null,
   "id": "9ca4606e-a643-4437-8ff9-26683d8cfc7a",
   "metadata": {},
   "outputs": [],
   "source": []
  },
  {
   "cell_type": "code",
   "execution_count": null,
   "id": "2e09de1b-061e-4ae5-a00e-59b7ecb4f46e",
   "metadata": {},
   "outputs": [],
   "source": []
  }
 ],
 "metadata": {
  "kernelspec": {
   "display_name": "JuliaFlux 1.6.3",
   "language": "julia",
   "name": "juliaflux-1.6"
  },
  "language_info": {
   "file_extension": ".jl",
   "mimetype": "application/julia",
   "name": "julia",
   "version": "1.6.3"
  }
 },
 "nbformat": 4,
 "nbformat_minor": 5
}
