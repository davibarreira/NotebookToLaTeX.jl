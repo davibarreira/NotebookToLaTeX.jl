{
 "cells": [
  {
   "cell_type": "code",
   "execution_count": 1,
   "id": "423d9b70-841d-41f5-bfea-2d0ea6d8c8f7",
   "metadata": {},
   "outputs": [],
   "source": [
    "using Pkg\n",
    "# Pkg.activate(\".\")\n",
    "using Revise"
   ]
  },
  {
   "cell_type": "code",
   "execution_count": 2,
   "id": "4f9321aa-af66-4808-95e9-593de487172f",
   "metadata": {},
   "outputs": [
    {
     "ename": "LoadError",
     "evalue": "ArgumentError: Package PlutoLatexConverter not found in current path:\n- Run `import Pkg; Pkg.add(\"PlutoLatexConverter\")` to install the PlutoLatexConverter package.\n",
     "output_type": "error",
     "traceback": [
      "ArgumentError: Package PlutoLatexConverter not found in current path:\n- Run `import Pkg; Pkg.add(\"PlutoLatexConverter\")` to install the PlutoLatexConverter package.\n",
      "",
      "Stacktrace:",
      " [1] require(into::Module, mod::Symbol)",
      "   @ Base ./loading.jl:893",
      " [2] eval",
      "   @ ./boot.jl:360 [inlined]",
      " [3] include_string(mapexpr::typeof(REPL.softscope), mod::Module, code::String, filename::String)",
      "   @ Base ./loading.jl:1116"
     ]
    }
   ],
   "source": [
    "using PlutoLatexConverter"
   ]
  },
  {
   "cell_type": "code",
   "execution_count": 3,
   "id": "01c0a090-f2cd-41bc-b1be-b9384200a93d",
   "metadata": {},
   "outputs": [
    {
     "data": {
      "text/plain": [
       "Dict{Symbol, Vector{T} where T} with 6 entries:\n",
       "  :codes     => Any[\"7b4b693d-c955-4c9b-97e8-56d28cf74e18\", \"bdad72d3-5744-459f…\n",
       "  :outputtag => Any[\"showoutput\", \"showoutput\", \"showoutput\", \"showoutput\", \"sh…\n",
       "  :celltype  => Any[\"code\", \"code\", \"code\", \"markdown\", \"code\", \"code\", \"code\",…\n",
       "  :view      => [\"showcode\", \"showcode\", \"showcode\", \"showcode\", \"showcode\", \"s…\n",
       "  :order     => [4, 1, 2, 5, 6, 7, 3, 8, 9]\n",
       "  :contents  => Any[\"using PlutoUI\\n\\n\", \"\\n\\t begin\\n\\tusing Plots\\n\\ty(x) = s…"
      ]
     },
     "execution_count": 3,
     "metadata": {},
     "output_type": "execute_result"
    }
   ],
   "source": [
    "nb = extractnotebook(\"./example/examplepluto.jl\")"
   ]
  },
  {
   "cell_type": "code",
   "execution_count": 4,
   "id": "c057b842-5e6b-4de2-8fbc-f600f214d1b6",
   "metadata": {},
   "outputs": [
    {
     "name": "stderr",
     "output_type": "stream",
     "text": [
      "┌ Warning: Package PlutoLatexConverter does not have PlutoUI in its dependencies:\n",
      "│ - If you have PlutoLatexConverter checked out for development and have\n",
      "│   added PlutoUI as a dependency but haven't updated your primary\n",
      "│   environment's manifest file, try `Pkg.resolve()`.\n",
      "│ - Otherwise you may need to report an issue with PlutoLatexConverter\n",
      "│ Loading PlutoUI into PlutoLatexConverter from project dependency, future warnings for PlutoLatexConverter are suppressed.\n",
      "└ @ nothing nothing:910\n"
     ]
    },
    {
     "ename": "LoadError",
     "evalue": "ArgumentError: Package PlutoLatexConverter does not have StatsPlots in its dependencies:\n- If you have PlutoLatexConverter checked out for development and have\n  added StatsPlots as a dependency but haven't updated your primary\n  environment's manifest file, try `Pkg.resolve()`.\n- Otherwise you may need to report an issue with PlutoLatexConverter",
     "output_type": "error",
     "traceback": [
      "ArgumentError: Package PlutoLatexConverter does not have StatsPlots in its dependencies:\n- If you have PlutoLatexConverter checked out for development and have\n  added StatsPlots as a dependency but haven't updated your primary\n  environment's manifest file, try `Pkg.resolve()`.\n- Otherwise you may need to report an issue with PlutoLatexConverter",
      "",
      "Stacktrace:",
      " [1] require(into::Module, mod::Symbol)",
      "   @ Base ./loading.jl:906",
      " [2] top-level scope",
      "   @ none:2",
      " [3] eval",
      "   @ ./boot.jl:360 [inlined]",
      " [4] eval",
      "   @ ~/MEGA/EMAp/PlutoLatexConverter.jl/src/PlutoLatexConverter.jl:6 [inlined]",
      " [5] collectoutputs(notebookdata::Dict{Symbol, Vector{T} where T}, notebookfolder::String)",
      "   @ PlutoLatexConverter ~/MEGA/EMAp/PlutoLatexConverter.jl/src/PlutoLatexConverter.jl:68",
      " [6] top-level scope",
      "   @ In[4]:2",
      " [7] eval",
      "   @ ./boot.jl:360 [inlined]",
      " [8] include_string(mapexpr::typeof(REPL.softscope), mod::Module, code::String, filename::String)",
      "   @ Base ./loading.jl:1116"
     ]
    }
   ],
   "source": [
    "# collectoutputs(nb,\"./example/\")\n",
    "collectoutputs(nb,\"./\")"
   ]
  },
  {
   "cell_type": "code",
   "execution_count": null,
   "id": "852094aa-a2dd-4b11-9a71-48ac53d7b523",
   "metadata": {},
   "outputs": [],
   "source": []
  }
 ],
 "metadata": {
  "kernelspec": {
   "display_name": "JuliaFlux 1.6.3",
   "language": "julia",
   "name": "juliaflux-1.6"
  },
  "language_info": {
   "file_extension": ".jl",
   "mimetype": "application/julia",
   "name": "julia",
   "version": "1.6.3"
  }
 },
 "nbformat": 4,
 "nbformat_minor": 5
}
