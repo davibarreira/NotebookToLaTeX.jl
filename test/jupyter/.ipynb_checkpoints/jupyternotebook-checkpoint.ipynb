{
 "cells": [
  {
   "cell_type": "markdown",
   "id": "e106cfef-25f8-491f-98e7-08bb81b4f04e",
   "metadata": {},
   "source": [
    "# My Notebook"
   ]
  },
  {
   "cell_type": "markdown",
   "id": "14ecf86f-aa83-491b-ae30-dc4d9c2eebf3",
   "metadata": {},
   "source": [
    "## Start importing"
   ]
  },
  {
   "cell_type": "code",
   "execution_count": 1,
   "id": "286c79ab-c88e-4e72-93b8-fca747385d98",
   "metadata": {},
   "outputs": [],
   "source": [
    "using Plots\n",
    "using Makie\n",
    "using CairoMakie\n",
    "using Distributions\n",
    "using DataFrames"
   ]
  },
  {
   "cell_type": "markdown",
   "id": "c2ee6377-4116-4b00-b9bc-b453c43ec1b0",
   "metadata": {},
   "source": [
    "### Some theory"
   ]
  },
  {
   "cell_type": "markdown",
   "id": "e9fe132f-ff68-4cfe-9957-0b7f607bb226",
   "metadata": {},
   "source": [
    "The Wasserstein Distance for 1D distributions can be obtained by:\n",
    "$$\n",
    "\\int_0^1 |C_\\alpha^{-1}(r) - C_\\beta^{-1}(r)|^p dr \\\\\n",
    "\\int_0^1 |C_\\alpha^{-1}(r) - C_\\beta^{-1}(r)|^p dr\n",
    "$$\n",
    "\n",
    "Where $C_\\alpha^{-1}$ is the quantile function for the distribution $\\alpha$ (the inverse of the Cumulative Distribution Function).\n",
    "\n",
    "Write some more markdown, with **bold text here** and *italics* and\n",
    "[a link here](https://juliaoptimaltransport.github.io/OptimalTransport.jl/stable/examples/basic/),\n",
    "another **bold** and *more italics* and\n",
    "[another](https://github.com/). Ends with two figures\n",
    "![Figure](figure.svg) and\n",
    "![Figure 2](figure.svg) again."
   ]
  },
  {
   "cell_type": "code",
   "execution_count": null,
   "id": "27f81b5d-8f49-45b5-b60d-36058e21eca3",
   "metadata": {
    "tags": []
   },
   "outputs": [
    {
     "name": "stdout",
     "output_type": "stream",
     "text": [
      "Myplot\n"
     ]
    }
   ],
   "source": [
    "μ(x) = pdf(Normal(0,2),x)\n",
    "println(\"Myplot\")\n",
    "Plots.plot(μ)"
   ]
  },
  {
   "cell_type": "code",
   "execution_count": null,
   "id": "a37ecc02-f5c1-4102-bf45-ac89d6ce803e",
   "metadata": {},
   "outputs": [],
   "source": [
    "Makie.lines(-10:0.1:10, μ.(-10:0.1:10))"
   ]
  },
  {
   "cell_type": "code",
   "execution_count": null,
   "id": "a61f0c4d-b3fa-4a22-81a9-ed5c54be9ce9",
   "metadata": {
    "tags": []
   },
   "outputs": [],
   "source": [
    "function example(μ)\n",
    "    for i in 1:10\n",
    "        println(μ(i))\n",
    "    end\n",
    "end\n",
    "example(μ)"
   ]
  },
  {
   "cell_type": "code",
   "execution_count": null,
   "id": "e06618c5-71c7-4376-80d4-dfbb18366a85",
   "metadata": {
    "jupyter": {
     "source_hidden": true
    },
    "tags": []
   },
   "outputs": [],
   "source": [
    "function example2(μ)\n",
    "    for i in 1:2\n",
    "        println(μ(i))\n",
    "    end\n",
    "end\n",
    "example(μ)"
   ]
  },
  {
   "cell_type": "code",
   "execution_count": null,
   "id": "628a37b3-d0af-43de-8314-ac4d0e6bf024",
   "metadata": {
    "tags": []
   },
   "outputs": [],
   "source": [
    "rand(10)"
   ]
  },
  {
   "cell_type": "code",
   "execution_count": null,
   "id": "378cbadc-1109-44a3-a642-7891ef01a544",
   "metadata": {},
   "outputs": [],
   "source": [
    "μ;"
   ]
  },
  {
   "cell_type": "markdown",
   "id": "049a0027-57fe-429c-bc73-853d241507ec",
   "metadata": {},
   "source": [
    "\n",
    "![Figure2](plotexample.png)"
   ]
  },
  {
   "cell_type": "raw",
   "id": "2fd68ff6-a605-40ae-b526-d0358643032a",
   "metadata": {},
   "source": [
    "A raw cell"
   ]
  },
  {
   "cell_type": "code",
   "execution_count": null,
   "id": "a44385fe-5a6d-44a8-929b-7a7b487f6fed",
   "metadata": {},
   "outputs": [],
   "source": [
    "DataFrame(x=rand(10),y=rand(10))"
   ]
  },
  {
   "cell_type": "code",
   "execution_count": null,
   "id": "658c9004-aa22-4b89-bf68-840e83444636",
   "metadata": {},
   "outputs": [],
   "source": []
  }
 ],
 "metadata": {
  "kernelspec": {
   "display_name": "JuliaFlux 1.6.3",
   "language": "julia",
   "name": "juliaflux-1.6"
  },
  "language_info": {
   "file_extension": ".jl",
   "mimetype": "application/julia",
   "name": "julia",
   "version": "1.6.3"
  }
 },
 "nbformat": 4,
 "nbformat_minor": 5
}
