{
 "cells": [
  {
   "cell_type": "code",
   "execution_count": 22,
   "id": "c308049d-bf2b-4590-9106-fa468ac4fb33",
   "metadata": {},
   "outputs": [
    {
     "name": "stderr",
     "output_type": "stream",
     "text": [
      "\u001b[32m\u001b[1m  Activating\u001b[22m\u001b[39m environment at `~/MEGA/EMAp/PlutoLatexConverter.jl/Project.toml`\n"
     ]
    }
   ],
   "source": [
    "using Pkg\n",
    "Pkg.activate(\".\")"
   ]
  },
  {
   "cell_type": "code",
   "execution_count": 23,
   "id": "209b0ced-b1b5-4fa3-af4e-a628a46c9400",
   "metadata": {},
   "outputs": [],
   "source": [
    "cd(\"./example/\")"
   ]
  },
  {
   "cell_type": "code",
   "execution_count": 32,
   "id": "64b12ad5-4c71-46f5-a436-a94e2cb457d4",
   "metadata": {},
   "outputs": [],
   "source": [
    "using Revise"
   ]
  },
  {
   "cell_type": "code",
   "execution_count": 209,
   "id": "c70566e3-33e9-4a7f-ac51-d5e1a75b0aa9",
   "metadata": {},
   "outputs": [],
   "source": [
    "using PlutoLatexConverter"
   ]
  },
  {
   "cell_type": "code",
   "execution_count": 210,
   "id": "d85ad137-5e94-423d-96eb-9ca6008591c7",
   "metadata": {},
   "outputs": [
    {
     "data": {
      "text/plain": [
       "Dict{Symbol, Any} with 7 entries:\n",
       "  :codes        => Any[\"7b4b693d-c955-4c9b-97e8-56d28cf74e18\", \"bdad72d3-5744-4…\n",
       "  :outputtag    => Any[\"showoutput\", \"showoutput\", \"showoutput\", \"showoutput\", …\n",
       "  :celltype     => Any[\"code\", \"code\", \"code\", \"markdown\", \"code\", \"code\", \"cod…\n",
       "  :view         => [\"showcode\", \"showcode\", \"hidecode\", \"showcode\", \"showcode\",…\n",
       "  :order        => [4, 1, 2, 5, 6, 7, 3, 8, 9, 10, 11]\n",
       "  :notebookname => \"examplepluto\"\n",
       "  :contents     => Any[\"using PlutoUI\\n\\n\", \"\\n\\t begin\\n\\tusing Plots\\n\\ty(x) …"
      ]
     },
     "execution_count": 210,
     "metadata": {},
     "output_type": "execute_result"
    }
   ],
   "source": [
    "nb = extractnotebook(\"./examplepluto.jl\")"
   ]
  },
  {
   "cell_type": "code",
   "execution_count": 214,
   "id": "92187f0c-d7b9-4f8f-b3d5-e075dae524b6",
   "metadata": {},
   "outputs": [
    {
     "data": {
      "text/plain": [
       "\"# Chapter\\n## Section\\n### Subsection\\n#### Subsubsection\\nMy text here with *italics*, with **bold**, and a [link](https://davibarreira.github.io/).\\n\\nAdding some math expression here with \\$x=10\\$ and\\n```math\\nd(\\\\omega(t_0),\\\\omega(t_1)) \\\\leq \\\\int^{t_1}_{t_0}g(s) ds.\\n```\\n\\nAdding some code like `plots`. Note that the `using plots`\\n\\\"\\\"\\\"\\n\\n\""
      ]
     },
     "execution_count": 214,
     "metadata": {},
     "output_type": "execute_result"
    }
   ],
   "source": [
    "nb[:contents][4][7:end]"
   ]
  },
  {
   "cell_type": "code",
   "execution_count": 223,
   "id": "500259f4-bf72-4481-b395-370a2da76ae5",
   "metadata": {},
   "outputs": [
    {
     "name": "stderr",
     "output_type": "stream",
     "text": [
      "┌ Warning: `LocalResource` **will not work** when you share the script/notebook with someone else, _unless they have those resources at exactly the same location on their file system_. \n",
      "│ \n",
      "│ ## Recommended alternatives (images)\n",
      "│ 1. Go to [imgur.com](https://imgur.com) and drag&drop the image to the page. Right click on the image, and select \"Copy image location\". You can now use the image like so: `PlutoUI.Resource(\"https://i.imgur.com/SAzsMMA.jpg\")`.\n",
      "│ 2. If your notebook is part of a git repository, place the image in the repository and use a relative path: `PlutoUI.LocalResource(\"../images/cat.jpg\")`.\n",
      "└ @ PlutoUI /home/davibarreira/.julia/packages/PlutoUI/iYlHi/src/Resource.jl:80\n"
     ]
    }
   ],
   "source": [
    "plutotolatex(\"./examplepluto2.jl\", template=:book)"
   ]
  },
  {
   "cell_type": "code",
   "execution_count": 221,
   "id": "d6053796-5aa1-406b-8366-91aa4fd09611",
   "metadata": {},
   "outputs": [
    {
     "data": {
      "text/plain": [
       "\"# Chapter\\n## Section\\n### Subsection\\n#### Subsubsection\\nMy text here with *italics*, with **bold**, and a [link](https://davibarreira.github.io/).\\n\\nAdding some math expression here with \\$x=10\\$ and \\$y = 10^2 + 2*2\\$.\\n```math\\nd(\\\\omega(t_0),\\\\omega(t_1)) \\\\leq \\\\int^{t_1}_{t_0}g(s) ds.\\n```\\n\\nAdding some code like `plots`. Note that the `using plots`\\n\""
      ]
     },
     "execution_count": 221,
     "metadata": {},
     "output_type": "execute_result"
    }
   ],
   "source": [
    "md = read(\"../example/mdexample.md\", String)\n"
   ]
  },
  {
   "cell_type": "code",
   "execution_count": 88,
   "id": "2f1266ab-8128-40e9-9207-becc77f57ad2",
   "metadata": {},
   "outputs": [
    {
     "name": "stdout",
     "output_type": "stream",
     "text": [
      "1\n",
      "2\n",
      "3\n",
      "4\n",
      "5\n",
      "6\n",
      "7\n",
      "8\n",
      "9\n",
      "10\n",
      "11\n",
      "12\n",
      "13\n"
     ]
    }
   ],
   "source": [
    "for (i,line) in enumerate(split(md, \"\\n\"))\n",
    "    println(i)\n",
    "end"
   ]
  },
  {
   "cell_type": "code",
   "execution_count": 208,
   "id": "983da847-bac3-415b-adf9-ff09276224c2",
   "metadata": {},
   "outputs": [
    {
     "name": "stdout",
     "output_type": "stream",
     "text": [
      "My text here with *italics*, with **bold**, and a [link](https://davibarreira.github.io/).\n",
      "My text here with \\textbf{italics}, with \\textbf{bold}, and a \\href{https://davibarreira.github.io/}{link}. \n",
      "\n",
      " \n",
      "Adding some math expression here with $x=10$ and $y = 10^2 + 2*2$.\n",
      "Adding some math expression here with $x=10$ and $y = 10^2 + 2*2$. $x=10$Adding some math expression here with $x=10$ and $y = 10^2 + 2*2$. $y = 10^2 + 2*2$Adding some math expression here with $x=10$ and $y = 10^2 + 2*2$. \n",
      "\n",
      " \n",
      "Adding some code like `plots`. Note that the `using plots`\n",
      "Adding some code like  \\lstinline{plots}. Note that the  \\lstinline{using plots} \n",
      "\n",
      " \n"
     ]
    }
   ],
   "source": [
    "tag=false\n",
    "component = \"\"\n",
    "parsedtext = \"\"\n",
    "a=\"\"\n",
    "for line in split(md, \"\\n\")\n",
    "    l = strip(line)\n",
    "    if startswith(l,\"####\")\n",
    "#         println(\"\\\\subsubsection{\"*l[6:end]*\"}\\n\")\n",
    "        parsedtext *= \"\\\\subsubsection{\"*l[6:end]*\"}\\n\"\n",
    "    elseif startswith(l,\"###\")\n",
    "#         println(\"\\\\subsection{\"*l[5:end]*\"}\\n\")\n",
    "        parsedtext *= \"\\\\subsection{\"*l[5:end]*\"}\\n\"\n",
    "    elseif startswith(l,\"##\")\n",
    "#         println(\"\\\\section{\"*l[4:end]*\"}\\n\")\n",
    "        parsedtext *= \"\\\\section{\"*l[4:end]*\"}\\n\"\n",
    "    elseif startswith(l,\"#\")\n",
    "#         println(\"\\\\chapter{\"*l[3:end]*\"}\\n\")\n",
    "        parsedtext *= \"\\\\chapter{\"*l[3:end]*\"}\\n\"\n",
    "    end\n",
    "    \n",
    "    if startswith(l, \"```math\")\n",
    "#         println(\"\\\\begin{displaymath}\")\n",
    "        tag = !tag\n",
    "        parsedtext *= \"\\\\begin{displaymath}\\n\"\n",
    "        component = \"displaymath\"\n",
    "        continue\n",
    "    elseif startswith(l, \"```\") && tag\n",
    "#         println(\"\\\\end{\"*component*\"}\\n\")\n",
    "        tag = !tag\n",
    "        parsedtext *= \"\\\\end{\"*component*\"}\"\n",
    "        continue\n",
    "    end\n",
    "    if tag\n",
    "#         println(\"\\t\"*l)\n",
    "        parsedtext *= \"\\t\"*l*\"\\n\"\n",
    "    end\n",
    "    if !tag\n",
    "        if !startswith(l,\"#\")\n",
    "            println(l)\n",
    "            println(parseparagraph(l))\n",
    "            parsedtext *= parseparagraph(l)\n",
    "            \n",
    "        end\n",
    "    end\n",
    "end"
   ]
  },
  {
   "cell_type": "code",
   "execution_count": 194,
   "id": "17de003a-8928-48ed-be64-089903024d3a",
   "metadata": {},
   "outputs": [
    {
     "name": "stdout",
     "output_type": "stream",
     "text": [
      "\\chapter{Chapter}\n",
      "\\section{Section}\n",
      "\\subsection{Subsection}\n",
      "\\subsubsection{Subsubsection}\n",
      "   \\begin{displaymath}\n",
      "\td(\\omega(t_0),\\omega(t_1)) \\leq \\int^{t_1}_{t_0}g(s) ds.\n",
      "\\end{displaymath}   \n"
     ]
    }
   ],
   "source": [
    "println(parsedtext)"
   ]
  },
  {
   "cell_type": "code",
   "execution_count": 168,
   "id": "2b86094a-8aea-43a6-9b0c-114dcb60beee",
   "metadata": {},
   "outputs": [],
   "source": [
    "using ReadableRegex\n",
    "\n",
    "parsedline = \"\"\n",
    "for word in split(a, \" \")\n",
    "    if findfirst(Regex(look_for(one_or_more(ANY),after=\"[\",before=\"](\")),word) != nothing && findfirst(Regex(look_for(one_or_more(ANY),after=\"](\",before=\")\")),word) != nothing\n",
    "        linktext = word[findfirst(Regex(look_for(one_or_more(ANY),after=\"[\",before=\"]\")),word)]\n",
    "        linkref  = word[findfirst(Regex(look_for(one_or_more(ANY),after=\"(\",before=\")\")),word)]\n",
    "        parsedline *= \"\\\\href{\" * linkref * \"}{\" * linktext * \"}\"*word[findfirst(Regex(look_for(one_or_more(ANY),after=\"(\",before=\")\")),word)[end]+2:end]*\" \"\n",
    "    elseif findfirst(Regex(look_for(one_or_more(ANY),after=\"**\",before=\"**\")),word) != nothing\n",
    "        bword = word[findfirst(Regex(look_for(one_or_more(ANY),after=\"**\",before=\"**\")),word)]\n",
    "        parsedline *= \"\\\\textbf{\" * bword * \"}\"*word[findfirst(Regex(look_for(one_or_more(ANY),after=\"**\",before=\"**\")),word)[end]+3:end]*\" \"\n",
    "    elseif findfirst(Regex(look_for(one_or_more(ANY),after=\"*\",before=\"*\")),word) != nothing\n",
    "        iword = word[findfirst(Regex(look_for(one_or_more(ANY),after=\"*\",before=\"*\")),word)]\n",
    "        parsedline *= \"\\\\textbf{\" * iword * \"}\"*word[findfirst(Regex(look_for(one_or_more(ANY),after=\"*\",before=\"*\")),word)[end]+2:end]*\" \"\n",
    "    else\n",
    "        parsedline *= word * \" \"\n",
    "    end\n",
    "end"
   ]
  },
  {
   "cell_type": "code",
   "execution_count": 198,
   "id": "25516c8f-caa8-4932-9377-794f791d1d9e",
   "metadata": {},
   "outputs": [
    {
     "data": {
      "text/plain": [
       "parsesentence (generic function with 1 method)"
      ]
     },
     "execution_count": 198,
     "metadata": {},
     "output_type": "execute_result"
    }
   ],
   "source": [
    "function parsesentence(sentence)\n",
    "    parsedsentence = \"\"\n",
    "    for word in split(sentence, \" \")\n",
    "        if findfirst(Regex(look_for(one_or_more(ANY),after=\"[\",before=\"](\")),word) != nothing && findfirst(Regex(look_for(one_or_more(ANY),after=\"](\",before=\")\")),word) != nothing\n",
    "            linktext = word[findfirst(Regex(look_for(one_or_more(ANY),after=\"[\",before=\"]\")),word)]\n",
    "            linkref  = word[findfirst(Regex(look_for(one_or_more(ANY),after=\"(\",before=\")\")),word)]\n",
    "            parsedsentence *= \"\\\\href{\" * linkref * \"}{\" * linktext * \"}\"*word[findfirst(Regex(look_for(one_or_more(ANY),after=\"(\",before=\")\")),word)[end]+2:end]*\" \"\n",
    "        elseif findfirst(Regex(look_for(one_or_more(ANY),after=\"**\",before=\"**\")),word) != nothing\n",
    "            bword = word[findfirst(Regex(look_for(one_or_more(ANY),after=\"**\",before=\"**\")),word)]\n",
    "            parsedsentence *= \"\\\\textbf{\" * bword * \"}\"*word[findfirst(Regex(look_for(one_or_more(ANY),after=\"**\",before=\"**\")),word)[end]+3:end]*\" \"\n",
    "        elseif findfirst(Regex(look_for(one_or_more(ANY),after=\"*\",before=\"*\")),word) != nothing\n",
    "            iword = word[findfirst(Regex(look_for(one_or_more(ANY),after=\"*\",before=\"*\")),word)]\n",
    "            parsedsentence *= \"\\\\textbf{\" * iword * \"}\"*word[findfirst(Regex(look_for(one_or_more(ANY),after=\"*\",before=\"*\")),word)[end]+2:end]*\" \"\n",
    "        else\n",
    "            parsedsentence *= word * \" \"\n",
    "        end\n",
    "    end\n",
    "    return parsedsentence\n",
    "end"
   ]
  },
  {
   "cell_type": "code",
   "execution_count": 207,
   "id": "85cfcaa5-24f8-4f89-87fd-3b3f87a38b30",
   "metadata": {},
   "outputs": [
    {
     "data": {
      "text/plain": [
       "parseparagraph (generic function with 1 method)"
      ]
     },
     "execution_count": 207,
     "metadata": {},
     "output_type": "execute_result"
    }
   ],
   "source": [
    "function parseparagraph(paragraph)\n",
    "    parsedparagraph = \"\"\n",
    "    for (i,sentence) in enumerate(split(paragraph, \"\\$\"))\n",
    "        if iseven(i)\n",
    "            # It's a math sentence, i.e text is between $ $, so nothing should be parsed\n",
    "            parsedparagraph *= \"\\$\"*sentence*\"\\$\"\n",
    "        else\n",
    "            for (i,sentence) in enumerate(split(paragraph, \"`\"))\n",
    "                if iseven(i)\n",
    "                    # It's a code sentence, i.e text is between ` ` and is not a math sentence.\n",
    "                    parsedparagraph *= \"\\\\lstinline{\"*sentence*\"}\"\n",
    "                else\n",
    "                    parsedparagraph *= parsesentence(sentence)\n",
    "                end\n",
    "            end\n",
    "        end\n",
    "    end\n",
    "    return parsedparagraph\n",
    "end"
   ]
  },
  {
   "cell_type": "code",
   "execution_count": 171,
   "id": "37e81d02-0f77-439a-9ea4-dbbbfb728f07",
   "metadata": {},
   "outputs": [
    {
     "data": {
      "text/plain": [
       "\"My text here with *italics*, with **bold**, and a [link](https://davibarreira.github.io/).Adding some math expression here with \\$x=10\\$ and \\$y = 10^2 + 2*2\\$.Adding some code like `plots`. Note that the `using plots`\""
      ]
     },
     "execution_count": 171,
     "metadata": {},
     "output_type": "execute_result"
    }
   ],
   "source": [
    "a"
   ]
  }
 ],
 "metadata": {
  "kernelspec": {
   "display_name": "JuliaFlux 1.6.3",
   "language": "julia",
   "name": "juliaflux-1.6"
  },
  "language_info": {
   "file_extension": ".jl",
   "mimetype": "application/julia",
   "name": "julia",
   "version": "1.6.3"
  }
 },
 "nbformat": 4,
 "nbformat_minor": 5
}
