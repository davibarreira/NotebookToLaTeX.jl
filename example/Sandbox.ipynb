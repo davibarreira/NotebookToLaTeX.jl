{
 "cells": [
  {
   "cell_type": "code",
   "execution_count": 28,
   "id": "5ced0e20-b703-409b-abe2-bcdc99dd0070",
   "metadata": {},
   "outputs": [
    {
     "name": "stderr",
     "output_type": "stream",
     "text": [
      "\u001b[32m\u001b[1m  Activating\u001b[22m\u001b[39m environment at `~/MEGA/EMAp/NotebookToLatex.jl/Project.toml`\n"
     ]
    }
   ],
   "source": [
    "using Pkg\n",
    "Pkg.activate(\"../.\")"
   ]
  },
  {
   "cell_type": "code",
   "execution_count": 2,
   "id": "a16062a7-1e37-4ed9-9990-6d02cf3eb8a1",
   "metadata": {},
   "outputs": [
    {
     "name": "stderr",
     "output_type": "stream",
     "text": [
      "\u001b[32m\u001b[1m  Activating\u001b[22m\u001b[39m environment at `~/MEGA/EMAp/NotebookToLatex.jl/Project.toml`\n"
     ]
    }
   ],
   "source": [
    "using Pkg\n",
    "Pkg.activate(\"../.\")"
   ]
  },
  {
   "cell_type": "code",
   "execution_count": 38,
   "id": "f8df656d-23fa-4c6f-a00a-9738c95e1776",
   "metadata": {},
   "outputs": [],
   "source": [
    "using Revise\n",
    "using NotebookToLatex\n",
    "import NotebookToLatex"
   ]
  },
  {
   "cell_type": "code",
   "execution_count": 60,
   "id": "4a2ddc4e-5f75-4013-9a31-fee359b0cc1e",
   "metadata": {},
   "outputs": [
    {
     "name": "stderr",
     "output_type": "stream",
     "text": [
      "┌ Warning: `LocalResource` **will not work** when you share the script/notebook with someone else, _unless they have those resources at exactly the same location on their file system_. \n",
      "│ \n",
      "│ ## Recommended alternatives (images)\n",
      "│ 1. Go to [imgur.com](https://imgur.com) and drag&drop the image to the page. Right click on the image, and select \"Copy image location\". You can now use the image like so: `PlutoUI.Resource(\"https://i.imgur.com/SAzsMMA.jpg\")`.\n",
      "│ 2. If your notebook is part of a git repository, place the image in the repository and use a relative path: `PlutoUI.LocalResource(\"../images/cat.jpg\")`.\n",
      "└ @ PlutoUI /home/davibarreira/.julia/packages/PlutoUI/iYlHi/src/Resource.jl:80\n"
     ]
    }
   ],
   "source": [
    "plutotolatex(\"./examplepluto.jl\")"
   ]
  },
  {
   "cell_type": "code",
   "execution_count": 55,
   "id": "c243b275-2e85-4cdb-b7d6-0ef4296f69ec",
   "metadata": {},
   "outputs": [
    {
     "name": "stdout",
     "output_type": "stream",
     "text": [
      "\n",
      "\\chapter{Chapter}\n",
      "\n",
      "\\section{Section}\n",
      "\n",
      "\\subsection{Subsection}\n",
      "\n",
      "\\subsubsection{Subsubsection}\n",
      "My text here with \\textbf{italics}, with \\textbf{bold}, and a \\href{https://davibarreira.github.io/}{link}.  Adding some math expression here with  $x=10$ and  $y = 10^2 + 2*2$. \n",
      "\\begin{displaymath}\n",
      "\td(\\omega(t_0),\\omega(t_1)) \\leq \\int^{t_1}_{t_0}g(s) ds.\n",
      "\\end{displaymath}\n",
      " Adding some code like  \\lstinline[style=julia]{plots}. Note that the  \\lstinline[style=julia]{using plots}  \n"
     ]
    }
   ],
   "source": [
    "md = read(\"./mdexample.md\", String);\n",
    "# NotebookToLatex.parseparagraph(split(md,\"\\n\")[7])\n",
    "println(NotebookToLatex.markdowntolatex(md))"
   ]
  },
  {
   "cell_type": "code",
   "execution_count": 32,
   "id": "ba6dd8aa-3f01-4fcf-94ea-6e5aa52f26b4",
   "metadata": {},
   "outputs": [],
   "source": [
    "# paragraph = split(md,\"\\n\")[7]\n",
    "# parsedparagraph = \"\"\n",
    "# for (i, sentence) in enumerate(split(paragraph, \"\\$\"))\n",
    "#     println(sentence)\n",
    "#     if iseven(i)\n",
    "#         # It's a math sentence, i.e text is between $ $, so nothing should be parsed\n",
    "#         parsedparagraph *= \"\\$\" * sentence * \"\\$\"\n",
    "#     else\n",
    "#         for (i, subsentence) in enumerate(split(sentence, \"`\"))\n",
    "#             if iseven(i)\n",
    "#                 # It's a code sentence, i.e text is between ` ` and is not a math sentence.\n",
    "#                 parsedparagraph *= \"\\\\lstinline{\" * subsentence * \"}\"\n",
    "#             else\n",
    "#                 parsedparagraph *= parsesentence(subsentence)\n",
    "#             end\n",
    "#         end\n",
    "\n",
    "#     end\n",
    "# end\n",
    "# parsedparagraph"
   ]
  },
  {
   "cell_type": "code",
   "execution_count": 25,
   "id": "aae49393-bb2c-4cf2-81d5-886d0db563dc",
   "metadata": {},
   "outputs": [
    {
     "data": {
      "text/plain": [
       "(true, true, true, true)"
      ]
     },
     "execution_count": 25,
     "metadata": {},
     "output_type": "execute_result"
    }
   ],
   "source": [
    "path = \"./project/\"\n",
    "createfolders(path)\n",
    "isdir(path * \"build_latex\"),isdir(path * \"build_latex/notebooks\"),\n",
    "    isdir(path * \"build_latex/figures\"),isdir(path * \"build_latex/frontmatter\")"
   ]
  },
  {
   "cell_type": "code",
   "execution_count": 26,
   "id": "792b8207-d6af-418d-81ae-8055dba20c48",
   "metadata": {},
   "outputs": [
    {
     "data": {
      "text/plain": [
       "true"
      ]
     },
     "execution_count": 26,
     "metadata": {},
     "output_type": "execute_result"
    }
   ],
   "source": [
    "createtemplate(path, :mathbook)\n",
    "isfile(path * \"build_latex/main.tex\")"
   ]
  },
  {
   "cell_type": "code",
   "execution_count": 27,
   "id": "9cd12bb7-49e8-457a-b329-1dbd45f2016d",
   "metadata": {},
   "outputs": [
    {
     "name": "stderr",
     "output_type": "stream",
     "text": [
      "┌ Warning: `LocalResource` **will not work** when you share the script/notebook with someone else, _unless they have those resources at exactly the same location on their file system_. \n",
      "│ \n",
      "│ ## Recommended alternatives (images)\n",
      "│ 1. Go to [imgur.com](https://imgur.com) and drag&drop the image to the page. Right click on the image, and select \"Copy image location\". You can now use the image like so: `PlutoUI.Resource(\"https://i.imgur.com/SAzsMMA.jpg\")`.\n",
      "│ 2. If your notebook is part of a git repository, place the image in the repository and use a relative path: `PlutoUI.LocalResource(\"../images/cat.jpg\")`.\n",
      "└ @ PlutoUI /home/davibarreira/.julia/packages/PlutoUI/iYlHi/src/Resource.jl:80\n"
     ]
    },
    {
     "data": {
      "text/plain": [
       "11-element Vector{Any}:\n",
       " (:nothing, \"\")\n",
       " (:plot, \"examplepluto_figure1.png\")\n",
       " (:nothing, \"\")\n",
       " nothing\n",
       " (:text, \"3-element Vector{Int64}:\\n 10\\n 10\\n 10\")\n",
       " (:text, \"10-element Vector{Float64}:\\n 0.4921458922876001\\n 0.5739458691188681\\n 0.2964674348645828\\n 0.37235661044537416\\n 0.4888182315233318\\n 0.797847822537217\\n 0.40753281227160065\\n 0.35725310104647656\\n 0.23367895475527245\\n 0.6386884755021935\")\n",
       " (:text, \"10-element Vector{Float64}:\\n 1.4921458922876\\n 1.5739458691188681\\n 1.2964674348645828\\n 1.3723566104453742\\n 1.4888182315233318\\n 1.797847822537217\\n 1.4075328122716007\\n 1.3572531010464766\\n 1.2336789547552724\\n 1.6386884755021935\")\n",
       " (:nothing, \"\")\n",
       " (:plot, \"examplepluto_figure2.pdf\")\n",
       " (:text, \"\\\"plotexample.png\\\"\")\n",
       " (:image, \"/home/davibarreira/MEGA/EMAp/NotebookToLatex.jl/example/plotexample.png\")"
      ]
     },
     "execution_count": 27,
     "metadata": {},
     "output_type": "execute_result"
    }
   ],
   "source": [
    "nb = extractnotebook(\"examplepluto.jl\");\n",
    "outputs  = collectoutputs(nb,path)"
   ]
  },
  {
   "cell_type": "code",
   "execution_count": null,
   "id": "18754bce-8c31-49f3-ae3d-ca02de4708bb",
   "metadata": {},
   "outputs": [],
   "source": []
  }
 ],
 "metadata": {
  "kernelspec": {
   "display_name": "JuliaFlux 1.6.3",
   "language": "julia",
   "name": "juliaflux-1.6"
  },
  "language_info": {
   "file_extension": ".jl",
   "mimetype": "application/julia",
   "name": "julia",
   "version": "1.6.3"
  }
 },
 "nbformat": 4,
 "nbformat_minor": 5
}
