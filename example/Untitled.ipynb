{
 "cells": [
  {
   "cell_type": "code",
   "execution_count": 1,
   "id": "07803546-5ab3-491a-ad1e-9ffb2aeda5b4",
   "metadata": {},
   "outputs": [
    {
     "name": "stderr",
     "output_type": "stream",
     "text": [
      "\u001b[32m\u001b[1m  Activating\u001b[22m\u001b[39m environment at `~/MEGA/EMAp/NotebookToLatex.jl/Project.toml`\n",
      "┌ Info: Precompiling NotebookToLatex [4acc56a1-9938-4ee1-a82a-abdf2d4f6bfc]\n",
      "└ @ Base loading.jl:1342\n"
     ]
    }
   ],
   "source": [
    "using Pkg\n",
    "Pkg.activate(\"../.\")\n",
    "using Revise\n",
    "import NotebookToLatex"
   ]
  },
  {
   "cell_type": "code",
   "execution_count": 24,
   "id": "d599d2fb-27a5-428e-9eb5-948136edf427",
   "metadata": {},
   "outputs": [
    {
     "data": {
      "text/plain": [
       "13-element Vector{Bool}:\n",
       " 0\n",
       " 0\n",
       " 0\n",
       " 0\n",
       " 0\n",
       " 0\n",
       " 1\n",
       " 0\n",
       " 0\n",
       " 0\n",
       " 1\n",
       " 0\n",
       " 0"
      ]
     },
     "execution_count": 24,
     "metadata": {},
     "output_type": "execute_result"
    }
   ],
   "source": [
    "import Pluto\n",
    "nb = Pluto.load_notebook_nobackup(\"../test/pluto/notebooktest.jl\");\n",
    "codes = [c.code for c in nb.cells]\n",
    "hidden = [c.code_folded for c in nb.cells]"
   ]
  },
  {
   "cell_type": "code",
   "execution_count": 52,
   "id": "28f6ec68-7089-413a-8838-4dd3af83f58d",
   "metadata": {},
   "outputs": [
    {
     "data": {
      "text/plain": [
       "3-element Vector{Any}:\n",
       " \"md\\\"Hello\\\"\\n\\n\"\n",
       " \"\\tmd\\\"\\\"\\\"\\nOka\\n\\\"\\\"\\\"\\n\\n\"\n",
       " \"\\n\\n\""
      ]
     },
     "execution_count": 52,
     "metadata": {},
     "output_type": "execute_result"
    }
   ],
   "source": [
    "NotebookToLatex.extractnotebook(\"./foo2.jl\")[:contents]"
   ]
  },
  {
   "cell_type": "code",
   "execution_count": 50,
   "id": "053f8429-7f7a-4d8d-9d74-a2d52b0a0f29",
   "metadata": {},
   "outputs": [
    {
     "data": {
      "text/plain": [
       "Dict{Symbol, Any} with 8 entries:\n",
       "  :codes        => Any[\"7b4b693d-c955-4c9b-97e8-56d28cf74e18\", \"bdad72d3-5744-4…\n",
       "  :notebookdir  => \"../test/pluto\"\n",
       "  :outputtag    => Any[\"showoutput\", \"showoutput\", \"showoutput\", \"showoutput\", …\n",
       "  :celltype     => Any[\"code\", \"code\", \"code\", \"code\", \"markdown\", \"code\", \"cod…\n",
       "  :order        => [5, 1, 2, 6, 7, 8, 3, 9, 10, 11, 12, 13, 4]\n",
       "  :view         => [\"showcode\", \"showcode\", \"hidecode\", \"showcode\", \"showcode\",…\n",
       "  :notebookname => \"notebooktest\"\n",
       "  :contents     => Any[\"using PlutoUI\\n\\n\", \"\\n\\t begin\\n\\tusing Plots\\n  ENV[\\…"
      ]
     },
     "execution_count": 50,
     "metadata": {},
     "output_type": "execute_result"
    }
   ],
   "source": [
    "NotebookToLatex.extractnotebook(\"../test/pluto/notebooktest.jl\")"
   ]
  },
  {
   "cell_type": "code",
   "execution_count": 30,
   "id": "4b8ee19a-6c48-4a44-a248-145258f7ca32",
   "metadata": {},
   "outputs": [
    {
     "data": {
      "text/plain": [
       "Dict{Symbol, Any} with 8 entries:\n",
       "  :codes        => Any[\"33012b19-0f0b-4943-aa99-e4a65a1de0f0\", \"43e5dfe4-90b2-4…\n",
       "  :notebookdir  => \"./\"\n",
       "  :outputtag    => Any[\"showoutput\", \"showoutput\"]\n",
       "  :celltype     => Any[\"markdown\", \"code\"]\n",
       "  :order        => [1, 2]\n",
       "  :view         => [\"hidecode\", \"showcode\"]\n",
       "  :notebookname => \"foo2\"\n",
       "  :contents     => Any[\"md\\\"Hello\\\"\\n\\n\", \"x = 1 + 1\\n\\n\"]"
      ]
     },
     "execution_count": 30,
     "metadata": {},
     "output_type": "execute_result"
    }
   ],
   "source": [
    "d = NotebookToLatex.extractnotebook(\"foo2.jl\")"
   ]
  },
  {
   "cell_type": "code",
   "execution_count": 44,
   "id": "aac253f8-1ec1-4de2-a0fb-f66f3b47efae",
   "metadata": {},
   "outputs": [
    {
     "data": {
      "text/plain": [
       "\"Hello\""
      ]
     },
     "execution_count": 44,
     "metadata": {},
     "output_type": "execute_result"
    }
   ],
   "source": [
    "NotebookToLatex.markdowntolatex(strip(d[:contents][1])[4:end-1],\"./\",\"./\")"
   ]
  },
  {
   "cell_type": "code",
   "execution_count": null,
   "id": "08ea064c-6129-4a96-a810-a76efc667c83",
   "metadata": {},
   "outputs": [],
   "source": []
  }
 ],
 "metadata": {
  "kernelspec": {
   "display_name": "JuliaFlux 1.6.3",
   "language": "julia",
   "name": "juliaflux-1.6"
  },
  "language_info": {
   "file_extension": ".jl",
   "mimetype": "application/julia",
   "name": "julia",
   "version": "1.6.3"
  }
 },
 "nbformat": 4,
 "nbformat_minor": 5
}
