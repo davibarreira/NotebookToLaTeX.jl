{
 "cells": [
  {
   "cell_type": "code",
   "execution_count": 2,
   "id": "5faf350f-a6c1-448e-afe3-660a22e42b2a",
   "metadata": {},
   "outputs": [
    {
     "name": "stderr",
     "output_type": "stream",
     "text": [
      "\u001b[32m\u001b[1m  Activating\u001b[22m\u001b[39m environment at `~/MEGA/EMAp/PlutoLatexConverter.jl/Project.toml`\n"
     ]
    }
   ],
   "source": [
    "using Pkg\n",
    "Pkg.activate(\".\")\n",
    "cd(\"./example/\")"
   ]
  },
  {
   "cell_type": "code",
   "execution_count": 3,
   "id": "64b12ad5-4c71-46f5-a436-a94e2cb457d4",
   "metadata": {},
   "outputs": [],
   "source": [
    "using Revise"
   ]
  },
  {
   "cell_type": "code",
   "execution_count": 4,
   "id": "c70566e3-33e9-4a7f-ac51-d5e1a75b0aa9",
   "metadata": {},
   "outputs": [
    {
     "name": "stderr",
     "output_type": "stream",
     "text": [
      "┌ Info: Precompiling PlutoLatexConverter [d1325287-e83a-42c1-9f4a-9cbc16300cd8]\n",
      "└ @ Base loading.jl:1342\n"
     ]
    }
   ],
   "source": [
    "using PlutoLatexConverter"
   ]
  },
  {
   "cell_type": "code",
   "execution_count": 5,
   "id": "500259f4-bf72-4481-b395-370a2da76ae5",
   "metadata": {},
   "outputs": [
    {
     "name": "stderr",
     "output_type": "stream",
     "text": [
      "┌ Warning: Package PlutoLatexConverter does not have PlutoUI in its dependencies:\n",
      "│ - If you have PlutoLatexConverter checked out for development and have\n",
      "│   added PlutoUI as a dependency but haven't updated your primary\n",
      "│   environment's manifest file, try `Pkg.resolve()`.\n",
      "│ - Otherwise you may need to report an issue with PlutoLatexConverter\n",
      "│ Loading PlutoUI into PlutoLatexConverter from project dependency, future warnings for PlutoLatexConverter are suppressed.\n",
      "└ @ nothing nothing:910\n"
     ]
    },
    {
     "name": "stdout",
     "output_type": "stream",
     "text": [
      "/home/davibarreira/MEGA/EMAp/PlutoLatexConverter.jl/example\n"
     ]
    },
    {
     "name": "stderr",
     "output_type": "stream",
     "text": [
      "WARNING: using Makie.plot in module Runner conflicts with an existing identifier.\n",
      "┌ Warning: `LocalResource` **will not work** when you share the script/notebook with someone else, _unless they have those resources at exactly the same location on their file system_. \n",
      "│ \n",
      "│ ## Recommended alternatives (images)\n",
      "│ 1. Go to [imgur.com](https://imgur.com) and drag&drop the image to the page. Right click on the image, and select \"Copy image location\". You can now use the image like so: `PlutoUI.Resource(\"https://i.imgur.com/SAzsMMA.jpg\")`.\n",
      "│ 2. If your notebook is part of a git repository, place the image in the repository and use a relative path: `PlutoUI.LocalResource(\"../images/cat.jpg\")`.\n",
      "└ @ PlutoUI /home/davibarreira/.julia/packages/PlutoUI/iYlHi/src/Resource.jl:80\n"
     ]
    }
   ],
   "source": [
    "plutotolatex(\"./examplepluto.jl\")"
   ]
  },
  {
   "cell_type": "code",
   "execution_count": null,
   "id": "27c60a11-b325-45b2-85b7-8bd19756e838",
   "metadata": {},
   "outputs": [],
   "source": []
  }
 ],
 "metadata": {
  "kernelspec": {
   "display_name": "JuliaFlux 1.6.3",
   "language": "julia",
   "name": "juliaflux-1.6"
  },
  "language_info": {
   "file_extension": ".jl",
   "mimetype": "application/julia",
   "name": "julia",
   "version": "1.6.3"
  }
 },
 "nbformat": 4,
 "nbformat_minor": 5
}
