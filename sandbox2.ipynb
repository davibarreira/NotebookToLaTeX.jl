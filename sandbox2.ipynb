{
 "cells": [
  {
   "cell_type": "code",
   "execution_count": 2,
   "id": "c308049d-bf2b-4590-9106-fa468ac4fb33",
   "metadata": {},
   "outputs": [
    {
     "name": "stderr",
     "output_type": "stream",
     "text": [
      "\u001b[32m\u001b[1m  Activating\u001b[22m\u001b[39m environment at `~/MEGA/EMAp/PlutoLatexConverter.jl/Project.toml`\n"
     ]
    }
   ],
   "source": [
    "using Pkg\n",
    "Pkg.activate(\".\")"
   ]
  },
  {
   "cell_type": "code",
   "execution_count": 3,
   "id": "209b0ced-b1b5-4fa3-af4e-a628a46c9400",
   "metadata": {},
   "outputs": [],
   "source": [
    "cd(\"./example/\")"
   ]
  },
  {
   "cell_type": "code",
   "execution_count": 4,
   "id": "64b12ad5-4c71-46f5-a436-a94e2cb457d4",
   "metadata": {},
   "outputs": [],
   "source": [
    "using Revise"
   ]
  },
  {
   "cell_type": "code",
   "execution_count": 20,
   "id": "c70566e3-33e9-4a7f-ac51-d5e1a75b0aa9",
   "metadata": {},
   "outputs": [],
   "source": [
    "using PlutoLatexConverter"
   ]
  },
  {
   "cell_type": "code",
   "execution_count": 22,
   "id": "500259f4-bf72-4481-b395-370a2da76ae5",
   "metadata": {},
   "outputs": [
    {
     "name": "stderr",
     "output_type": "stream",
     "text": [
      "┌ Warning: `LocalResource` **will not work** when you share the script/notebook with someone else, _unless they have those resources at exactly the same location on their file system_. \n",
      "│ \n",
      "│ ## Recommended alternatives (images)\n",
      "│ 1. Go to [imgur.com](https://imgur.com) and drag&drop the image to the page. Right click on the image, and select \"Copy image location\". You can now use the image like so: `PlutoUI.Resource(\"https://i.imgur.com/SAzsMMA.jpg\")`.\n",
      "│ 2. If your notebook is part of a git repository, place the image in the repository and use a relative path: `PlutoUI.LocalResource(\"../images/cat.jpg\")`.\n",
      "└ @ PlutoUI /home/davibarreira/.julia/packages/PlutoUI/iYlHi/src/Resource.jl:80\n"
     ]
    }
   ],
   "source": [
    "plutotolatex(\"./examplepluto.jl\", template=:book)"
   ]
  },
  {
   "cell_type": "code",
   "execution_count": 16,
   "id": "27c60a11-b325-45b2-85b7-8bd19756e838",
   "metadata": {},
   "outputs": [
    {
     "data": {
      "text/plain": [
       "insertlinebelow (generic function with 1 method)"
      ]
     },
     "execution_count": 16,
     "metadata": {},
     "output_type": "execute_result"
    }
   ],
   "source": [
    "function skiplines(io::IO, n)\n",
    "    i = 1\n",
    "    while i <= n\n",
    "       eof(io) && error(\"File contains less than $n lines\")\n",
    "       i += read(io, Char) === '\\n'\n",
    "        end\n",
    "end\n",
    "    \n",
    "# Function based on https://discourse.julialang.org/t/write-to-a-particular-line-in-a-file/50179\n",
    "function writetext(file::String, text::String, linenumber::Integer, endline=true)\n",
    "    f = open(file, \"r+\");\n",
    "    if endline\n",
    "        skiplines(f, linenumber);\n",
    "        skip(f, -1)\n",
    "    else\n",
    "        skiplines(f, linenumber-1);\n",
    "    end\n",
    "    mark(f)\n",
    "    buf = IOBuffer()\n",
    "    write(buf, f)\n",
    "    seekstart(buf)\n",
    "    reset(f)\n",
    "    print(f, text);\n",
    "    write(f, buf)\n",
    "    close(f)\n",
    "end\n",
    "\n",
    "function insertlinebelow(file::String, text::String, linenumber::Integer)\n",
    "    writetext(file, \"\\n\"*text, linenumber)\n",
    "end"
   ]
  },
  {
   "cell_type": "code",
   "execution_count": 17,
   "id": "35dbce1f-3617-4278-b7db-c26896f63958",
   "metadata": {},
   "outputs": [],
   "source": [
    "insertlinebelow(\"./build_latex/main.tex\",\"\\\\include{./notebooks/new.jl}\",58)"
   ]
  },
  {
   "cell_type": "code",
   "execution_count": null,
   "id": "47a1e5bb-3545-4de1-9be8-236ef25e211d",
   "metadata": {},
   "outputs": [],
   "source": []
  }
 ],
 "metadata": {
  "kernelspec": {
   "display_name": "JuliaFlux 1.6.3",
   "language": "julia",
   "name": "juliaflux-1.6"
  },
  "language_info": {
   "file_extension": ".jl",
   "mimetype": "application/julia",
   "name": "julia",
   "version": "1.6.3"
  }
 },
 "nbformat": 4,
 "nbformat_minor": 5
}
