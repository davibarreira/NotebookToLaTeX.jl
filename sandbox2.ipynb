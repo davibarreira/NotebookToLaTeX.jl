{
 "cells": [
  {
   "cell_type": "code",
   "execution_count": 22,
   "id": "c308049d-bf2b-4590-9106-fa468ac4fb33",
   "metadata": {},
   "outputs": [
    {
     "name": "stderr",
     "output_type": "stream",
     "text": [
      "\u001b[32m\u001b[1m  Activating\u001b[22m\u001b[39m environment at `~/MEGA/EMAp/PlutoLatexConverter.jl/Project.toml`\n"
     ]
    }
   ],
   "source": [
    "using Pkg\n",
    "Pkg.activate(\".\")"
   ]
  },
  {
   "cell_type": "code",
   "execution_count": 23,
   "id": "209b0ced-b1b5-4fa3-af4e-a628a46c9400",
   "metadata": {},
   "outputs": [],
   "source": [
    "cd(\"./example/\")"
   ]
  },
  {
   "cell_type": "code",
   "execution_count": 32,
   "id": "64b12ad5-4c71-46f5-a436-a94e2cb457d4",
   "metadata": {},
   "outputs": [],
   "source": [
    "using Revise"
   ]
  },
  {
   "cell_type": "code",
   "execution_count": 33,
   "id": "c70566e3-33e9-4a7f-ac51-d5e1a75b0aa9",
   "metadata": {},
   "outputs": [],
   "source": [
    "using PlutoLatexConverter"
   ]
  },
  {
   "cell_type": "code",
   "execution_count": 90,
   "id": "500259f4-bf72-4481-b395-370a2da76ae5",
   "metadata": {},
   "outputs": [
    {
     "name": "stderr",
     "output_type": "stream",
     "text": [
      "┌ Warning: `LocalResource` **will not work** when you share the script/notebook with someone else, _unless they have those resources at exactly the same location on their file system_. \n",
      "│ \n",
      "│ ## Recommended alternatives (images)\n",
      "│ 1. Go to [imgur.com](https://imgur.com) and drag&drop the image to the page. Right click on the image, and select \"Copy image location\". You can now use the image like so: `PlutoUI.Resource(\"https://i.imgur.com/SAzsMMA.jpg\")`.\n",
      "│ 2. If your notebook is part of a git repository, place the image in the repository and use a relative path: `PlutoUI.LocalResource(\"../images/cat.jpg\")`.\n",
      "└ @ PlutoUI /home/davibarreira/.julia/packages/PlutoUI/iYlHi/src/Resource.jl:80\n"
     ]
    }
   ],
   "source": [
    "plutotolatex(\"./examplepluto.jl\", template=:book)"
   ]
  },
  {
   "cell_type": "code",
   "execution_count": 37,
   "id": "d6053796-5aa1-406b-8366-91aa4fd09611",
   "metadata": {},
   "outputs": [
    {
     "data": {
      "text/plain": [
       "\"# Chapter\\n## Section\\n### Subsection\\n#### Subsubsection\\nMy text here with *italics*, with **bold**, and a [link](https://davibarreira.github.io/).\\n\\nAdding some math expression here with \\$x=10\\$ and\\n```math\\nd(\\\\omega(t_0),\\\\omega(t_1)) \\\\leq \\\\int^{t_1}_{t_0}g(s) ds.\\n```\\n\\nAdding some code like `plots`. Note that the `using plots`\\n\""
      ]
     },
     "execution_count": 37,
     "metadata": {},
     "output_type": "execute_result"
    }
   ],
   "source": [
    "md = read(\"../example/mdexample.md\", String)\n"
   ]
  },
  {
   "cell_type": "code",
   "execution_count": 88,
   "id": "2f1266ab-8128-40e9-9207-becc77f57ad2",
   "metadata": {},
   "outputs": [
    {
     "name": "stdout",
     "output_type": "stream",
     "text": [
      "1\n",
      "2\n",
      "3\n",
      "4\n",
      "5\n",
      "6\n",
      "7\n",
      "8\n",
      "9\n",
      "10\n",
      "11\n",
      "12\n",
      "13\n"
     ]
    }
   ],
   "source": [
    "for (i,line) in enumerate(split(md, \"\\n\"))\n",
    "    println(i)\n",
    "end"
   ]
  },
  {
   "cell_type": "code",
   "execution_count": 84,
   "id": "983da847-bac3-415b-adf9-ff09276224c2",
   "metadata": {},
   "outputs": [
    {
     "name": "stdout",
     "output_type": "stream",
     "text": [
      "\\chapter{Chapter}\n",
      "\n",
      "\\section{Section}\n",
      "\n",
      "\\subsection{Subsection}\n",
      "\n",
      "\\subsubsection{Subsubsection}\n",
      "\n",
      "\\begin{displaymath}\n",
      "\td(\\omega(t_0),\\omega(t_1)) \\leq \\int^{t_1}_{t_0}g(s) ds.\n",
      "\\end{displaymath}\n"
     ]
    }
   ],
   "source": [
    "tag=false\n",
    "component = \"\"\n",
    "parsedtext = \"\"\n",
    "a=\"\"\n",
    "for line in split(md, \"\\n\")\n",
    "    l = strip(line)\n",
    "    if startswith(l,\"####\")\n",
    "        println(\"\\\\subsubsection{\"*l[6:end]*\"}\\n\")\n",
    "        parsedtext *= \"\\\\subsubsection{\"*l[6:end]*\"}\\n\"\n",
    "    elseif startswith(l,\"###\")\n",
    "        println(\"\\\\subsection{\"*l[5:end]*\"}\\n\")\n",
    "        parsedtext *= \"\\\\subsection{\"*l[5:end]*\"}\\n\"\n",
    "    elseif startswith(l,\"##\")\n",
    "        println(\"\\\\section{\"*l[4:end]*\"}\\n\")\n",
    "        parsedtext *= \"\\\\section{\"*l[4:end]*\"}\\n\"\n",
    "    elseif startswith(l,\"#\")\n",
    "        println(\"\\\\chapter{\"*l[3:end]*\"}\\n\")\n",
    "        parsedtext *= \"\\\\chapter{\"*l[3:end]*\"}\\n\"\n",
    "    end\n",
    "    \n",
    "    if startswith(l, \"```math\")\n",
    "        println(\"\\\\begin{displaymath}\")\n",
    "        tag = !tag\n",
    "        parsedtext *= \"\\\\begin{displaymath}\\n\"\n",
    "        component = \"displaymath\"\n",
    "        continue\n",
    "    elseif startswith(l, \"```\") && tag\n",
    "        println(\"\\\\end{\"*component*\"}\")\n",
    "        tag = !tag\n",
    "        parsedtext *= \"\\\\end{\"*component*\"}\"\n",
    "        continue\n",
    "    end\n",
    "    if tag\n",
    "        println(\"\\t\"*l)\n",
    "        parsedtext *= \"\\t\"*l\n",
    "    end\n",
    "    if !tag\n",
    "        if !startswith(l,\"#\")\n",
    "            a*=l\n",
    "        end\n",
    "    end\n",
    "end"
   ]
  },
  {
   "cell_type": "code",
   "execution_count": 86,
   "id": "2b86094a-8aea-43a6-9b0c-114dcb60beee",
   "metadata": {},
   "outputs": [
    {
     "name": "stdout",
     "output_type": "stream",
     "text": [
      "My\n",
      "text\n",
      "here\n",
      "with\n",
      "*italics*,\n",
      "with\n",
      "**bold**,\n",
      "and\n",
      "a\n",
      "[link](https://davibarreira.github.io/).Adding\n",
      "some\n",
      "math\n",
      "expression\n",
      "here\n",
      "with\n",
      "$x=10$\n",
      "andAdding\n",
      "some\n",
      "code\n",
      "like\n",
      "`plots`.\n",
      "Note\n",
      "that\n",
      "the\n",
      "`using\n",
      "plots`\n"
     ]
    }
   ],
   "source": [
    "for word in split(a, \" \")\n",
    "    println(word)\n",
    "end"
   ]
  },
  {
   "cell_type": "code",
   "execution_count": null,
   "id": "85cfcaa5-24f8-4f89-87fd-3b3f87a38b30",
   "metadata": {},
   "outputs": [],
   "source": []
  }
 ],
 "metadata": {
  "kernelspec": {
   "display_name": "JuliaFlux 1.6.3",
   "language": "julia",
   "name": "juliaflux-1.6"
  },
  "language_info": {
   "file_extension": ".jl",
   "mimetype": "application/julia",
   "name": "julia",
   "version": "1.6.3"
  }
 },
 "nbformat": 4,
 "nbformat_minor": 5
}
